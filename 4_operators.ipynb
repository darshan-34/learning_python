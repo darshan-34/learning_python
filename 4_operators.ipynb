{
 "cells": [
  {
   "cell_type": "code",
   "execution_count": 1,
   "id": "9b716921-b87c-44ca-88b0-b8b92dab628a",
   "metadata": {},
   "outputs": [],
   "source": [
    "# python operators - special keywords/symbols that are used \n",
    "#                   to perform operations on values or variables.\n",
    "# the purpose of operators is to  manage, compute and make decision\n",
    "# using the data."
   ]
  },
  {
   "cell_type": "code",
   "execution_count": 3,
   "id": "1541b2c2-f989-43aa-a0a4-e6627487d399",
   "metadata": {},
   "outputs": [
    {
     "data": {
      "text/plain": [
       "5"
      ]
     },
     "execution_count": 3,
     "metadata": {},
     "output_type": "execute_result"
    }
   ],
   "source": [
    "a = 3\n",
    "b = 2\n",
    "a+b"
   ]
  },
  {
   "cell_type": "code",
   "execution_count": 4,
   "id": "7be23052-e4fb-4f65-a212-d1dbe88dbd37",
   "metadata": {},
   "outputs": [],
   "source": [
    "#arithmatic operators"
   ]
  },
  {
   "cell_type": "code",
   "execution_count": 5,
   "id": "9a867012-a74e-4dac-9b94-6ddf0e30b772",
   "metadata": {},
   "outputs": [
    {
     "data": {
      "text/plain": [
       "5"
      ]
     },
     "execution_count": 5,
     "metadata": {},
     "output_type": "execute_result"
    }
   ],
   "source": [
    "add = a+b\n",
    "add"
   ]
  },
  {
   "cell_type": "code",
   "execution_count": 6,
   "id": "f281034f-d640-4c69-b226-d52a509ea938",
   "metadata": {},
   "outputs": [
    {
     "data": {
      "text/plain": [
       "401"
      ]
     },
     "execution_count": 6,
     "metadata": {},
     "output_type": "execute_result"
    }
   ],
   "source": [
    "422-21\n"
   ]
  },
  {
   "cell_type": "code",
   "execution_count": 7,
   "id": "5dc2a9e3-2f6c-499d-b869-9bd4546bdbfa",
   "metadata": {},
   "outputs": [
    {
     "data": {
      "text/plain": [
       "7429"
      ]
     },
     "execution_count": 7,
     "metadata": {},
     "output_type": "execute_result"
    }
   ],
   "source": [
    "23*323"
   ]
  },
  {
   "cell_type": "code",
   "execution_count": 10,
   "id": "9ffa7ed2-6806-4e72-81d5-e0b997ac2755",
   "metadata": {},
   "outputs": [
    {
     "data": {
      "text/plain": [
       "1.5"
      ]
     },
     "execution_count": 10,
     "metadata": {},
     "output_type": "execute_result"
    }
   ],
   "source": [
    "div = a/b\n",
    "div"
   ]
  },
  {
   "cell_type": "code",
   "execution_count": 13,
   "id": "fee2733e-9038-4ed9-bf53-3de2ec1e223e",
   "metadata": {},
   "outputs": [
    {
     "data": {
      "text/plain": [
       "1"
      ]
     },
     "execution_count": 13,
     "metadata": {},
     "output_type": "execute_result"
    }
   ],
   "source": [
    "div_round = a//b\n",
    "div_round"
   ]
  },
  {
   "cell_type": "code",
   "execution_count": 15,
   "id": "978f132b-7d32-4034-9b7e-609d4eb71445",
   "metadata": {},
   "outputs": [
    {
     "data": {
      "text/plain": [
       "1"
      ]
     },
     "execution_count": 15,
     "metadata": {},
     "output_type": "execute_result"
    }
   ],
   "source": [
    "modulus = a%b # gives the remainder\n",
    "modulus"
   ]
  },
  {
   "cell_type": "code",
   "execution_count": 16,
   "id": "9d8f7c7e-0143-4e73-bd2b-7a93f4c7fe33",
   "metadata": {},
   "outputs": [
    {
     "data": {
      "text/plain": [
       "9"
      ]
     },
     "execution_count": 16,
     "metadata": {},
     "output_type": "execute_result"
    }
   ],
   "source": [
    "power = a**b #gives the powered value\n",
    "power"
   ]
  },
  {
   "cell_type": "code",
   "execution_count": 19,
   "id": "b502df29-1cf1-4f68-b626-4607b3a37ecb",
   "metadata": {},
   "outputs": [
    {
     "data": {
      "text/plain": [
       "False"
      ]
     },
     "execution_count": 19,
     "metadata": {},
     "output_type": "execute_result"
    }
   ],
   "source": [
    "#comparison operator >> compare two values >> returns a boolean value\n",
    "2 == 2"
   ]
  },
  {
   "cell_type": "code",
   "execution_count": 21,
   "id": "3cfc783b-73ab-4a23-8476-677871806142",
   "metadata": {},
   "outputs": [
    {
     "data": {
      "text/plain": [
       "False"
      ]
     },
     "execution_count": 21,
     "metadata": {},
     "output_type": "execute_result"
    }
   ],
   "source": [
    "2 != 2"
   ]
  },
  {
   "cell_type": "code",
   "execution_count": 22,
   "id": "bbd0400e-1832-4b8b-8a14-9773561edcf5",
   "metadata": {},
   "outputs": [
    {
     "data": {
      "text/plain": [
       "True"
      ]
     },
     "execution_count": 22,
     "metadata": {},
     "output_type": "execute_result"
    }
   ],
   "source": [
    "10 > 2"
   ]
  },
  {
   "cell_type": "code",
   "execution_count": 23,
   "id": "83497c62-9e22-4cb2-9249-21c2383d8780",
   "metadata": {},
   "outputs": [
    {
     "data": {
      "text/plain": [
       "True"
      ]
     },
     "execution_count": 23,
     "metadata": {},
     "output_type": "execute_result"
    }
   ],
   "source": [
    "5>=5"
   ]
  },
  {
   "cell_type": "code",
   "execution_count": 24,
   "id": "674b7777-2db5-4adf-be32-763a3848c949",
   "metadata": {},
   "outputs": [
    {
     "data": {
      "text/plain": [
       "False"
      ]
     },
     "execution_count": 24,
     "metadata": {},
     "output_type": "execute_result"
    }
   ],
   "source": [
    "3 <= -1"
   ]
  },
  {
   "cell_type": "code",
   "execution_count": 26,
   "id": "2eb8c401-f541-4c7f-928d-1a4387866b2a",
   "metadata": {},
   "outputs": [],
   "source": [
    "#logical operator\n",
    "\n",
    "#and\n",
    "#or\n",
    "#not"
   ]
  },
  {
   "cell_type": "code",
   "execution_count": 28,
   "id": "17b7b55f-10c6-4715-a99a-7dc37e28d0fa",
   "metadata": {},
   "outputs": [
    {
     "data": {
      "text/plain": [
       "1"
      ]
     },
     "execution_count": 28,
     "metadata": {},
     "output_type": "execute_result"
    }
   ],
   "source": [
    "True - False"
   ]
  },
  {
   "cell_type": "code",
   "execution_count": 29,
   "id": "37a8daeb-d776-4b92-85af-97dbeffa5aae",
   "metadata": {},
   "outputs": [
    {
     "data": {
      "text/plain": [
       "0"
      ]
     },
     "execution_count": 29,
     "metadata": {},
     "output_type": "execute_result"
    }
   ],
   "source": [
    "True * False"
   ]
  },
  {
   "cell_type": "code",
   "execution_count": 30,
   "id": "93a42cdb-5d4e-41d8-a3a0-201e8bdf4ce5",
   "metadata": {},
   "outputs": [
    {
     "data": {
      "text/plain": [
       "-1"
      ]
     },
     "execution_count": 30,
     "metadata": {},
     "output_type": "execute_result"
    }
   ],
   "source": [
    "False - True"
   ]
  },
  {
   "cell_type": "code",
   "execution_count": 32,
   "id": "ffec365e-c1cb-407e-9be0-4d62d60960cd",
   "metadata": {},
   "outputs": [
    {
     "data": {
      "text/plain": [
       "1"
      ]
     },
     "execution_count": 32,
     "metadata": {},
     "output_type": "execute_result"
    }
   ],
   "source": [
    "True - (-False)"
   ]
  },
  {
   "cell_type": "code",
   "execution_count": 33,
   "id": "d0095b73-49f0-4f32-a719-5fd45fcdb2bb",
   "metadata": {},
   "outputs": [
    {
     "data": {
      "text/plain": [
       "False"
      ]
     },
     "execution_count": 33,
     "metadata": {},
     "output_type": "execute_result"
    }
   ],
   "source": [
    "True and False"
   ]
  },
  {
   "cell_type": "code",
   "execution_count": 34,
   "id": "10d3b66b-578a-4d16-abb6-dbecf5bd6797",
   "metadata": {},
   "outputs": [
    {
     "data": {
      "text/plain": [
       "True"
      ]
     },
     "execution_count": 34,
     "metadata": {},
     "output_type": "execute_result"
    }
   ],
   "source": [
    "True or False"
   ]
  },
  {
   "cell_type": "code",
   "execution_count": 35,
   "id": "756e9f12-26b4-437a-a7af-61b7e3b826ef",
   "metadata": {},
   "outputs": [
    {
     "data": {
      "text/plain": [
       "True"
      ]
     },
     "execution_count": 35,
     "metadata": {},
     "output_type": "execute_result"
    }
   ],
   "source": [
    "not False"
   ]
  },
  {
   "cell_type": "code",
   "execution_count": 36,
   "id": "665ab957-e72f-449a-b8bb-29dc314b9be0",
   "metadata": {},
   "outputs": [
    {
     "data": {
      "text/plain": [
       "False"
      ]
     },
     "execution_count": 36,
     "metadata": {},
     "output_type": "execute_result"
    }
   ],
   "source": [
    "not True"
   ]
  },
  {
   "cell_type": "code",
   "execution_count": 38,
   "id": "d76755df-8f7d-497e-bc28-ac514b73b559",
   "metadata": {},
   "outputs": [],
   "source": [
    "#assignment operator\n",
    "a = 10"
   ]
  },
  {
   "cell_type": "code",
   "execution_count": 39,
   "id": "34a3610a-79ae-4c25-b51c-712fe1a1b144",
   "metadata": {},
   "outputs": [
    {
     "data": {
      "text/plain": [
       "10"
      ]
     },
     "execution_count": 39,
     "metadata": {},
     "output_type": "execute_result"
    }
   ],
   "source": [
    "a"
   ]
  },
  {
   "cell_type": "code",
   "execution_count": 40,
   "id": "c63e9a20-6e1b-40d8-8f20-525f0a9efeb5",
   "metadata": {},
   "outputs": [
    {
     "data": {
      "text/plain": [
       "29"
      ]
     },
     "execution_count": 40,
     "metadata": {},
     "output_type": "execute_result"
    }
   ],
   "source": [
    "a += 19\n",
    "a"
   ]
  },
  {
   "cell_type": "code",
   "execution_count": 42,
   "id": "9c2d5857-97ed-43cb-989c-e7e51c5f55c4",
   "metadata": {},
   "outputs": [
    {
     "data": {
      "text/plain": [
       "False"
      ]
     },
     "execution_count": 42,
     "metadata": {},
     "output_type": "execute_result"
    }
   ],
   "source": [
    "#membership operator\n",
    "a = \"darshan\"\n",
    "\"p\" in a"
   ]
  },
  {
   "cell_type": "code",
   "execution_count": 43,
   "id": "ebfdbf92-103e-4879-adb4-3c93dddd7f01",
   "metadata": {},
   "outputs": [
    {
     "data": {
      "text/plain": [
       "True"
      ]
     },
     "execution_count": 43,
     "metadata": {},
     "output_type": "execute_result"
    }
   ],
   "source": [
    "\"p\" not in a"
   ]
  },
  {
   "cell_type": "code",
   "execution_count": 44,
   "id": "ae998212-8002-4ddc-9f26-526875c17e5c",
   "metadata": {},
   "outputs": [
    {
     "data": {
      "text/plain": [
       "False"
      ]
     },
     "execution_count": 44,
     "metadata": {},
     "output_type": "execute_result"
    }
   ],
   "source": [
    "list_s = [\"scrapping\", \"powerbi\"]\n",
    "\"scraping\" in list_s"
   ]
  },
  {
   "cell_type": "code",
   "execution_count": 46,
   "id": "e909dfa6-0ab0-4593-82c8-e5d4aa37a8ce",
   "metadata": {},
   "outputs": [],
   "source": [
    "#identity operator >> compares the location of the two object/variable\n",
    "var1 = 334\n",
    "var2 = 981"
   ]
  },
  {
   "cell_type": "code",
   "execution_count": 47,
   "id": "d2446378-a2fd-45d5-b96d-87aa34efbe1f",
   "metadata": {},
   "outputs": [
    {
     "data": {
      "text/plain": [
       "False"
      ]
     },
     "execution_count": 47,
     "metadata": {},
     "output_type": "execute_result"
    }
   ],
   "source": [
    "var1 is var2"
   ]
  },
  {
   "cell_type": "code",
   "execution_count": 48,
   "id": "c15437b5-6563-44ab-a2fa-ecf1698d3144",
   "metadata": {},
   "outputs": [
    {
     "data": {
      "text/plain": [
       "True"
      ]
     },
     "execution_count": 48,
     "metadata": {},
     "output_type": "execute_result"
    }
   ],
   "source": [
    "var1 is not var2"
   ]
  },
  {
   "cell_type": "code",
   "execution_count": 49,
   "id": "a7c67177-c218-41f4-98e0-a768571e0cf0",
   "metadata": {},
   "outputs": [
    {
     "data": {
      "text/plain": [
       "True"
      ]
     },
     "execution_count": 49,
     "metadata": {},
     "output_type": "execute_result"
    }
   ],
   "source": [
    "var3 = var2\n",
    "var2 is var3"
   ]
  },
  {
   "cell_type": "code",
   "execution_count": 1,
   "id": "369940df-d932-471b-a0a6-4b749c90f9cd",
   "metadata": {},
   "outputs": [
    {
     "data": {
      "text/plain": [
       "10"
      ]
     },
     "execution_count": 1,
     "metadata": {},
     "output_type": "execute_result"
    }
   ],
   "source": [
    "# bitwise operators >> operations at bit level, manipulating\n",
    "#                      individual bits within the integer\n",
    "10 & 10"
   ]
  },
  {
   "cell_type": "code",
   "execution_count": 2,
   "id": "f82eede9-07d9-42b7-b4bf-8fcdcebe4661",
   "metadata": {},
   "outputs": [
    {
     "data": {
      "text/plain": [
       "'0b1010'"
      ]
     },
     "execution_count": 2,
     "metadata": {},
     "output_type": "execute_result"
    }
   ],
   "source": [
    "bin(10)"
   ]
  },
  {
   "cell_type": "code",
   "execution_count": 11,
   "id": "8512fbaf-fb18-4bc4-bc89-abc85076e46e",
   "metadata": {},
   "outputs": [
    {
     "data": {
      "text/plain": [
       "2"
      ]
     },
     "execution_count": 11,
     "metadata": {},
     "output_type": "execute_result"
    }
   ],
   "source": [
    "# bitwise AND (&)\n",
    "18&3"
   ]
  },
  {
   "cell_type": "code",
   "execution_count": 4,
   "id": "e6291798-53bf-4ee1-b5aa-4e97984a703f",
   "metadata": {},
   "outputs": [
    {
     "data": {
      "text/plain": [
       "'0b10010'"
      ]
     },
     "execution_count": 4,
     "metadata": {},
     "output_type": "execute_result"
    }
   ],
   "source": [
    "bin(18)"
   ]
  },
  {
   "cell_type": "code",
   "execution_count": 5,
   "id": "e76a20bf-c964-4281-837d-ca623cf0856e",
   "metadata": {},
   "outputs": [
    {
     "data": {
      "text/plain": [
       "'0b11'"
      ]
     },
     "execution_count": 5,
     "metadata": {},
     "output_type": "execute_result"
    }
   ],
   "source": [
    "bin(3)"
   ]
  },
  {
   "cell_type": "code",
   "execution_count": 6,
   "id": "07e35fd1-b061-46d0-abdd-bab1ff663986",
   "metadata": {},
   "outputs": [
    {
     "data": {
      "text/plain": [
       "'0b101'"
      ]
     },
     "execution_count": 6,
     "metadata": {},
     "output_type": "execute_result"
    }
   ],
   "source": [
    "bin(5)"
   ]
  },
  {
   "cell_type": "code",
   "execution_count": 7,
   "id": "864e45ab-099d-4a46-b6a8-b71b1f473cea",
   "metadata": {},
   "outputs": [
    {
     "data": {
      "text/plain": [
       "'0b10'"
      ]
     },
     "execution_count": 7,
     "metadata": {},
     "output_type": "execute_result"
    }
   ],
   "source": [
    "bin(2)"
   ]
  },
  {
   "cell_type": "code",
   "execution_count": 10,
   "id": "5ac8155f-5f58-4ddf-a3b6-edbcdf036bf9",
   "metadata": {},
   "outputs": [
    {
     "data": {
      "text/plain": [
       "7"
      ]
     },
     "execution_count": 10,
     "metadata": {},
     "output_type": "execute_result"
    }
   ],
   "source": [
    "# bitwise OR (|)\n",
    "5 | 2"
   ]
  },
  {
   "cell_type": "code",
   "execution_count": 12,
   "id": "7f5fb38e-dfff-4c64-8e90-92347cbc5ada",
   "metadata": {},
   "outputs": [
    {
     "data": {
      "text/plain": [
       "-4"
      ]
     },
     "execution_count": 12,
     "metadata": {},
     "output_type": "execute_result"
    }
   ],
   "source": [
    "# bitwise negation (~)\n",
    "~3"
   ]
  },
  {
   "cell_type": "code",
   "execution_count": 13,
   "id": "19eafeee-0f30-45a1-9819-03899aa7859f",
   "metadata": {},
   "outputs": [
    {
     "data": {
      "text/plain": [
       "-43"
      ]
     },
     "execution_count": 13,
     "metadata": {},
     "output_type": "execute_result"
    }
   ],
   "source": [
    "~42"
   ]
  },
  {
   "cell_type": "code",
   "execution_count": 14,
   "id": "38a37f17-d3f5-46fa-ae1b-f5266da15a5f",
   "metadata": {},
   "outputs": [
    {
     "data": {
      "text/plain": [
       "-983"
      ]
     },
     "execution_count": 14,
     "metadata": {},
     "output_type": "execute_result"
    }
   ],
   "source": [
    "~982"
   ]
  },
  {
   "cell_type": "code",
   "execution_count": 16,
   "id": "eb4574dd-a66e-4c9a-b065-df0668ef5291",
   "metadata": {},
   "outputs": [
    {
     "data": {
      "text/plain": [
       "7"
      ]
     },
     "execution_count": 16,
     "metadata": {},
     "output_type": "execute_result"
    }
   ],
   "source": [
    "# bitwise xor (^)\n",
    "# it return 1 if only a single \"1\" is present across all the inputs\n",
    "4 ^ 3"
   ]
  },
  {
   "cell_type": "code",
   "execution_count": 17,
   "id": "0c18f056-1d05-4dab-bb94-8d51d8c966c5",
   "metadata": {},
   "outputs": [
    {
     "data": {
      "text/plain": [
       "'0b100'"
      ]
     },
     "execution_count": 17,
     "metadata": {},
     "output_type": "execute_result"
    }
   ],
   "source": [
    "bin(4)"
   ]
  },
  {
   "cell_type": "code",
   "execution_count": 18,
   "id": "33c80466-2c2a-4395-81da-21a8229103b8",
   "metadata": {},
   "outputs": [
    {
     "data": {
      "text/plain": [
       "'0b11'"
      ]
     },
     "execution_count": 18,
     "metadata": {},
     "output_type": "execute_result"
    }
   ],
   "source": [
    "bin(3)"
   ]
  },
  {
   "cell_type": "code",
   "execution_count": 19,
   "id": "7e2ca8cb-a81c-4515-8eb7-bf029f82d2d3",
   "metadata": {},
   "outputs": [
    {
     "data": {
      "text/plain": [
       "4"
      ]
     },
     "execution_count": 19,
     "metadata": {},
     "output_type": "execute_result"
    }
   ],
   "source": [
    "2 ^ 6"
   ]
  },
  {
   "cell_type": "code",
   "execution_count": 21,
   "id": "aa35b250-245c-467d-b2c3-145eff680fbc",
   "metadata": {},
   "outputs": [
    {
     "data": {
      "text/plain": [
       "'0b10'"
      ]
     },
     "execution_count": 21,
     "metadata": {},
     "output_type": "execute_result"
    }
   ],
   "source": [
    "bin(2)"
   ]
  },
  {
   "cell_type": "code",
   "execution_count": 22,
   "id": "0c14f4f7-e08e-49e7-b7d5-cc891a43eed3",
   "metadata": {},
   "outputs": [
    {
     "data": {
      "text/plain": [
       "'0b110'"
      ]
     },
     "execution_count": 22,
     "metadata": {},
     "output_type": "execute_result"
    }
   ],
   "source": [
    "bin(6)"
   ]
  },
  {
   "cell_type": "code",
   "execution_count": 23,
   "id": "8df714d0-a7f1-451f-b8cd-dc9b8931420a",
   "metadata": {},
   "outputs": [
    {
     "data": {
      "text/plain": [
       "280"
      ]
     },
     "execution_count": 23,
     "metadata": {},
     "output_type": "execute_result"
    }
   ],
   "source": [
    "# shift operator \n",
    "# left shift (<<) - shifts the bits to the left by a specified no. of positions, filling 0's to the right\n",
    "35 << 3 "
   ]
  },
  {
   "cell_type": "code",
   "execution_count": 24,
   "id": "af6b1d37-c52f-4bcc-8f76-39d8fb054332",
   "metadata": {},
   "outputs": [
    {
     "data": {
      "text/plain": [
       "'0b100011'"
      ]
     },
     "execution_count": 24,
     "metadata": {},
     "output_type": "execute_result"
    }
   ],
   "source": [
    "bin(35)"
   ]
  },
  {
   "cell_type": "code",
   "execution_count": 25,
   "id": "f10c40ae-6bbc-4c60-afcf-b4bdc12cb343",
   "metadata": {},
   "outputs": [
    {
     "data": {
      "text/plain": [
       "'0b100011000'"
      ]
     },
     "execution_count": 25,
     "metadata": {},
     "output_type": "execute_result"
    }
   ],
   "source": [
    "bin(280)"
   ]
  },
  {
   "cell_type": "code",
   "execution_count": 27,
   "id": "26ccb489-57ab-4e95-9eb2-8024aee6199e",
   "metadata": {},
   "outputs": [
    {
     "data": {
      "text/plain": [
       "8"
      ]
     },
     "execution_count": 27,
     "metadata": {},
     "output_type": "execute_result"
    }
   ],
   "source": [
    "# right shift (>>) - remove the no. of elements in the binary in the last\n",
    "32 >> 2"
   ]
  },
  {
   "cell_type": "code",
   "execution_count": 28,
   "id": "1994ce51-b9c9-41f3-b989-3fa7ef84d59a",
   "metadata": {},
   "outputs": [
    {
     "data": {
      "text/plain": [
       "'0b100000'"
      ]
     },
     "execution_count": 28,
     "metadata": {},
     "output_type": "execute_result"
    }
   ],
   "source": [
    "bin(32)"
   ]
  },
  {
   "cell_type": "code",
   "execution_count": 29,
   "id": "ef7bc833-9f84-4053-9419-b702df2c1166",
   "metadata": {},
   "outputs": [
    {
     "data": {
      "text/plain": [
       "'0b1000'"
      ]
     },
     "execution_count": 29,
     "metadata": {},
     "output_type": "execute_result"
    }
   ],
   "source": [
    "bin(8)"
   ]
  },
  {
   "cell_type": "code",
   "execution_count": 37,
   "id": "9fed877f-49e7-4232-811d-5f32f21f085f",
   "metadata": {},
   "outputs": [],
   "source": [
    "#order of precedence\n",
    "#execution of python statement will be from left to right\n",
    "#only exponentiation is from right to left\n",
    "#PEDMAS(Parenthesis, Exponent, Division, Multiplication, Addition, Subtraction)"
   ]
  },
  {
   "cell_type": "code",
   "execution_count": 32,
   "id": "9183a61f-1a10-468d-a57f-3dcdcd474a3e",
   "metadata": {},
   "outputs": [
    {
     "data": {
      "text/plain": [
       "13"
      ]
     },
     "execution_count": 32,
     "metadata": {},
     "output_type": "execute_result"
    }
   ],
   "source": [
    "b = 5\n",
    "b += 8\n",
    "b"
   ]
  },
  {
   "cell_type": "code",
   "execution_count": 34,
   "id": "3824a88b-a0f7-4bf7-afec-7006986242a5",
   "metadata": {},
   "outputs": [
    {
     "data": {
      "text/plain": [
       "-16"
      ]
     },
     "execution_count": 34,
     "metadata": {},
     "output_type": "execute_result"
    }
   ],
   "source": [
    "4+1-21"
   ]
  },
  {
   "cell_type": "code",
   "execution_count": null,
   "id": "071a5976-dd52-4f7d-b8bd-5a5d36377ffd",
   "metadata": {},
   "outputs": [],
   "source": []
  }
 ],
 "metadata": {
  "kernelspec": {
   "display_name": "Python 3 (ipykernel)",
   "language": "python",
   "name": "python3"
  },
  "language_info": {
   "codemirror_mode": {
    "name": "ipython",
    "version": 3
   },
   "file_extension": ".py",
   "mimetype": "text/x-python",
   "name": "python",
   "nbconvert_exporter": "python",
   "pygments_lexer": "ipython3",
   "version": "3.12.8"
  }
 },
 "nbformat": 4,
 "nbformat_minor": 5
}
