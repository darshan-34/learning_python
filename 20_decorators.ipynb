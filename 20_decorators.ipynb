{
 "cells": [
  {
   "cell_type": "code",
   "execution_count": 1,
   "id": "328018d6-4dc9-4687-9f57-2df51bf55c79",
   "metadata": {},
   "outputs": [],
   "source": [
    "# decorators >> allows to modify or extend the behaviour of functions/class without directly modifying their code"
   ]
  },
  {
   "cell_type": "code",
   "execution_count": 2,
   "id": "277b983e-90b0-4bfe-b5a4-3dd4685d1e4c",
   "metadata": {},
   "outputs": [],
   "source": [
    "# function decorators and class decorators\n",
    "#function decorators"
   ]
  },
  {
   "cell_type": "code",
   "execution_count": 8,
   "id": "3ab7cf35-6767-4493-a205-ab2421e7c096",
   "metadata": {},
   "outputs": [],
   "source": [
    "# say you want to use the line before computation and after computation, after each time you create a function or call it.\n",
    "# it will take a lot of time due to code repetition\n",
    "# decorators remove that code repetition\n",
    "def my_decor_func():\n",
    "    print(\"the line before computation..\")\n",
    "    print(22*33) # decorating the output with one line above and below\n",
    "    print(\"the line after computation...\")\n",
    "\n",
    "    # in the above approach, you have to write all the decorator\n",
    "    # lines manually which is not efficient"
   ]
  },
  {
   "cell_type": "code",
   "execution_count": 9,
   "id": "ba10a496-77b7-4dbc-adab-259161e39ed9",
   "metadata": {},
   "outputs": [
    {
     "name": "stdout",
     "output_type": "stream",
     "text": [
      "the line before computation..\n",
      "726\n",
      "the line after computation...\n"
     ]
    }
   ],
   "source": [
    "my_decor_func()"
   ]
  },
  {
   "cell_type": "code",
   "execution_count": 13,
   "id": "7cd96d94-b539-4cc3-9180-0cde2fd2a3a7",
   "metadata": {},
   "outputs": [],
   "source": [
    "# decorator app for functions >> use case 1\n",
    "def my_dec(func): # decorator function that takes another function as argument\n",
    "    def wrapper(): # adds the functionality before and after calling function\n",
    "        print(\"The lines before computation\")\n",
    "        func()\n",
    "        print(\"The lines after computation\")\n",
    "    return wrapper"
   ]
  },
  {
   "cell_type": "code",
   "execution_count": 17,
   "id": "96c3ed81-7fce-436c-adfd-0046b074a617",
   "metadata": {},
   "outputs": [],
   "source": [
    "@my_dec #syntax for executing decoration\n",
    "def say_hello():\n",
    "    print(\"Hello\")"
   ]
  },
  {
   "cell_type": "code",
   "execution_count": 18,
   "id": "1cfefbaf-eef0-491f-9d39-ae1dac20bfd8",
   "metadata": {},
   "outputs": [
    {
     "name": "stdout",
     "output_type": "stream",
     "text": [
      "The lines before computation\n",
      "Hello\n",
      "The lines after computation\n"
     ]
    }
   ],
   "source": [
    "say_hello()\n",
    "# when say_hello is called, it is actually first calling the decorator method\n",
    "# which in return is calling wrapper function and then wrapper function is printing the line and \n",
    "# calling the say_hello function"
   ]
  },
  {
   "cell_type": "code",
   "execution_count": 19,
   "id": "5d639aec-739a-4098-afd8-ed824ff2b191",
   "metadata": {},
   "outputs": [],
   "source": [
    "#another use of function decorator\n",
    "#run time of a code\n",
    "\n",
    "import time\n",
    "def timer_decorator(func):\n",
    "    def timer():\n",
    "        start = time.time()\n",
    "        func()\n",
    "        end = time.time()\n",
    "        print(\"The time for executing the code\", end-start)\n",
    "    return timer"
   ]
  },
  {
   "cell_type": "code",
   "execution_count": 22,
   "id": "c7dc8ae8-08fc-4453-ac38-1e1264aa6a21",
   "metadata": {},
   "outputs": [],
   "source": [
    "@timer_decorator\n",
    "def func_test():\n",
    "    print(11*3929)"
   ]
  },
  {
   "cell_type": "code",
   "execution_count": 23,
   "id": "7f0df3bd-dc14-4d0a-98f1-44add4823cbc",
   "metadata": {},
   "outputs": [
    {
     "name": "stdout",
     "output_type": "stream",
     "text": [
      "43219\n",
      "The time for executing the code 3.361701965332031e-05\n"
     ]
    }
   ],
   "source": [
    "func_test()"
   ]
  },
  {
   "cell_type": "code",
   "execution_count": 24,
   "id": "2ac6bd4a-4d3e-442d-bafa-4518286c3d6e",
   "metadata": {},
   "outputs": [],
   "source": [
    "# why decorators?\n",
    "# reusability of code\n",
    "# enhancing the function without modifying original code\n",
    "# use cases >> execution time of code, loggin, chachine, validation"
   ]
  },
  {
   "cell_type": "code",
   "execution_count": 31,
   "id": "cb7bf70f-39d9-4ec2-85e1-7658236182ef",
   "metadata": {},
   "outputs": [],
   "source": [
    "#class decorators>>\n",
    "class MyDecor:\n",
    "    def __init__(self, func): #similar to function decorator, you are passing func in class decorator\n",
    "        self.func = func\n",
    "        print(\"Inside the init method\")\n",
    "    def __call__(self): #call is a special method\n",
    "        print(\"something is happening before function..\")\n",
    "        self.func()\n",
    "        print(\"Soemthing is happening after function\")\n",
    "        "
   ]
  },
  {
   "cell_type": "code",
   "execution_count": 32,
   "id": "d20f30c8-ce1a-436d-9f8b-2d049a29fc56",
   "metadata": {},
   "outputs": [
    {
     "name": "stdout",
     "output_type": "stream",
     "text": [
      "Inside the init method\n",
      "something is happening before function..\n",
      "hello\n",
      "Soemthing is happening after function\n"
     ]
    }
   ],
   "source": [
    "@MyDecor\n",
    "def say_hello():\n",
    "    print(\"hello\")\n",
    "say_hello()"
   ]
  },
  {
   "cell_type": "code",
   "execution_count": 33,
   "id": "4ed0614e-d985-4078-845f-7e9a62aadde5",
   "metadata": {},
   "outputs": [],
   "source": [
    "# __call__ is special metod which is called/invoked when you \n",
    "# instance/object of the class as a function"
   ]
  },
  {
   "cell_type": "code",
   "execution_count": 39,
   "id": "a7edb3b1-4494-4740-b451-8d2bf9182ab0",
   "metadata": {},
   "outputs": [
    {
     "name": "stdout",
     "output_type": "stream",
     "text": [
      "Inside the init method\n"
     ]
    }
   ],
   "source": [
    "class MyDecor:\n",
    "    def __init__(self): #similar to function decorator, you are passing func in class decorator\n",
    "        #self.func = func\n",
    "        print(\"Inside the init method\")\n",
    "    def __call__(self): #call is a special method\n",
    "        print(\"something is happening before function..\")\n",
    "        #self.func()\n",
    "        print(\"Soemthing is happening after function\")\n",
    "\n",
    "obj1 = MyDecor()\n",
    "# when you make an object of the class, \n",
    "# init is executed first"
   ]
  },
  {
   "cell_type": "code",
   "execution_count": 41,
   "id": "cf62a713-0530-4b5c-87ce-1f7f0b854d50",
   "metadata": {},
   "outputs": [
    {
     "name": "stdout",
     "output_type": "stream",
     "text": [
      "something is happening before function..\n",
      "Soemthing is happening after function\n"
     ]
    }
   ],
   "source": [
    "obj1()\n",
    "# when you call object of a class as a function,\n",
    "# __call__ method will be invoked"
   ]
  },
  {
   "cell_type": "code",
   "execution_count": 45,
   "id": "937166bf-3e2d-4933-ba20-6371aaac72a4",
   "metadata": {},
   "outputs": [],
   "source": [
    "# some inbuild decorators >> \n",
    "# @classmethod >> takes the class itself as the first parameter"
   ]
  },
  {
   "cell_type": "code",
   "execution_count": 46,
   "id": "6f250c3d-1c5b-4608-971e-d1e6a1f247f9",
   "metadata": {},
   "outputs": [],
   "source": [
    "class Math:\n",
    "    @classmethod #takes reference reference to the class itself to modify and access class level attributes\n",
    "    def add(cls, x,y):\n",
    "        return cls.__name__,x+y"
   ]
  },
  {
   "cell_type": "code",
   "execution_count": 47,
   "id": "a246ed4c-482f-4411-a620-eb2ba8de8389",
   "metadata": {},
   "outputs": [
    {
     "data": {
      "text/plain": [
       "('Math', 5)"
      ]
     },
     "execution_count": 47,
     "metadata": {},
     "output_type": "execute_result"
    }
   ],
   "source": [
    "Math.add(3,2)"
   ]
  },
  {
   "cell_type": "code",
   "execution_count": 48,
   "id": "50384291-43c2-4988-b5f3-13102b87f1fd",
   "metadata": {},
   "outputs": [],
   "source": [
    "#another inbuilt decorator\n",
    "#static method >> the method which can be called without creating object"
   ]
  },
  {
   "cell_type": "code",
   "execution_count": 49,
   "id": "66700435-d46a-4d16-b820-673861cd6d1a",
   "metadata": {},
   "outputs": [],
   "source": [
    "class Math:\n",
    "    def add(self, x,y):\n",
    "        return x+y"
   ]
  },
  {
   "cell_type": "code",
   "execution_count": 50,
   "id": "81966c20-7b2c-48cb-8d38-4047bc1e5454",
   "metadata": {},
   "outputs": [],
   "source": [
    "a = Math()"
   ]
  },
  {
   "cell_type": "code",
   "execution_count": 51,
   "id": "007fc33f-65e7-4269-aea0-dd1d9ec0c8af",
   "metadata": {},
   "outputs": [
    {
     "data": {
      "text/plain": [
       "323"
      ]
     },
     "execution_count": 51,
     "metadata": {},
     "output_type": "execute_result"
    }
   ],
   "source": [
    "a.add(2,321)"
   ]
  },
  {
   "cell_type": "code",
   "execution_count": 52,
   "id": "8c9ffa25-bd7d-4a9b-bc7b-7952351507ab",
   "metadata": {},
   "outputs": [],
   "source": [
    "#use of static method\n",
    "class Math:\n",
    "    @staticmethod\n",
    "    def add(x,y): #no need of self or cls\n",
    "        return x+y"
   ]
  },
  {
   "cell_type": "code",
   "execution_count": 55,
   "id": "a7b497ed-3f73-4002-a47a-270850078ddf",
   "metadata": {},
   "outputs": [
    {
     "data": {
      "text/plain": [
       "6"
      ]
     },
     "execution_count": 55,
     "metadata": {},
     "output_type": "execute_result"
    }
   ],
   "source": [
    "Math.add(2,4) #no need of object creation\n",
    "#can be called directly using the class"
   ]
  },
  {
   "cell_type": "code",
   "execution_count": 56,
   "id": "9f3e088c-49cf-4f1a-bdb2-c38521d37722",
   "metadata": {},
   "outputs": [],
   "source": [
    "#class method can be used when you want to modify class level data\n",
    "#static method when you don't want to interact with class data"
   ]
  },
  {
   "cell_type": "code",
   "execution_count": 57,
   "id": "c5e24caf-55e1-48c9-93dd-6373ad6b144e",
   "metadata": {},
   "outputs": [],
   "source": [
    "# PROPERTY DECORATOR >> it allows method to be accessed as attribute"
   ]
  },
  {
   "cell_type": "code",
   "execution_count": 58,
   "id": "e256f4bb-26fd-453e-9d84-bc363135654c",
   "metadata": {},
   "outputs": [],
   "source": [
    "class Circle:\n",
    "    def __init__(self, radius):\n",
    "        self.radius = radius"
   ]
  },
  {
   "cell_type": "code",
   "execution_count": 59,
   "id": "e29a7f37-86fa-4bed-92eb-d67d199607f7",
   "metadata": {},
   "outputs": [],
   "source": [
    "obj = Circle(5)"
   ]
  },
  {
   "cell_type": "code",
   "execution_count": 60,
   "id": "7e58a6ea-b8d8-482a-8002-c855a7bc7e1a",
   "metadata": {},
   "outputs": [
    {
     "data": {
      "text/plain": [
       "5"
      ]
     },
     "execution_count": 60,
     "metadata": {},
     "output_type": "execute_result"
    }
   ],
   "source": [
    "obj.radius"
   ]
  },
  {
   "cell_type": "code",
   "execution_count": 61,
   "id": "2826267e-7038-44bf-9dac-9893c169a6ce",
   "metadata": {},
   "outputs": [],
   "source": [
    "class Circle:\n",
    "    def __init__(self, radius):\n",
    "        self.radius = radius\n",
    "    def area(self):\n",
    "        radius = self.radius\n",
    "        return 3.14*radius**2\n",
    "        "
   ]
  },
  {
   "cell_type": "code",
   "execution_count": 62,
   "id": "fd27040a-476f-4ce5-ad8f-8cd598cd6124",
   "metadata": {},
   "outputs": [
    {
     "data": {
      "text/plain": [
       "5"
      ]
     },
     "execution_count": 62,
     "metadata": {},
     "output_type": "execute_result"
    }
   ],
   "source": [
    "obj = Circle(5)\n",
    "obj.radius"
   ]
  },
  {
   "cell_type": "code",
   "execution_count": 63,
   "id": "5a03a52d-d154-4fa2-b1ec-806b6954e659",
   "metadata": {},
   "outputs": [
    {
     "data": {
      "text/plain": [
       "78.5"
      ]
     },
     "execution_count": 63,
     "metadata": {},
     "output_type": "execute_result"
    }
   ],
   "source": [
    "obj.area()"
   ]
  },
  {
   "cell_type": "code",
   "execution_count": 64,
   "id": "6ce5d276-252a-4832-8815-a02ee7042cd7",
   "metadata": {},
   "outputs": [],
   "source": [
    "# using property decorator\n",
    "class Circle:\n",
    "    def __init__(self, radius):\n",
    "        self.radius = radius\n",
    "    @property\n",
    "    def area(self):\n",
    "        radius = self.radius\n",
    "        return 3.14*radius**2"
   ]
  },
  {
   "cell_type": "code",
   "execution_count": 66,
   "id": "34c7fc09-496e-4951-8dbc-5b611cc7071e",
   "metadata": {},
   "outputs": [],
   "source": [
    "obj1 = Circle(43)"
   ]
  },
  {
   "cell_type": "code",
   "execution_count": 67,
   "id": "9698becf-f29f-4cde-837f-c03fcde531f9",
   "metadata": {},
   "outputs": [
    {
     "data": {
      "text/plain": [
       "5805.860000000001"
      ]
     },
     "execution_count": 67,
     "metadata": {},
     "output_type": "execute_result"
    }
   ],
   "source": [
    "obj1.area"
   ]
  },
  {
   "cell_type": "code",
   "execution_count": null,
   "id": "c38c92ea-0783-4753-ae7b-02a25c5f156c",
   "metadata": {},
   "outputs": [],
   "source": []
  }
 ],
 "metadata": {
  "kernelspec": {
   "display_name": "Python 3 (ipykernel)",
   "language": "python",
   "name": "python3"
  },
  "language_info": {
   "codemirror_mode": {
    "name": "ipython",
    "version": 3
   },
   "file_extension": ".py",
   "mimetype": "text/x-python",
   "name": "python",
   "nbconvert_exporter": "python",
   "pygments_lexer": "ipython3",
   "version": "3.13.1"
  }
 },
 "nbformat": 4,
 "nbformat_minor": 5
}
