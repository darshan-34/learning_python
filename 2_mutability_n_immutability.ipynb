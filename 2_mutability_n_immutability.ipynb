{
 "cells": [
  {
   "cell_type": "code",
   "execution_count": 1,
   "id": "4f12c858-d10c-46fb-aa8b-3572c8fd81f4",
   "metadata": {},
   "outputs": [],
   "source": [
    "a = 6"
   ]
  },
  {
   "cell_type": "code",
   "execution_count": 2,
   "id": "c5e676c4-f07c-4225-825f-e0f0e4fe45ad",
   "metadata": {},
   "outputs": [
    {
     "data": {
      "text/plain": [
       "6"
      ]
     },
     "execution_count": 2,
     "metadata": {},
     "output_type": "execute_result"
    }
   ],
   "source": [
    "a"
   ]
  },
  {
   "cell_type": "code",
   "execution_count": 3,
   "id": "4b66bcc1-3e7f-46c4-864a-b7b0eaa3fad3",
   "metadata": {},
   "outputs": [],
   "source": [
    "b = \"Ajay\""
   ]
  },
  {
   "cell_type": "code",
   "execution_count": 4,
   "id": "367a1cf7-3b39-415a-a3a9-27f1063cb0f8",
   "metadata": {},
   "outputs": [
    {
     "data": {
      "text/plain": [
       "'Ajay'"
      ]
     },
     "execution_count": 4,
     "metadata": {},
     "output_type": "execute_result"
    }
   ],
   "source": [
    "b"
   ]
  },
  {
   "cell_type": "code",
   "execution_count": 5,
   "id": "a1c03eca-b51f-451f-87e9-8b14d3af06b0",
   "metadata": {},
   "outputs": [
    {
     "data": {
      "text/plain": [
       "'A'"
      ]
     },
     "execution_count": 5,
     "metadata": {},
     "output_type": "execute_result"
    }
   ],
   "source": [
    "b[0]"
   ]
  },
  {
   "cell_type": "code",
   "execution_count": 6,
   "id": "1202728f-264e-4114-837a-4ae9ceed1246",
   "metadata": {},
   "outputs": [
    {
     "data": {
      "text/plain": [
       "'A'"
      ]
     },
     "execution_count": 6,
     "metadata": {},
     "output_type": "execute_result"
    }
   ],
   "source": [
    "b[-4]"
   ]
  },
  {
   "cell_type": "code",
   "execution_count": 8,
   "id": "ce9d99ac-d1a2-4e78-b19c-5c8dfe2370a6",
   "metadata": {},
   "outputs": [],
   "source": [
    "#list\n",
    "#[1,2,3.22,4+5j,True,\"Dars\"]"
   ]
  },
  {
   "cell_type": "code",
   "execution_count": 9,
   "id": "f5cbe27a-6557-4f7b-a679-4d52253b7feb",
   "metadata": {},
   "outputs": [],
   "source": [
    "list_ex = [1,2,3.22,4+5j,True,\"Dars\"]"
   ]
  },
  {
   "cell_type": "code",
   "execution_count": 10,
   "id": "3ed32796-45d6-437e-a535-b25b1fcd72e2",
   "metadata": {},
   "outputs": [
    {
     "data": {
      "text/plain": [
       "[1, 2, 3.22, (4+5j), True, 'Dars']"
      ]
     },
     "execution_count": 10,
     "metadata": {},
     "output_type": "execute_result"
    }
   ],
   "source": [
    "list_ex"
   ]
  },
  {
   "cell_type": "code",
   "execution_count": 12,
   "id": "52e7af32-e4be-4fb6-b568-946743e2bfa8",
   "metadata": {},
   "outputs": [
    {
     "data": {
      "text/plain": [
       "(4+5j)"
      ]
     },
     "execution_count": 12,
     "metadata": {},
     "output_type": "execute_result"
    }
   ],
   "source": [
    "list_ex[3]"
   ]
  },
  {
   "cell_type": "code",
   "execution_count": 13,
   "id": "34a039f1-1e7a-4b61-8b01-aa23d7950de1",
   "metadata": {},
   "outputs": [
    {
     "data": {
      "text/plain": [
       "list"
      ]
     },
     "execution_count": 13,
     "metadata": {},
     "output_type": "execute_result"
    }
   ],
   "source": [
    "type(list_ex)"
   ]
  },
  {
   "cell_type": "code",
   "execution_count": 17,
   "id": "42591dd7-1638-48ae-a44b-4b27218999bc",
   "metadata": {},
   "outputs": [],
   "source": [
    "#objects/container whose state are value can be changed after\n",
    "#they are created are called as mutable objects or container\n",
    "\n",
    "#lists are mutable / they support item assignment"
   ]
  },
  {
   "cell_type": "code",
   "execution_count": 14,
   "id": "c71a0568-3ba0-4b09-b8bb-99e199396ee5",
   "metadata": {},
   "outputs": [],
   "source": [
    "b = \"pwskills\""
   ]
  },
  {
   "cell_type": "code",
   "execution_count": 16,
   "id": "347978fd-248d-489a-8277-a5d12632026e",
   "metadata": {},
   "outputs": [
    {
     "ename": "NameError",
     "evalue": "name 'd' is not defined",
     "output_type": "error",
     "traceback": [
      "\u001b[1;31m---------------------------------------------------------------------------\u001b[0m",
      "\u001b[1;31mNameError\u001b[0m                                 Traceback (most recent call last)",
      "Cell \u001b[1;32mIn[16], line 1\u001b[0m\n\u001b[1;32m----> 1\u001b[0m b[\u001b[38;5;241m1\u001b[39m] \u001b[38;5;241m=\u001b[39m \u001b[43md\u001b[49m\n",
      "\u001b[1;31mNameError\u001b[0m: name 'd' is not defined"
     ]
    }
   ],
   "source": [
    "b[1] = d"
   ]
  },
  {
   "cell_type": "code",
   "execution_count": null,
   "id": "06d50d3d-a869-4ed7-8705-af3db16fa8dd",
   "metadata": {},
   "outputs": [],
   "source": [
    "#this proves that strings are immutable"
   ]
  },
  {
   "cell_type": "code",
   "execution_count": null,
   "id": "6c62093a-7291-4178-a82e-d8bd8262b2b1",
   "metadata": {},
   "outputs": [],
   "source": []
  }
 ],
 "metadata": {
  "kernelspec": {
   "display_name": "Python 3 (ipykernel)",
   "language": "python",
   "name": "python3"
  },
  "language_info": {
   "codemirror_mode": {
    "name": "ipython",
    "version": 3
   },
   "file_extension": ".py",
   "mimetype": "text/x-python",
   "name": "python",
   "nbconvert_exporter": "python",
   "pygments_lexer": "ipython3",
   "version": "3.12.8"
  }
 },
 "nbformat": 4,
 "nbformat_minor": 5
}
