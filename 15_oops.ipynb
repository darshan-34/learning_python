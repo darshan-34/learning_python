{
 "cells": [
  {
   "cell_type": "code",
   "execution_count": 1,
   "id": "17e77314-39d6-4bb7-a579-a74237e8d300",
   "metadata": {},
   "outputs": [],
   "source": [
    "#oops >> object oriented programming systems"
   ]
  },
  {
   "cell_type": "code",
   "execution_count": 2,
   "id": "2b60554b-dc83-4a3b-840c-712155cec51e",
   "metadata": {},
   "outputs": [
    {
     "data": {
      "text/plain": [
       "5"
      ]
     },
     "execution_count": 2,
     "metadata": {},
     "output_type": "execute_result"
    }
   ],
   "source": [
    "a = 5\n",
    "a"
   ]
  },
  {
   "cell_type": "code",
   "execution_count": 3,
   "id": "162e8b94-93c2-4ab5-8d5d-fa4d5e8e36c1",
   "metadata": {},
   "outputs": [
    {
     "data": {
      "text/plain": [
       "int"
      ]
     },
     "execution_count": 3,
     "metadata": {},
     "output_type": "execute_result"
    }
   ],
   "source": [
    "type(a)"
   ]
  },
  {
   "cell_type": "code",
   "execution_count": 4,
   "id": "0e727ff5-3dc9-45fc-8429-a2d08773ba1f",
   "metadata": {},
   "outputs": [
    {
     "name": "stdout",
     "output_type": "stream",
     "text": [
      "<class 'int'>\n"
     ]
    }
   ],
   "source": [
    "print(type(a))"
   ]
  },
  {
   "cell_type": "code",
   "execution_count": 5,
   "id": "d4ff3388-adee-4d4f-a6ec-73b0ce1aa588",
   "metadata": {},
   "outputs": [
    {
     "name": "stdout",
     "output_type": "stream",
     "text": [
      "<class 'str'>\n"
     ]
    }
   ],
   "source": [
    "s = 'jupyter notebook'\n",
    "print(type(s))"
   ]
  },
  {
   "cell_type": "code",
   "execution_count": 6,
   "id": "ee3a9afe-bc16-4174-a18f-bfd8e1fb4228",
   "metadata": {},
   "outputs": [
    {
     "name": "stdout",
     "output_type": "stream",
     "text": [
      "<class 'str'>\n"
     ]
    }
   ],
   "source": [
    "a = \"Ajay\"\n",
    "print(type(a))"
   ]
  },
  {
   "cell_type": "code",
   "execution_count": 7,
   "id": "e4469111-c787-44c2-b2d9-9357bef4aebb",
   "metadata": {},
   "outputs": [],
   "source": [
    "#classes are blueprint/template for creating an object\n",
    "#we are different objects of class\n",
    "#example gujiya maker\n",
    "\n",
    "#the gujiya maker is the template(class) using which\n",
    "#you can make many tasty, gujiyas(objects)\n",
    "\n",
    "#class Car is nothing but a template\n",
    "class Car: #naming convention >> UpperCamelCase\n",
    "    pass"
   ]
  },
  {
   "cell_type": "code",
   "execution_count": 8,
   "id": "dba95588-1b54-4c8d-8433-1a195a6f1822",
   "metadata": {},
   "outputs": [],
   "source": [
    "c1 = Car() #instance/object"
   ]
  },
  {
   "cell_type": "code",
   "execution_count": 9,
   "id": "f34638cd-4cac-4a67-b824-d4740f05276c",
   "metadata": {},
   "outputs": [
    {
     "name": "stdout",
     "output_type": "stream",
     "text": [
      "<class '__main__.Car'>\n"
     ]
    }
   ],
   "source": [
    "print(type(c1))"
   ]
  },
  {
   "cell_type": "code",
   "execution_count": 10,
   "id": "ed2afae1-9666-4436-a777-e73cf0147154",
   "metadata": {},
   "outputs": [],
   "source": [
    "#why oops? we already had functions\n",
    "#a project can have many components, say backend(f1, f2), frontend(f3, f4), data pipeline(f5, f6)\n",
    "\n",
    "def f1():\n",
    "    pass\n",
    "\n",
    "def f6():\n",
    "    pass\n",
    "\n",
    "def f4():\n",
    "    pass\n",
    "\n",
    "def f2():\n",
    "    pass\n",
    "\n",
    "def f5():\n",
    "    pass\n",
    "\n",
    "def f3():\n",
    "    pass\n",
    "\n",
    "#if a backend developer wants to work/change some backend function \n",
    "#it is hard as all the functions are mixed\n",
    "#this is where oops comes in\n",
    "#oops helps you to arrange the required functions in respective classes\n"
   ]
  },
  {
   "cell_type": "code",
   "execution_count": 11,
   "id": "98c4ecee-f68e-4159-b963-0c5d3a63d609",
   "metadata": {},
   "outputs": [],
   "source": [
    "class Car:\n",
    "    pass\n"
   ]
  },
  {
   "cell_type": "code",
   "execution_count": 12,
   "id": "025b7152-bdd5-4a0e-84df-6ed35d09e184",
   "metadata": {},
   "outputs": [
    {
     "name": "stdout",
     "output_type": "stream",
     "text": [
      "<class '__main__.Car'>\n"
     ]
    }
   ],
   "source": [
    "c1 = Car()\n",
    "print(type(c1))"
   ]
  },
  {
   "cell_type": "code",
   "execution_count": 13,
   "id": "0bf846ee-aa9f-43b4-9b2a-ca662a717a53",
   "metadata": {},
   "outputs": [],
   "source": [
    "class Car: \n",
    "    #method of a car\n",
    "    def accelerate():\n",
    "        print(\"car is accelerating\")"
   ]
  },
  {
   "cell_type": "code",
   "execution_count": 15,
   "id": "39bd9c08-9604-4f78-9444-51d2c573cead",
   "metadata": {},
   "outputs": [],
   "source": [
    "c1 = Car()"
   ]
  },
  {
   "cell_type": "code",
   "execution_count": 17,
   "id": "6444776a-52ad-46b5-8023-f9b25398ebad",
   "metadata": {},
   "outputs": [
    {
     "ename": "TypeError",
     "evalue": "Car.accelerate() takes 0 positional arguments but 1 was given",
     "output_type": "error",
     "traceback": [
      "\u001b[1;31m---------------------------------------------------------------------------\u001b[0m",
      "\u001b[1;31mTypeError\u001b[0m                                 Traceback (most recent call last)",
      "Cell \u001b[1;32mIn[17], line 1\u001b[0m\n\u001b[1;32m----> 1\u001b[0m \u001b[43mc1\u001b[49m\u001b[38;5;241;43m.\u001b[39;49m\u001b[43maccelerate\u001b[49m\u001b[43m(\u001b[49m\u001b[43m)\u001b[49m \u001b[38;5;66;03m#it will throw an error\u001b[39;00m\n",
      "\u001b[1;31mTypeError\u001b[0m: Car.accelerate() takes 0 positional arguments but 1 was given"
     ]
    }
   ],
   "source": [
    "c1.accelerate() #it will throw an error"
   ]
  },
  {
   "cell_type": "code",
   "execution_count": 95,
   "id": "fb181f00-9259-4180-977b-d03c661f9794",
   "metadata": {},
   "outputs": [],
   "source": [
    "class Car: \n",
    "    #method of a car\n",
    "    def accelerate(self):\n",
    "        print(\"car is accelerating\")\n",
    "#self >> a variable that represents the object(instance of a class) using which you can access method/function of class, also attribute/property/data of class\n",
    "#self makes sure that each object knows that the method is associated with it\n",
    "#in other words the method is referenced to that particular object"
   ]
  },
  {
   "cell_type": "code",
   "execution_count": 22,
   "id": "99076e2f-f8f5-4f64-80cb-32d2855f1886",
   "metadata": {},
   "outputs": [
    {
     "name": "stdout",
     "output_type": "stream",
     "text": [
      "car is accelerating\n"
     ]
    }
   ],
   "source": [
    "a = Car()\n",
    "a.accelerate()"
   ]
  },
  {
   "cell_type": "code",
   "execution_count": 23,
   "id": "1ef633c4-f189-4518-8a29-79534fa9912d",
   "metadata": {},
   "outputs": [
    {
     "name": "stdout",
     "output_type": "stream",
     "text": [
      "car is accelerating\n"
     ]
    }
   ],
   "source": [
    "c2 = Car()\n",
    "c2.accelerate()"
   ]
  },
  {
   "cell_type": "code",
   "execution_count": 24,
   "id": "88a366dc-c957-4411-be25-3cc29c2f3cc8",
   "metadata": {},
   "outputs": [],
   "source": [
    "class Car: \n",
    "    #method of a car\n",
    "    def accelerate(self):\n",
    "        print(\"car is accelerating\")\n",
    "    def brake(self):\n",
    "        print(\"car is stopping\")"
   ]
  },
  {
   "cell_type": "code",
   "execution_count": 25,
   "id": "aa678329-267b-4870-8c65-3143e8ffa93e",
   "metadata": {},
   "outputs": [
    {
     "name": "stdout",
     "output_type": "stream",
     "text": [
      "car is stopping\n"
     ]
    }
   ],
   "source": [
    "c1 = Car()\n",
    "c1.brake()"
   ]
  },
  {
   "cell_type": "code",
   "execution_count": 26,
   "id": "a2d89600-6b56-49a9-9f4b-640e4dc6aecf",
   "metadata": {},
   "outputs": [
    {
     "name": "stdout",
     "output_type": "stream",
     "text": [
      "car is accelerating\n"
     ]
    }
   ],
   "source": [
    "c1.accelerate()"
   ]
  },
  {
   "cell_type": "code",
   "execution_count": 32,
   "id": "1f8cf272-f00b-4bd5-a687-92b6b88fd5b5",
   "metadata": {},
   "outputs": [],
   "source": [
    "class Bank:\n",
    "    def deposit(self):\n",
    "        print(\"I am depositing the money\")\n",
    "    def withdraw(self):\n",
    "        print(\"I am trying to withraw the money\")\n",
    "#self is not a keyword, it can be replaced with any name\n",
    "#best practise is to pass self"
   ]
  },
  {
   "cell_type": "code",
   "execution_count": 33,
   "id": "42e8b43a-6896-4d82-ad02-651726a9933d",
   "metadata": {},
   "outputs": [
    {
     "name": "stdout",
     "output_type": "stream",
     "text": [
      "I am depositing the money\n",
      "I am trying to withraw the money\n"
     ]
    }
   ],
   "source": [
    "c1 = Bank()\n",
    "c1.deposit()\n",
    "c1.withdraw()"
   ]
  },
  {
   "cell_type": "code",
   "execution_count": 35,
   "id": "a312ad7b-1f61-4884-9106-6ca866db1665",
   "metadata": {},
   "outputs": [
    {
     "name": "stdout",
     "output_type": "stream",
     "text": [
      "I am depositing the money\n"
     ]
    }
   ],
   "source": [
    "c2 = Bank()\n",
    "c2.deposit()"
   ]
  },
  {
   "cell_type": "code",
   "execution_count": 47,
   "id": "d055c04e-e3d7-4f05-803f-d7c689683400",
   "metadata": {},
   "outputs": [],
   "source": [
    "#passing data in the class >> can also be called as property/attribute\n",
    "class Bank:\n",
    "    def deposit(self, amount):\n",
    "        print(\"I am depositing the money\")\n",
    "    def withdraw(self, amount):\n",
    "        print(\"I am trying to withdraw the money\")"
   ]
  },
  {
   "cell_type": "code",
   "execution_count": 48,
   "id": "673f4450-6908-4511-b7dc-ad871e7c8682",
   "metadata": {},
   "outputs": [
    {
     "ename": "TypeError",
     "evalue": "Bank.deposit() missing 1 required positional argument: 'amount'",
     "output_type": "error",
     "traceback": [
      "\u001b[1;31m---------------------------------------------------------------------------\u001b[0m",
      "\u001b[1;31mTypeError\u001b[0m                                 Traceback (most recent call last)",
      "Cell \u001b[1;32mIn[48], line 2\u001b[0m\n\u001b[0;32m      1\u001b[0m ajay \u001b[38;5;241m=\u001b[39m Bank()\n\u001b[1;32m----> 2\u001b[0m \u001b[43majay\u001b[49m\u001b[38;5;241;43m.\u001b[39;49m\u001b[43mdeposit\u001b[49m\u001b[43m(\u001b[49m\u001b[43m)\u001b[49m \u001b[38;5;66;03m#throws an error as no amount is given\u001b[39;00m\n",
      "\u001b[1;31mTypeError\u001b[0m: Bank.deposit() missing 1 required positional argument: 'amount'"
     ]
    }
   ],
   "source": [
    "ajay = Bank()\n",
    "ajay.deposit() #throws an error as no amount is given"
   ]
  },
  {
   "cell_type": "code",
   "execution_count": 49,
   "id": "c22a9fbf-34e2-461b-9ddb-34db54fd2f22",
   "metadata": {},
   "outputs": [
    {
     "name": "stdout",
     "output_type": "stream",
     "text": [
      "I am depositing the money\n"
     ]
    }
   ],
   "source": [
    "ajay = Bank()\n",
    "ajay.deposit(1000)"
   ]
  },
  {
   "cell_type": "code",
   "execution_count": 50,
   "id": "f9d99bf3-988e-44c9-b348-4aa76838962a",
   "metadata": {},
   "outputs": [
    {
     "name": "stdout",
     "output_type": "stream",
     "text": [
      "I am trying to withdraw the money\n"
     ]
    }
   ],
   "source": [
    "ajay.withdraw(200)"
   ]
  },
  {
   "cell_type": "code",
   "execution_count": 51,
   "id": "bbdc6b3d-7885-4b4f-ab43-9bc49929090b",
   "metadata": {},
   "outputs": [],
   "source": [
    "#bank will ask for a default amt. , amt. is attribute/property/data if class Bank\n",
    "class Bank:\n",
    "    amount = 1000\n",
    "    def deposit(self, amount):\n",
    "        print(\"I am depositing the money\")\n",
    "    def withdraw(self, amount):\n",
    "        print(\"I am trying to withdraw the money\")"
   ]
  },
  {
   "cell_type": "code",
   "execution_count": 53,
   "id": "126f87df-e14a-4859-89a8-8021fb54d416",
   "metadata": {},
   "outputs": [
    {
     "name": "stdout",
     "output_type": "stream",
     "text": [
      "I am depositing the money\n"
     ]
    }
   ],
   "source": [
    "ajay = Bank()\n",
    "ajay.deposit(1000)"
   ]
  },
  {
   "cell_type": "code",
   "execution_count": 55,
   "id": "92c73aac-e39a-4849-8d83-b33e9429c001",
   "metadata": {},
   "outputs": [
    {
     "data": {
      "text/plain": [
       "1000"
      ]
     },
     "execution_count": 55,
     "metadata": {},
     "output_type": "execute_result"
    }
   ],
   "source": [
    "#attributes/property can also be accesed the same way as methods/functions are accessed\n",
    "ajay.amount"
   ]
  },
  {
   "cell_type": "code",
   "execution_count": 66,
   "id": "9166e3e6-972b-4900-87e8-13b339670e2d",
   "metadata": {},
   "outputs": [],
   "source": [
    "#extract even and odd nos from a list\n",
    "\n",
    "class ListOps:\n",
    "    l = [1,2,3,4,5,6]\n",
    "    def extract_even(self, l):\n",
    "        l1 = []\n",
    "        for i in l:\n",
    "            if i%2 == 0:\n",
    "                l1.append(i)\n",
    "        return l1\n",
    "    def extract_odd(self, l):\n",
    "        l1 = []\n",
    "        for i in l:\n",
    "            if i%2 != 0:\n",
    "                l1.append(i)\n",
    "        return l1"
   ]
  },
  {
   "cell_type": "code",
   "execution_count": 67,
   "id": "12c7e33c-0b6b-498d-9748-d4738a3fbc7e",
   "metadata": {},
   "outputs": [
    {
     "data": {
      "text/plain": [
       "[1, 2, 3, 4, 5, 6]"
      ]
     },
     "execution_count": 67,
     "metadata": {},
     "output_type": "execute_result"
    }
   ],
   "source": [
    "ops1 = ListOps()\n",
    "ops1.l"
   ]
  },
  {
   "cell_type": "code",
   "execution_count": 68,
   "id": "2fcc8811-3537-451f-946e-8b15086f186d",
   "metadata": {},
   "outputs": [
    {
     "data": {
      "text/plain": [
       "[2, 4, 6]"
      ]
     },
     "execution_count": 68,
     "metadata": {},
     "output_type": "execute_result"
    }
   ],
   "source": [
    "ops1.extract_even(ops1.l)"
   ]
  },
  {
   "cell_type": "code",
   "execution_count": 69,
   "id": "ce50c12b-e3a5-4bd5-9707-9843e67d7679",
   "metadata": {},
   "outputs": [
    {
     "data": {
      "text/plain": [
       "[1, 3, 5]"
      ]
     },
     "execution_count": 69,
     "metadata": {},
     "output_type": "execute_result"
    }
   ],
   "source": [
    "ops1.extract_odd(ops1.l)"
   ]
  },
  {
   "cell_type": "code",
   "execution_count": 71,
   "id": "8eee0e2a-f6be-49a0-b4d5-4223f9b74665",
   "metadata": {},
   "outputs": [
    {
     "data": {
      "text/plain": [
       "[11]"
      ]
     },
     "execution_count": 71,
     "metadata": {},
     "output_type": "execute_result"
    }
   ],
   "source": [
    "ops1.extract_odd([8,11,12,14])"
   ]
  },
  {
   "cell_type": "code",
   "execution_count": 74,
   "id": "90dc9585-3db7-437f-9655-8f6621dae041",
   "metadata": {},
   "outputs": [
    {
     "data": {
      "text/plain": [
       "[1, 2, 3, 4, 5, 6]"
      ]
     },
     "execution_count": 74,
     "metadata": {},
     "output_type": "execute_result"
    }
   ],
   "source": [
    "# if you make any object, the attribute l is fixed if you initialise it along with the function\n",
    "ops1.l"
   ]
  },
  {
   "cell_type": "code",
   "execution_count": 75,
   "id": "10c08d41-c1c9-43bb-ad25-5b20dfb4357c",
   "metadata": {},
   "outputs": [],
   "source": [
    "# you want to take the attribute value of the class for each object differently"
   ]
  },
  {
   "cell_type": "code",
   "execution_count": 77,
   "id": "944c5b65-11de-4353-8fbb-44fea7e7b276",
   "metadata": {},
   "outputs": [],
   "source": [
    "class ListOps:\n",
    "    def __init__(self, l): #magic method/dunder method. init means initialization of variable\n",
    "        self.l = l\n",
    "        \n",
    "    def extract_even(self, l):\n",
    "        l1 = []\n",
    "        for i in l:\n",
    "            if i%2 == 0:\n",
    "                l1.append(i)\n",
    "        return l1\n",
    "    def extract_odd(self, l):\n",
    "        l1 = []\n",
    "        for i in l:\n",
    "            if i%2 != 0:\n",
    "                l1.append(i)\n",
    "        return l1"
   ]
  },
  {
   "cell_type": "code",
   "execution_count": 79,
   "id": "8f86ab7d-69c1-450f-9e5d-310b401442b1",
   "metadata": {},
   "outputs": [
    {
     "ename": "TypeError",
     "evalue": "ListOps.__init__() missing 1 required positional argument: 'l'",
     "output_type": "error",
     "traceback": [
      "\u001b[1;31m---------------------------------------------------------------------------\u001b[0m",
      "\u001b[1;31mTypeError\u001b[0m                                 Traceback (most recent call last)",
      "Cell \u001b[1;32mIn[79], line 1\u001b[0m\n\u001b[1;32m----> 1\u001b[0m ops1 \u001b[38;5;241m=\u001b[39m \u001b[43mListOps\u001b[49m\u001b[43m(\u001b[49m\u001b[43m)\u001b[49m\n\u001b[0;32m      2\u001b[0m \u001b[38;5;66;03m# throws an error\u001b[39;00m\n\u001b[0;32m      3\u001b[0m \u001b[38;5;66;03m# while making object/instance of the class, the first method that is executed is __init__\u001b[39;00m\n\u001b[0;32m      4\u001b[0m \u001b[38;5;66;03m# __init__ needs an argument\u001b[39;00m\n",
      "\u001b[1;31mTypeError\u001b[0m: ListOps.__init__() missing 1 required positional argument: 'l'"
     ]
    }
   ],
   "source": [
    "ops1 = ListOps()\n",
    "# throws an error\n",
    "# while making object/instance of the class, the first method that is executed is __init__\n",
    "# __init__ needs an argument"
   ]
  },
  {
   "cell_type": "code",
   "execution_count": 81,
   "id": "1b16b7bb-690f-4720-b27d-6bb1a70c2040",
   "metadata": {},
   "outputs": [],
   "source": [
    "ops1 = ListOps([1,2,3,5,321,3,1,9])"
   ]
  },
  {
   "cell_type": "code",
   "execution_count": 82,
   "id": "7581057e-fca3-440e-891d-8f2463918329",
   "metadata": {},
   "outputs": [
    {
     "data": {
      "text/plain": [
       "[1, 2, 3, 5, 321, 3, 1, 9]"
      ]
     },
     "execution_count": 82,
     "metadata": {},
     "output_type": "execute_result"
    }
   ],
   "source": [
    "ops1.l"
   ]
  },
  {
   "cell_type": "code",
   "execution_count": 83,
   "id": "6d438e69-edc4-4ea1-8511-ddeba52bac94",
   "metadata": {},
   "outputs": [],
   "source": [
    "ops2 = ListOps([4,2,7,3,1,0,5])"
   ]
  },
  {
   "cell_type": "code",
   "execution_count": 84,
   "id": "5a7c74db-e736-4c73-9a19-364dd8691607",
   "metadata": {},
   "outputs": [
    {
     "data": {
      "text/plain": [
       "[1, 2, 3, 5, 321, 3, 1, 9]"
      ]
     },
     "execution_count": 84,
     "metadata": {},
     "output_type": "execute_result"
    }
   ],
   "source": [
    "ops1.l"
   ]
  },
  {
   "cell_type": "code",
   "execution_count": 85,
   "id": "011bb5c4-745a-4b20-98c6-df29665ce3cc",
   "metadata": {},
   "outputs": [
    {
     "data": {
      "text/plain": [
       "[4, 2, 7, 3, 1, 0, 5]"
      ]
     },
     "execution_count": 85,
     "metadata": {},
     "output_type": "execute_result"
    }
   ],
   "source": [
    "ops2.l"
   ]
  },
  {
   "cell_type": "code",
   "execution_count": 86,
   "id": "0f660636-4b16-432b-8388-bcf5f7c5d46d",
   "metadata": {},
   "outputs": [
    {
     "ename": "TypeError",
     "evalue": "ListOps.extract_even() missing 1 required positional argument: 'l'",
     "output_type": "error",
     "traceback": [
      "\u001b[1;31m---------------------------------------------------------------------------\u001b[0m",
      "\u001b[1;31mTypeError\u001b[0m                                 Traceback (most recent call last)",
      "Cell \u001b[1;32mIn[86], line 1\u001b[0m\n\u001b[1;32m----> 1\u001b[0m \u001b[43mops1\u001b[49m\u001b[38;5;241;43m.\u001b[39;49m\u001b[43mextract_even\u001b[49m\u001b[43m(\u001b[49m\u001b[43m)\u001b[49m\n",
      "\u001b[1;31mTypeError\u001b[0m: ListOps.extract_even() missing 1 required positional argument: 'l'"
     ]
    }
   ],
   "source": [
    "ops1.extract_even()"
   ]
  },
  {
   "cell_type": "code",
   "execution_count": 92,
   "id": "ceaf0629-fddf-45bc-af40-96588feeda87",
   "metadata": {},
   "outputs": [],
   "source": [
    "class ListOps:\n",
    "    def __init__(self, l): #magic method/dunder method. init means initialization of variable\n",
    "        self.l = l\n",
    "        \n",
    "    def extract_even(self):\n",
    "        l = self.l\n",
    "        l1 = []\n",
    "        for i in l:\n",
    "            if i%2 == 0:\n",
    "                l1.append(i)\n",
    "        return l1\n",
    "    def extract_odd(self):\n",
    "        l = self.l\n",
    "        l1 = []\n",
    "        for i in l:\n",
    "            if i%2 != 0:\n",
    "                l1.append(i)\n",
    "        return l1"
   ]
  },
  {
   "cell_type": "code",
   "execution_count": 93,
   "id": "51f73f8d-6e40-490b-b7d1-a20305e33cf3",
   "metadata": {},
   "outputs": [
    {
     "data": {
      "text/plain": [
       "[3, 1, 5, 7]"
      ]
     },
     "execution_count": 93,
     "metadata": {},
     "output_type": "execute_result"
    }
   ],
   "source": [
    "ops1 = ListOps([2,3,1,5,7,8])\n",
    "ops1.extract_odd()"
   ]
  },
  {
   "cell_type": "code",
   "execution_count": 94,
   "id": "6f68b40e-205a-4c37-a402-53aaa6d4b85c",
   "metadata": {},
   "outputs": [
    {
     "data": {
      "text/plain": [
       "[2, 8]"
      ]
     },
     "execution_count": 94,
     "metadata": {},
     "output_type": "execute_result"
    }
   ],
   "source": [
    "ops1.extract_even()"
   ]
  },
  {
   "cell_type": "code",
   "execution_count": 4,
   "id": "2565a74b-be4d-4eab-8431-9500f1bb89af",
   "metadata": {},
   "outputs": [],
   "source": [
    "#multiple attributes\n",
    "#in a library, a book has author, title, name\n",
    "class Book:\n",
    "    def __init__(self, name, author, title):\n",
    "        self.name_of_book = name\n",
    "        self.book_author = author\n",
    "        self.title_name = title\n",
    "\n",
    "    def extract_details_name_title(self):\n",
    "        print(self.name_of_book, self.title_name)\n",
    "\n",
    "    def extract_details_name_author(self):\n",
    "        print(self.name_of_book, self.book_author)"
   ]
  },
  {
   "cell_type": "code",
   "execution_count": 5,
   "id": "010ae772-355b-486e-bd45-2c5f68147c7c",
   "metadata": {},
   "outputs": [],
   "source": [
    "student1 = Book(\"ML\", \"Murphy\", \"Linear Regression\")"
   ]
  },
  {
   "cell_type": "code",
   "execution_count": 6,
   "id": "8fa68a93-d116-428d-b9d0-26d5cda8a9cc",
   "metadata": {},
   "outputs": [
    {
     "name": "stdout",
     "output_type": "stream",
     "text": [
      "ML Murphy\n"
     ]
    }
   ],
   "source": [
    "student1.extract_details_name_author()"
   ]
  },
  {
   "cell_type": "code",
   "execution_count": 7,
   "id": "05531bd1-5757-42d3-afdb-a6dd3b486cd9",
   "metadata": {},
   "outputs": [
    {
     "name": "stdout",
     "output_type": "stream",
     "text": [
      "ML Linear Regression\n"
     ]
    }
   ],
   "source": [
    "student1.extract_details_name_title()"
   ]
  },
  {
   "cell_type": "code",
   "execution_count": 8,
   "id": "c134cc84-7afd-4d63-b2fb-04f928d72393",
   "metadata": {},
   "outputs": [
    {
     "name": "stdout",
     "output_type": "stream",
     "text": [
      "Stats Joss\n"
     ]
    }
   ],
   "source": [
    "student2 = Book(\"Stats\", \"Joss\", \"descriptive statistics\")\n",
    "student2.extract_details_name_author()"
   ]
  },
  {
   "cell_type": "code",
   "execution_count": 9,
   "id": "4ef3929d-cda0-4405-a654-90274f328324",
   "metadata": {},
   "outputs": [],
   "source": [
    "#multiple attributes\n",
    "#in a library, a book has author, title, name\n",
    "#every variable has fixed value\n",
    "class Book:\n",
    "    def __init__(self):\n",
    "        self.name_of_book = \"DSA\"\n",
    "        self.book_author = \"Cormen\"\n",
    "        self.title_name = \"Stacks\"\n",
    "\n",
    "    def extract_details_name_title(self):\n",
    "        print(self.name_of_book, self.title_name)\n",
    "\n",
    "    def extract_details_name_author(self):\n",
    "        print(self.name_of_book, self.book_author)"
   ]
  },
  {
   "cell_type": "code",
   "execution_count": 11,
   "id": "8bc37fa6-69f6-48c9-b9e9-127f3dde4f0b",
   "metadata": {},
   "outputs": [
    {
     "name": "stdout",
     "output_type": "stream",
     "text": [
      "DSA Cormen\n",
      "DSA Stacks\n"
     ]
    }
   ],
   "source": [
    "student3 = Book()\n",
    "student3.extract_details_name_author()\n",
    "student3.extract_details_name_title()"
   ]
  },
  {
   "cell_type": "code",
   "execution_count": null,
   "id": "01697e8f-5504-4c0b-8496-79c674e7a682",
   "metadata": {},
   "outputs": [],
   "source": []
  }
 ],
 "metadata": {
  "kernelspec": {
   "display_name": "Python 3 (ipykernel)",
   "language": "python",
   "name": "python3"
  },
  "language_info": {
   "codemirror_mode": {
    "name": "ipython",
    "version": 3
   },
   "file_extension": ".py",
   "mimetype": "text/x-python",
   "name": "python",
   "nbconvert_exporter": "python",
   "pygments_lexer": "ipython3",
   "version": "3.13.1"
  }
 },
 "nbformat": 4,
 "nbformat_minor": 5
}
