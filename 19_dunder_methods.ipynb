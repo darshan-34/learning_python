{
 "cells": [
  {
   "cell_type": "code",
   "execution_count": 4,
   "id": "a38c0054-4b87-4a82-9796-8c0978b99d35",
   "metadata": {},
   "outputs": [],
   "source": [
    "# dunder/magic/special method"
   ]
  },
  {
   "cell_type": "code",
   "execution_count": 5,
   "id": "cc108ed9-f0e6-4f91-b942-589d4e4cbd4f",
   "metadata": {},
   "outputs": [
    {
     "name": "stdout",
     "output_type": "stream",
     "text": [
      "hello world\n"
     ]
    }
   ],
   "source": [
    "print(\"hello world\")\n",
    "#print is a keyword/inbuilt function"
   ]
  },
  {
   "cell_type": "code",
   "execution_count": 7,
   "id": "6f350a37-0f31-4d0d-9caf-7df1b893d5e1",
   "metadata": {},
   "outputs": [],
   "source": [
    "#Dunder/magic/special methods are defined by built-in classes in python\n",
    "#classes define these type of methods for creating custom objects\n",
    "#implementing operator overloading in python"
   ]
  },
  {
   "cell_type": "code",
   "execution_count": 8,
   "id": "14a6e758-84b6-457e-84a9-21c8a26f2b2f",
   "metadata": {},
   "outputs": [],
   "source": [
    "#D+under\n",
    "#double underscore >> all the methods surrounding double underscore are dunder methods"
   ]
  },
  {
   "cell_type": "code",
   "execution_count": 9,
   "id": "4c6232ae-94ea-4276-a3b1-b753ac8e988d",
   "metadata": {},
   "outputs": [
    {
     "data": {
      "text/plain": [
       "'physicswallah'"
      ]
     },
     "execution_count": 9,
     "metadata": {},
     "output_type": "execute_result"
    }
   ],
   "source": [
    "a = \"physics\"\n",
    "b = \"wallah\"\n",
    "a+b"
   ]
  },
  {
   "cell_type": "code",
   "execution_count": 10,
   "id": "791b289b-ae03-4074-9b4f-8a84502720a6",
   "metadata": {},
   "outputs": [
    {
     "data": {
      "text/plain": [
       "'physicswallah'"
      ]
     },
     "execution_count": 10,
     "metadata": {},
     "output_type": "execute_result"
    }
   ],
   "source": [
    "a.__add__(b) # "
   ]
  },
  {
   "cell_type": "code",
   "execution_count": 12,
   "id": "7c7fe3ad-d91f-473d-a09e-f22483466371",
   "metadata": {},
   "outputs": [
    {
     "data": {
      "text/plain": [
       "['__add__',\n",
       " '__class__',\n",
       " '__contains__',\n",
       " '__delattr__',\n",
       " '__dir__',\n",
       " '__doc__',\n",
       " '__eq__',\n",
       " '__format__',\n",
       " '__ge__',\n",
       " '__getattribute__',\n",
       " '__getitem__',\n",
       " '__getnewargs__',\n",
       " '__getstate__',\n",
       " '__gt__',\n",
       " '__hash__',\n",
       " '__init__',\n",
       " '__init_subclass__',\n",
       " '__iter__',\n",
       " '__le__',\n",
       " '__len__',\n",
       " '__lt__',\n",
       " '__mod__',\n",
       " '__mul__',\n",
       " '__ne__',\n",
       " '__new__',\n",
       " '__reduce__',\n",
       " '__reduce_ex__',\n",
       " '__repr__',\n",
       " '__rmod__',\n",
       " '__rmul__',\n",
       " '__setattr__',\n",
       " '__sizeof__',\n",
       " '__str__',\n",
       " '__subclasshook__',\n",
       " 'capitalize',\n",
       " 'casefold',\n",
       " 'center',\n",
       " 'count',\n",
       " 'encode',\n",
       " 'endswith',\n",
       " 'expandtabs',\n",
       " 'find',\n",
       " 'format',\n",
       " 'format_map',\n",
       " 'index',\n",
       " 'isalnum',\n",
       " 'isalpha',\n",
       " 'isascii',\n",
       " 'isdecimal',\n",
       " 'isdigit',\n",
       " 'isidentifier',\n",
       " 'islower',\n",
       " 'isnumeric',\n",
       " 'isprintable',\n",
       " 'isspace',\n",
       " 'istitle',\n",
       " 'isupper',\n",
       " 'join',\n",
       " 'ljust',\n",
       " 'lower',\n",
       " 'lstrip',\n",
       " 'maketrans',\n",
       " 'partition',\n",
       " 'removeprefix',\n",
       " 'removesuffix',\n",
       " 'replace',\n",
       " 'rfind',\n",
       " 'rindex',\n",
       " 'rjust',\n",
       " 'rpartition',\n",
       " 'rsplit',\n",
       " 'rstrip',\n",
       " 'split',\n",
       " 'splitlines',\n",
       " 'startswith',\n",
       " 'strip',\n",
       " 'swapcase',\n",
       " 'title',\n",
       " 'translate',\n",
       " 'upper',\n",
       " 'zfill']"
      ]
     },
     "execution_count": 12,
     "metadata": {},
     "output_type": "execute_result"
    }
   ],
   "source": [
    "dir(str)\n",
    "#all the underscore functions are dunder methods"
   ]
  },
  {
   "cell_type": "code",
   "execution_count": 23,
   "id": "860416cc-f9e6-4b2a-9096-eba82317575d",
   "metadata": {},
   "outputs": [],
   "source": [
    "#usefull dunder methods\n",
    "# __init__ >> to take data w.r.t object\n",
    "class Student:\n",
    "    def __init__(self, name):\n",
    "        # __init__ >> to initialize the newly created object >> it sets up any initial state/properties of object\n",
    "        print(name, \"This is the first thing that will be executed when you make instance/object of the class\")"
   ]
  },
  {
   "cell_type": "code",
   "execution_count": 24,
   "id": "a98aed8d-eb54-4f1f-a3f7-b02f19fd2973",
   "metadata": {},
   "outputs": [
    {
     "name": "stdout",
     "output_type": "stream",
     "text": [
      "Ajay This is the first thing that will be executed when you make instance/object of the class\n"
     ]
    }
   ],
   "source": [
    "obj1 = Student(\"Ajay\")"
   ]
  },
  {
   "cell_type": "code",
   "execution_count": 25,
   "id": "38f18a59-07ea-4911-8894-76b219d8c62d",
   "metadata": {},
   "outputs": [
    {
     "name": "stdout",
     "output_type": "stream",
     "text": [
      "Sanjay This is the first thing that will be executed when you make instance/object of the class\n"
     ]
    }
   ],
   "source": [
    "obj1 = Student(\"Sanjay\")"
   ]
  },
  {
   "cell_type": "code",
   "execution_count": 28,
   "id": "415f339d-8d19-4cad-97d8-d5e34f68341b",
   "metadata": {},
   "outputs": [],
   "source": [
    "#__new__ dunder method\n",
    "class Student:\n",
    "    def __new__(cls):\n",
    "        # __new__ is used for creating a new instance of the class\n",
    "        print(\"This will be executed before init.\")\n",
    "    def __init__(self, name):\n",
    "        print(name, \"This is the first thing that will be executed when you make instance/object of the class\")"
   ]
  },
  {
   "cell_type": "code",
   "execution_count": 29,
   "id": "9bb55f79-6b47-4031-8aea-32267580cc87",
   "metadata": {},
   "outputs": [
    {
     "name": "stdout",
     "output_type": "stream",
     "text": [
      "This will be executed before init.\n"
     ]
    }
   ],
   "source": [
    "obj = Student()"
   ]
  },
  {
   "cell_type": "code",
   "execution_count": 30,
   "id": "94e1cc15-9ee3-4da0-b775-e8c8412080b9",
   "metadata": {},
   "outputs": [
    {
     "name": "stdout",
     "output_type": "stream",
     "text": [
      "This will be executed before init.\n"
     ]
    }
   ],
   "source": [
    "Student()"
   ]
  },
  {
   "cell_type": "code",
   "execution_count": 34,
   "id": "5df9cc4b-85ee-4175-8c5a-aaa00a9a4316",
   "metadata": {},
   "outputs": [],
   "source": [
    "# another dunder method >> __str__\n",
    "class Student:\n",
    "    def __init__(self):\n",
    "        self.phone = 938384932"
   ]
  },
  {
   "cell_type": "code",
   "execution_count": 36,
   "id": "2a2fd89f-87fd-45aa-8d9c-b43ffce027be",
   "metadata": {},
   "outputs": [
    {
     "name": "stdout",
     "output_type": "stream",
     "text": [
      "<__main__.Student object at 0x0000010AE9420050>\n"
     ]
    }
   ],
   "source": [
    "print(Student()) #hexadecimal representation of memory of student object"
   ]
  },
  {
   "cell_type": "code",
   "execution_count": 38,
   "id": "4fff19a3-51c8-4b88-894a-b797f6e76e49",
   "metadata": {},
   "outputs": [],
   "source": [
    "class Student:\n",
    "    def __init__(self):\n",
    "        self.phone = 938384932\n",
    "    def __str__(self): # will return a string representation of the method\n",
    "        return \"This method overloads the print statement of object method\""
   ]
  },
  {
   "cell_type": "code",
   "execution_count": 40,
   "id": "09096d43-143c-4142-979e-f1c4ac424f78",
   "metadata": {},
   "outputs": [
    {
     "name": "stdout",
     "output_type": "stream",
     "text": [
      "This method overloads the print statement of object method\n"
     ]
    }
   ],
   "source": [
    "print(Student())"
   ]
  },
  {
   "cell_type": "code",
   "execution_count": 41,
   "id": "ba1420c3-a862-4946-acfa-07f1525dab2b",
   "metadata": {},
   "outputs": [],
   "source": [
    "#another dunder method >> __repr__ \n",
    "#it return unambiguous string representation of the object as it's that can be used to recreate the object"
   ]
  },
  {
   "cell_type": "code",
   "execution_count": 42,
   "id": "e622b780-d876-4529-b7e7-c97eb0af6fbb",
   "metadata": {},
   "outputs": [],
   "source": [
    "class MyClass:\n",
    "    def __init__(self, x):\n",
    "        self.x = x\n",
    "    def __repr__(self):\n",
    "        return f\"MyClass({self.x})\""
   ]
  },
  {
   "cell_type": "code",
   "execution_count": 43,
   "id": "20f00c1f-f16d-452c-98d2-1c1430509ab1",
   "metadata": {},
   "outputs": [],
   "source": [
    "obj = MyClass(5)"
   ]
  },
  {
   "cell_type": "code",
   "execution_count": 44,
   "id": "6b5bfb20-9ea8-4cae-a729-4eb3b56b8ac3",
   "metadata": {},
   "outputs": [
    {
     "name": "stdout",
     "output_type": "stream",
     "text": [
      "MyClass(5)\n"
     ]
    }
   ],
   "source": [
    "print(repr(obj))"
   ]
  },
  {
   "cell_type": "code",
   "execution_count": 51,
   "id": "2934dcea-a6cc-4b40-9e84-24b19df8344a",
   "metadata": {},
   "outputs": [
    {
     "data": {
      "text/plain": [
       "True"
      ]
     },
     "execution_count": 51,
     "metadata": {},
     "output_type": "execute_result"
    }
   ],
   "source": [
    "# another dunder method >> __eq__\n",
    "True == True"
   ]
  },
  {
   "cell_type": "code",
   "execution_count": 52,
   "id": "091624be-7f8e-45ee-850d-f4a4c14d5ab2",
   "metadata": {},
   "outputs": [
    {
     "data": {
      "text/plain": [
       "True"
      ]
     },
     "execution_count": 52,
     "metadata": {},
     "output_type": "execute_result"
    }
   ],
   "source": [
    "3==3"
   ]
  },
  {
   "cell_type": "code",
   "execution_count": 53,
   "id": "c0ea2ae3-5012-4cf4-87fe-708ce130ca55",
   "metadata": {},
   "outputs": [
    {
     "data": {
      "text/plain": [
       "True"
      ]
     },
     "execution_count": 53,
     "metadata": {},
     "output_type": "execute_result"
    }
   ],
   "source": [
    "a = 3\n",
    "b = 3\n",
    "a.__eq__(b)"
   ]
  },
  {
   "cell_type": "code",
   "execution_count": 65,
   "id": "709f711b-0e5d-4721-bea0-e37da7565a96",
   "metadata": {},
   "outputs": [],
   "source": [
    "#use case of __eq__\n",
    "class Point:\n",
    "    def __init__(self, x,y):\n",
    "        self.x = x\n",
    "        self.y = y\n",
    "    def __eq__(self,other):\n",
    "        return self.x == other.x and self.y == other.y\n",
    "        # when you are using '==' operator with point objects, \n",
    "        # python internally called __eq__"
   ]
  },
  {
   "cell_type": "code",
   "execution_count": 64,
   "id": "cc30ef7e-c8b7-4964-8125-4db9afc43ca0",
   "metadata": {},
   "outputs": [
    {
     "name": "stdout",
     "output_type": "stream",
     "text": [
      "False\n"
     ]
    }
   ],
   "source": [
    "p1 = Point(1,2)\n",
    "p2 = Point(1,3)\n",
    "print(p1==p2)"
   ]
  },
  {
   "cell_type": "code",
   "execution_count": 58,
   "id": "a7f12b1c-05da-406f-998e-d3b67b92c7d3",
   "metadata": {},
   "outputs": [],
   "source": [
    "# another dunder method >> __add__"
   ]
  },
  {
   "cell_type": "code",
   "execution_count": 66,
   "id": "19bc5d04-2e24-499f-83db-1e8dd2db24e2",
   "metadata": {},
   "outputs": [],
   "source": [
    "class Point:\n",
    "    def __init__(self, x,y):\n",
    "        self.x = x\n",
    "        self.y = y\n",
    "    def __add__(self,other):\n",
    "        return Point(self.x + other.x, self.y + other.y)\n",
    "        # when you are using '+' operator with point objects, \n",
    "        # python internally called __add__"
   ]
  },
  {
   "cell_type": "code",
   "execution_count": 62,
   "id": "8f881b3e-923b-44d4-ab04-07cdde355edd",
   "metadata": {},
   "outputs": [
    {
     "name": "stdout",
     "output_type": "stream",
     "text": [
      "10 3\n"
     ]
    }
   ],
   "source": [
    "p1 = Point(8,2)\n",
    "p2 = Point(2,1)\n",
    "p3 = p1+p2\n",
    "print(p3.x, p3.y)"
   ]
  },
  {
   "cell_type": "code",
   "execution_count": null,
   "id": "3933fb60-0f21-4660-993f-4bfd92a5d374",
   "metadata": {},
   "outputs": [],
   "source": []
  }
 ],
 "metadata": {
  "kernelspec": {
   "display_name": "Python 3 (ipykernel)",
   "language": "python",
   "name": "python3"
  },
  "language_info": {
   "codemirror_mode": {
    "name": "ipython",
    "version": 3
   },
   "file_extension": ".py",
   "mimetype": "text/x-python",
   "name": "python",
   "nbconvert_exporter": "python",
   "pygments_lexer": "ipython3",
   "version": "3.13.1"
  }
 },
 "nbformat": 4,
 "nbformat_minor": 5
}
