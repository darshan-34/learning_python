{
 "cells": [
  {
   "cell_type": "code",
   "execution_count": 3,
   "id": "5e53eda6-ed2d-40ec-bc08-e80850490ba5",
   "metadata": {},
   "outputs": [],
   "source": [
    "# inheritance >> process of child reveiving the properties of parent class\n",
    "\n",
    "#class BaseClass:\n",
    "    #body of base class\n",
    "#class DerivedClass(BaseClass):\n",
    "    #body of derived class"
   ]
  },
  {
   "cell_type": "code",
   "execution_count": 5,
   "id": "a0e39096-51ae-4495-8e13-ca8253c3ebc6",
   "metadata": {},
   "outputs": [],
   "source": [
    "#single inheritance >> when a derived class has only one parent class\n",
    "#example\n",
    "\n",
    "class Father:\n",
    "    def father_property(self):\n",
    "        print(\"This is father property\")"
   ]
  },
  {
   "cell_type": "code",
   "execution_count": 6,
   "id": "7122fbba-91d5-4b6c-a113-446b70624b6c",
   "metadata": {},
   "outputs": [],
   "source": [
    "class Son(Father):\n",
    "    def job(self):\n",
    "        print(\"Son has property from job\")"
   ]
  },
  {
   "cell_type": "code",
   "execution_count": 7,
   "id": "b4db0038-aeac-4006-9bde-04555134b129",
   "metadata": {},
   "outputs": [],
   "source": [
    "child_obj = Son()"
   ]
  },
  {
   "cell_type": "code",
   "execution_count": 8,
   "id": "eaf36872-0060-43b9-a500-c81433202dd9",
   "metadata": {},
   "outputs": [
    {
     "name": "stdout",
     "output_type": "stream",
     "text": [
      "Son has property from job\n"
     ]
    }
   ],
   "source": [
    "child_obj.job()"
   ]
  },
  {
   "cell_type": "code",
   "execution_count": 9,
   "id": "942337c5-0713-4770-960d-707584d32b01",
   "metadata": {},
   "outputs": [
    {
     "name": "stdout",
     "output_type": "stream",
     "text": [
      "This is father property\n"
     ]
    }
   ],
   "source": [
    "child_obj.father_property()"
   ]
  },
  {
   "cell_type": "code",
   "execution_count": 10,
   "id": "2b4fd15d-6a54-48fc-b97c-b3dd2f2046d8",
   "metadata": {},
   "outputs": [
    {
     "name": "stdout",
     "output_type": "stream",
     "text": [
      "This is father property\n"
     ]
    }
   ],
   "source": [
    "# A father will only have his property\n",
    "father_obj = Father()\n",
    "father_obj.father_property()"
   ]
  },
  {
   "cell_type": "code",
   "execution_count": 12,
   "id": "80f73d41-af7f-4a0c-b6ef-4c02b3ae870d",
   "metadata": {},
   "outputs": [
    {
     "ename": "AttributeError",
     "evalue": "'Father' object has no attribute 'job'",
     "output_type": "error",
     "traceback": [
      "\u001b[1;31m---------------------------------------------------------------------------\u001b[0m",
      "\u001b[1;31mAttributeError\u001b[0m                            Traceback (most recent call last)",
      "Cell \u001b[1;32mIn[12], line 1\u001b[0m\n\u001b[1;32m----> 1\u001b[0m \u001b[43mfather_obj\u001b[49m\u001b[38;5;241;43m.\u001b[39;49m\u001b[43mjob\u001b[49m() \u001b[38;5;66;03m#it will throw an error\u001b[39;00m\n",
      "\u001b[1;31mAttributeError\u001b[0m: 'Father' object has no attribute 'job'"
     ]
    }
   ],
   "source": [
    "father_obj.job() #it will throw an error"
   ]
  },
  {
   "cell_type": "code",
   "execution_count": 13,
   "id": "94d158cd-330d-4ce0-932f-67f455876d07",
   "metadata": {},
   "outputs": [],
   "source": [
    "class Fruit:\n",
    "    def fruit_info(self):\n",
    "        print(\"inside parent class\")\n",
    "class Apple(Fruit):\n",
    "    def apple_info(self):\n",
    "        print(\"inside child class\")"
   ]
  },
  {
   "cell_type": "code",
   "execution_count": 15,
   "id": "6a7f4a0e-fcdf-488d-bd5b-a6538ed3b14f",
   "metadata": {},
   "outputs": [
    {
     "name": "stdout",
     "output_type": "stream",
     "text": [
      "inside child class\n",
      "inside parent class\n"
     ]
    }
   ],
   "source": [
    "obj = Apple()\n",
    "obj.apple_info()\n",
    "obj.fruit_info()"
   ]
  },
  {
   "cell_type": "code",
   "execution_count": 17,
   "id": "6a63cfb0-af5b-4f5a-a478-6303ee90efd6",
   "metadata": {},
   "outputs": [
    {
     "name": "stdout",
     "output_type": "stream",
     "text": [
      "inside parent class\n"
     ]
    }
   ],
   "source": [
    "par = Fruit()\n",
    "par.fruit_info()"
   ]
  },
  {
   "cell_type": "code",
   "execution_count": 18,
   "id": "e2df62ce-7b0c-43fa-a787-693080610601",
   "metadata": {},
   "outputs": [
    {
     "ename": "AttributeError",
     "evalue": "'Fruit' object has no attribute 'apple_info'",
     "output_type": "error",
     "traceback": [
      "\u001b[1;31m---------------------------------------------------------------------------\u001b[0m",
      "\u001b[1;31mAttributeError\u001b[0m                            Traceback (most recent call last)",
      "Cell \u001b[1;32mIn[18], line 1\u001b[0m\n\u001b[1;32m----> 1\u001b[0m \u001b[43mpar\u001b[49m\u001b[38;5;241;43m.\u001b[39;49m\u001b[43mapple_info\u001b[49m()\n",
      "\u001b[1;31mAttributeError\u001b[0m: 'Fruit' object has no attribute 'apple_info'"
     ]
    }
   ],
   "source": [
    "par.apple_info()"
   ]
  },
  {
   "cell_type": "code",
   "execution_count": 25,
   "id": "d737c37f-3eab-4e79-96a8-9e0d00cfd5b4",
   "metadata": {},
   "outputs": [],
   "source": [
    "#method overriding >> re-writing/re-defining methods of parent class in derived/child class\n",
    "class Fruit:\n",
    "    def fruit_info(self):\n",
    "        print(\"inside parent class\")\n",
    "class Apple(Fruit):\n",
    "    def fruit_info(self):\n",
    "        print(\"inside child class(fruit info)\")\n",
    "    def apple_info(self):\n",
    "        print(\"inside child class\")\n",
    "\n",
    "#method overriding >> child class is very powerfull\n",
    "#method overriding happens between two class"
   ]
  },
  {
   "cell_type": "code",
   "execution_count": 26,
   "id": "fb1f12ed-1ead-4973-9a56-1025c8173a06",
   "metadata": {},
   "outputs": [
    {
     "name": "stdout",
     "output_type": "stream",
     "text": [
      "inside child class(fruit info)\n"
     ]
    }
   ],
   "source": [
    "obj = Apple()\n",
    "obj.fruit_info()"
   ]
  },
  {
   "cell_type": "code",
   "execution_count": 28,
   "id": "454d4ebc-e30b-4ef8-9ba0-9d75c9500400",
   "metadata": {},
   "outputs": [],
   "source": [
    "#multi-level inheritance"
   ]
  },
  {
   "cell_type": "code",
   "execution_count": 29,
   "id": "bcf54236-4121-4b94-bbae-c76d3adf36f0",
   "metadata": {},
   "outputs": [],
   "source": [
    "class GrandFather:\n",
    "    def prop_grandfather(self):\n",
    "        print(\"I am your grand father, this is my property\")\n",
    "class Father(GrandFather):\n",
    "    def prop_father(self):\n",
    "        print(\"I am your father, this is my property and grandfather's property\")\n",
    "class Son(Father):\n",
    "    def prop_son(self):\n",
    "        print(\"I am the son, this is my property and i have the properties of father and grandfather\")"
   ]
  },
  {
   "cell_type": "code",
   "execution_count": 30,
   "id": "36042952-41a3-4d99-8187-44c486c8bf06",
   "metadata": {},
   "outputs": [
    {
     "name": "stdout",
     "output_type": "stream",
     "text": [
      "I am your father, this is my property and grandfather's property\n"
     ]
    }
   ],
   "source": [
    "son = Son()\n",
    "son.prop_father()"
   ]
  },
  {
   "cell_type": "code",
   "execution_count": 31,
   "id": "800d6bd7-59fd-49c8-be3c-a120f400ced3",
   "metadata": {},
   "outputs": [
    {
     "name": "stdout",
     "output_type": "stream",
     "text": [
      "I am your grand father, this is my property\n"
     ]
    }
   ],
   "source": [
    "son.prop_grandfather()"
   ]
  },
  {
   "cell_type": "code",
   "execution_count": 32,
   "id": "ee1dc292-f2bf-449b-8f44-bc47f63f3e3a",
   "metadata": {},
   "outputs": [
    {
     "name": "stdout",
     "output_type": "stream",
     "text": [
      "I am the son, this is my property and i have the properties of father and grandfather\n"
     ]
    }
   ],
   "source": [
    "son.prop_son()"
   ]
  },
  {
   "cell_type": "code",
   "execution_count": 33,
   "id": "71527dfc-cb55-4063-be3c-976e12df9d75",
   "metadata": {},
   "outputs": [
    {
     "name": "stdout",
     "output_type": "stream",
     "text": [
      "I am your father, this is my property and grandfather's property\n"
     ]
    }
   ],
   "source": [
    "father = Father()\n",
    "father.prop_father()"
   ]
  },
  {
   "cell_type": "code",
   "execution_count": 34,
   "id": "f6bdd080-ab03-43a8-aaf1-78e358cc8130",
   "metadata": {},
   "outputs": [
    {
     "name": "stdout",
     "output_type": "stream",
     "text": [
      "I am your grand father, this is my property\n"
     ]
    }
   ],
   "source": [
    "father.prop_grandfather()"
   ]
  },
  {
   "cell_type": "code",
   "execution_count": 35,
   "id": "16d9696a-923a-469e-afab-f570ca7d7f2e",
   "metadata": {},
   "outputs": [
    {
     "ename": "AttributeError",
     "evalue": "'Father' object has no attribute 'prop_son'",
     "output_type": "error",
     "traceback": [
      "\u001b[1;31m---------------------------------------------------------------------------\u001b[0m",
      "\u001b[1;31mAttributeError\u001b[0m                            Traceback (most recent call last)",
      "Cell \u001b[1;32mIn[35], line 1\u001b[0m\n\u001b[1;32m----> 1\u001b[0m \u001b[43mfather\u001b[49m\u001b[38;5;241;43m.\u001b[39;49m\u001b[43mprop_son\u001b[49m()\n",
      "\u001b[1;31mAttributeError\u001b[0m: 'Father' object has no attribute 'prop_son'"
     ]
    }
   ],
   "source": [
    "father.prop_son()"
   ]
  },
  {
   "cell_type": "code",
   "execution_count": 37,
   "id": "f9ebfe0f-02b7-4928-afd0-da3740aa039f",
   "metadata": {},
   "outputs": [
    {
     "name": "stdout",
     "output_type": "stream",
     "text": [
      "I am your grand father, this is my property\n"
     ]
    }
   ],
   "source": [
    "gfather = GrandFather()\n",
    "gfather.prop_grandfather()"
   ]
  },
  {
   "cell_type": "code",
   "execution_count": 38,
   "id": "c9790acf-2885-42a9-a14c-4a4c562ac656",
   "metadata": {},
   "outputs": [
    {
     "ename": "AttributeError",
     "evalue": "'GrandFather' object has no attribute 'prop_father'",
     "output_type": "error",
     "traceback": [
      "\u001b[1;31m---------------------------------------------------------------------------\u001b[0m",
      "\u001b[1;31mAttributeError\u001b[0m                            Traceback (most recent call last)",
      "Cell \u001b[1;32mIn[38], line 1\u001b[0m\n\u001b[1;32m----> 1\u001b[0m \u001b[43mgfather\u001b[49m\u001b[38;5;241;43m.\u001b[39;49m\u001b[43mprop_father\u001b[49m()\n",
      "\u001b[1;31mAttributeError\u001b[0m: 'GrandFather' object has no attribute 'prop_father'"
     ]
    }
   ],
   "source": [
    "gfather.prop_father()"
   ]
  },
  {
   "cell_type": "code",
   "execution_count": 39,
   "id": "bcc46485-5e17-47ce-81d1-6795c24d7fc9",
   "metadata": {},
   "outputs": [
    {
     "ename": "AttributeError",
     "evalue": "'GrandFather' object has no attribute 'prop_son'",
     "output_type": "error",
     "traceback": [
      "\u001b[1;31m---------------------------------------------------------------------------\u001b[0m",
      "\u001b[1;31mAttributeError\u001b[0m                            Traceback (most recent call last)",
      "Cell \u001b[1;32mIn[39], line 1\u001b[0m\n\u001b[1;32m----> 1\u001b[0m \u001b[43mgfather\u001b[49m\u001b[38;5;241;43m.\u001b[39;49m\u001b[43mprop_son\u001b[49m()\n",
      "\u001b[1;31mAttributeError\u001b[0m: 'GrandFather' object has no attribute 'prop_son'"
     ]
    }
   ],
   "source": [
    "gfather.prop_son()"
   ]
  },
  {
   "cell_type": "code",
   "execution_count": 40,
   "id": "a32315c7-a00c-4609-a67f-59f31da7840a",
   "metadata": {},
   "outputs": [],
   "source": [
    "#method overriding and multi-level inheritance example\n",
    "class Vehicle:\n",
    "    def vehicle_info(self):\n",
    "        print(\"Inside vechicle class\")\n",
    "class Car(Vehicle):\n",
    "    def car_info(self):\n",
    "        print(\"Inside the car class\")\n",
    "class SportsCar(Car):\n",
    "    def vehicle_info(self):\n",
    "        print(\"Inside sports car\")"
   ]
  },
  {
   "cell_type": "code",
   "execution_count": 41,
   "id": "eba58c88-7e89-4646-a96b-26cf3e5016db",
   "metadata": {},
   "outputs": [
    {
     "name": "stdout",
     "output_type": "stream",
     "text": [
      "Inside sports car\n"
     ]
    }
   ],
   "source": [
    "s1 = SportsCar()\n",
    "s1.vehicle_info()"
   ]
  },
  {
   "cell_type": "code",
   "execution_count": 42,
   "id": "c1ebab3f-43dc-48c4-8050-8129ffe83e78",
   "metadata": {},
   "outputs": [],
   "source": [
    "#multiple inheritance >> one child class may inherit the property of multiple parent class"
   ]
  },
  {
   "cell_type": "code",
   "execution_count": 43,
   "id": "9c424ce2-3b30-48fd-a26d-e957ca75887f",
   "metadata": {},
   "outputs": [],
   "source": [
    "class Parent1:\n",
    "    def method1(self):\n",
    "        print(\"method 1 of parent class 1\")\n",
    "class Parent2:\n",
    "    def method2(self):\n",
    "        print(\"method1 of parent class 2\")"
   ]
  },
  {
   "cell_type": "code",
   "execution_count": 44,
   "id": "809cfe3f-1432-465a-8d13-1e21cf77a663",
   "metadata": {},
   "outputs": [],
   "source": [
    "class ChildClass(Parent1, Parent2):\n",
    "    def method(self):\n",
    "        print(\"method1 of child class\")"
   ]
  },
  {
   "cell_type": "code",
   "execution_count": 48,
   "id": "fd11db4f-2507-41c0-b981-98fcb4fb6f49",
   "metadata": {},
   "outputs": [
    {
     "name": "stdout",
     "output_type": "stream",
     "text": [
      "method 1 of parent class 1\n",
      "method1 of parent class 2\n",
      "method1 of child class\n"
     ]
    }
   ],
   "source": [
    "c1 = ChildClass()\n",
    "c1.method1()\n",
    "c1.method2()\n",
    "c1.method()"
   ]
  },
  {
   "cell_type": "code",
   "execution_count": 50,
   "id": "fad6ef5e-3a78-4576-be46-81a9b3f59ee0",
   "metadata": {},
   "outputs": [],
   "source": [
    "#diamond problem >> occurs when a class inherits from 2 or more than 2 class >> will lead to ambiguity in execution of method\n",
    "#to remove diamond problem, python used method resolution order(MRO) algorithms called c3 linearization\n",
    "#it means that the class that is inherited first in the derived class, that method will be executed\n",
    "class Parent1:\n",
    "    def method_par(self):\n",
    "        print(\"method 1 of parent class 1\")\n",
    "class Parent2:\n",
    "    def method_par(self):\n",
    "        print(\"method1 of parent class 2\")\n",
    "class ChildClass(Parent1, Parent2):\n",
    "    def method(self):\n",
    "        print(\"method1 of child class\")"
   ]
  },
  {
   "cell_type": "code",
   "execution_count": 51,
   "id": "7454b567-595b-49c4-8318-e166766e127f",
   "metadata": {},
   "outputs": [
    {
     "name": "stdout",
     "output_type": "stream",
     "text": [
      "method 1 of parent class 1\n"
     ]
    }
   ],
   "source": [
    "c2 = ChildClass()\n",
    "c2.method_par()"
   ]
  },
  {
   "cell_type": "code",
   "execution_count": 55,
   "id": "72a83060-4b6e-42b3-8bda-5855f97b8bb3",
   "metadata": {},
   "outputs": [],
   "source": [
    "class A:\n",
    "    def method(self):\n",
    "        print(\"method of class A\")\n",
    "class B(A):\n",
    "    def method(self):\n",
    "        print(\"method of class B\")\n",
    "class C(A):\n",
    "    def method(self):\n",
    "        print(\"method of class C\")\n",
    "class D(C, B):\n",
    "    pass"
   ]
  },
  {
   "cell_type": "code",
   "execution_count": 56,
   "id": "99bf76be-6fe8-4c94-85da-a86666624b5f",
   "metadata": {},
   "outputs": [
    {
     "name": "stdout",
     "output_type": "stream",
     "text": [
      "method of class C\n"
     ]
    }
   ],
   "source": [
    "d = D()\n",
    "d.method()"
   ]
  },
  {
   "cell_type": "code",
   "execution_count": 57,
   "id": "9546798b-699b-4e84-92a5-c3d4cfd50a72",
   "metadata": {},
   "outputs": [],
   "source": [
    "#hierarchical inheritance >> one parent class >> multiple child class"
   ]
  },
  {
   "cell_type": "code",
   "execution_count": 65,
   "id": "0beb6f3e-4f5f-4be4-962f-bfdc6f78fb28",
   "metadata": {},
   "outputs": [],
   "source": [
    "class Vehicle:\n",
    "    def info(self):\n",
    "        print(\"This is vehicle\")\n",
    "class Car(Vehicle):\n",
    "    def car_info(self, name):\n",
    "        print(\"This is car info\", name)\n",
    "class Truck(Vehicle):\n",
    "    def truck_info(self, name):\n",
    "        print(\"This is truck info\", name)"
   ]
  },
  {
   "cell_type": "code",
   "execution_count": 66,
   "id": "41eb89cd-6802-4f55-9026-69f12569bd74",
   "metadata": {},
   "outputs": [
    {
     "name": "stdout",
     "output_type": "stream",
     "text": [
      "This is vehicle\n"
     ]
    }
   ],
   "source": [
    "c1 = Car()\n",
    "c1.info()"
   ]
  },
  {
   "cell_type": "code",
   "execution_count": 67,
   "id": "88b07194-c5ff-46ad-b11f-bc8fcb60174d",
   "metadata": {},
   "outputs": [
    {
     "name": "stdout",
     "output_type": "stream",
     "text": [
      "This is car info KTM\n"
     ]
    }
   ],
   "source": [
    "c1.car_info(\"KTM\")"
   ]
  },
  {
   "cell_type": "code",
   "execution_count": 68,
   "id": "3373fb20-6e4d-4fc0-b302-a31cc60de2a5",
   "metadata": {},
   "outputs": [
    {
     "name": "stdout",
     "output_type": "stream",
     "text": [
      "This is vehicle\n"
     ]
    }
   ],
   "source": [
    "t1 = Truck()\n",
    "t1.info()"
   ]
  },
  {
   "cell_type": "code",
   "execution_count": 69,
   "id": "dd12d628-a761-40e1-9b9d-e4fae2749d11",
   "metadata": {},
   "outputs": [
    {
     "name": "stdout",
     "output_type": "stream",
     "text": [
      "This is truck info Scania\n"
     ]
    }
   ],
   "source": [
    "t1.truck_info(\"Scania\")"
   ]
  },
  {
   "cell_type": "code",
   "execution_count": 70,
   "id": "497177a4-c837-4762-a283-8c8032614834",
   "metadata": {},
   "outputs": [],
   "source": [
    "#hybrid inheritance >> multiple types or combination of different inheritance"
   ]
  },
  {
   "cell_type": "code",
   "execution_count": 78,
   "id": "845feceb-b9cf-407e-94e3-43ba46a6fc6c",
   "metadata": {},
   "outputs": [],
   "source": [
    "class Vehicle:\n",
    "    def vehicle_info(self):\n",
    "        print(\"Inside the vehicle class\")\n",
    "class Car(Vehicle):\n",
    "    def car_info(self):\n",
    "        print(\"Inside the car class\")\n",
    "class Truck(Vehicle):\n",
    "    def truck_info(self, name):\n",
    "        print(\"Inside the truck class\", name)\n",
    "class SportsCar(Car, Vehicle):\n",
    "    def sports_car_info(self):\n",
    "        print(\"Inside the sports car class\")"
   ]
  },
  {
   "cell_type": "code",
   "execution_count": 79,
   "id": "ce729cfe-4af0-4439-8c5f-7c71d174f460",
   "metadata": {},
   "outputs": [
    {
     "name": "stdout",
     "output_type": "stream",
     "text": [
      "Inside the vehicle class\n"
     ]
    }
   ],
   "source": [
    "Spc = SportsCar()\n",
    "Spc.vehicle_info()"
   ]
  },
  {
   "cell_type": "code",
   "execution_count": 80,
   "id": "8bf2eeae-6f7e-489e-a00b-4c44d76da092",
   "metadata": {},
   "outputs": [
    {
     "name": "stdout",
     "output_type": "stream",
     "text": [
      "Inside the car class\n"
     ]
    }
   ],
   "source": [
    "Spc.car_info()"
   ]
  },
  {
   "cell_type": "code",
   "execution_count": 81,
   "id": "fa5249c3-48ed-4be6-9c3f-1f47c6c917d1",
   "metadata": {},
   "outputs": [
    {
     "name": "stdout",
     "output_type": "stream",
     "text": [
      "Inside the truck class MAN\n",
      "Inside the vehicle class\n"
     ]
    }
   ],
   "source": [
    "tr = Truck()\n",
    "tr.truck_info(\"MAN\")\n",
    "tr.vehicle_info()"
   ]
  },
  {
   "cell_type": "code",
   "execution_count": 83,
   "id": "7121d126-7c6d-4690-990f-a0185305923e",
   "metadata": {},
   "outputs": [],
   "source": [
    "#Abstraction >> concept of hiding compled implementation\n",
    "#hiding un-wanted details and exposing only the required\n",
    "#abtract class cannot be instantiated(cannot create object)\n",
    "#abstract class should always be subclassed\n",
    "#abstract class may contain methods that are just declared and not implemented in abstract class itself.\n",
    "#subclass are responsible for implementing the methods in the abstract class\n"
   ]
  },
  {
   "cell_type": "code",
   "execution_count": 84,
   "id": "163cedbc-3a8e-41d1-a68d-4f0983c5e1a5",
   "metadata": {},
   "outputs": [],
   "source": [
    "#abstraction can be achieved using abstract class\n",
    "#import abc"
   ]
  },
  {
   "cell_type": "code",
   "execution_count": 85,
   "id": "914eea95-d32c-4dcd-9e06-def07b4d59ee",
   "metadata": {},
   "outputs": [],
   "source": [
    "import abc #collection of multiple functions"
   ]
  },
  {
   "cell_type": "code",
   "execution_count": 94,
   "id": "74fc2f30-7350-4ac0-9bd9-8f54f9f48bbb",
   "metadata": {},
   "outputs": [],
   "source": [
    "#use case\n",
    "\n",
    "class PwSkills:\n",
    "\n",
    "    @abc.abstractmethod\n",
    "    def student_details(self):\n",
    "        pass\n",
    "        \n",
    "    @abc.abstractmethod\n",
    "    def student_assignment(self):\n",
    "        pass\n",
    "        \n",
    "    @abc.abstractmethod\n",
    "    def student_marks(self):\n",
    "        pass"
   ]
  },
  {
   "cell_type": "code",
   "execution_count": 95,
   "id": "bfb93df0-2847-4116-9316-55be0603612d",
   "metadata": {},
   "outputs": [],
   "source": [
    "class DataScience(PwSkills):\n",
    "    def student_details(self):\n",
    "        return \"Data Science course details\"\n",
    "    def student_marks(self):\n",
    "        return \"give ds students marks\""
   ]
  },
  {
   "cell_type": "code",
   "execution_count": 96,
   "id": "bad951e0-8921-446c-a973-1bb238e5b886",
   "metadata": {},
   "outputs": [],
   "source": [
    "ds = DataScience()"
   ]
  },
  {
   "cell_type": "code",
   "execution_count": 99,
   "id": "c91aeb3b-1395-4357-a86b-9ecf93cc8bbf",
   "metadata": {},
   "outputs": [],
   "source": [
    "ds.student_assignment() #it will not throw any error even if the method is not defined"
   ]
  },
  {
   "cell_type": "code",
   "execution_count": 100,
   "id": "a712ae3f-589f-46ba-872c-5afea5f434eb",
   "metadata": {},
   "outputs": [],
   "source": [
    "#use case\n",
    "class Shape:\n",
    "\n",
    "    @abc.abstractmethod\n",
    "    def calculate_area(self):\n",
    "        pass\n",
    "\n",
    "class Rectangle(Shape):\n",
    "    def calculate_area(self):\n",
    "        return \"Area of rectangel is len*breadth\"\n",
    "class Circle(Shape):\n",
    "    def calculate_area(self):\n",
    "        return \"area of circle is pi*(r**2)\""
   ]
  },
  {
   "cell_type": "code",
   "execution_count": 101,
   "id": "e08557d1-3857-4d66-9677-81bba24bdeee",
   "metadata": {},
   "outputs": [
    {
     "data": {
      "text/plain": [
       "'Area of rectangel is len*breadth'"
      ]
     },
     "execution_count": 101,
     "metadata": {},
     "output_type": "execute_result"
    }
   ],
   "source": [
    "rect = Rectangle()\n",
    "rect.calculate_area()"
   ]
  },
  {
   "cell_type": "code",
   "execution_count": 102,
   "id": "15695314-3dcf-41d9-97a7-1b37c113b082",
   "metadata": {},
   "outputs": [
    {
     "data": {
      "text/plain": [
       "'area of circle is pi*(r**2)'"
      ]
     },
     "execution_count": 102,
     "metadata": {},
     "output_type": "execute_result"
    }
   ],
   "source": [
    "ca = Circle()\n",
    "ca.calculate_area()"
   ]
  },
  {
   "cell_type": "code",
   "execution_count": null,
   "id": "e2334b63-fd5a-4112-9ab4-20e1c3a35a89",
   "metadata": {},
   "outputs": [],
   "source": []
  }
 ],
 "metadata": {
  "kernelspec": {
   "display_name": "Python 3 (ipykernel)",
   "language": "python",
   "name": "python3"
  },
  "language_info": {
   "codemirror_mode": {
    "name": "ipython",
    "version": 3
   },
   "file_extension": ".py",
   "mimetype": "text/x-python",
   "name": "python",
   "nbconvert_exporter": "python",
   "pygments_lexer": "ipython3",
   "version": "3.13.1"
  }
 },
 "nbformat": 4,
 "nbformat_minor": 5
}
