{
 "cells": [
  {
   "cell_type": "code",
   "execution_count": 1,
   "id": "f88ff8d1-1721-481b-a6d8-7d0f2cea93b1",
   "metadata": {},
   "outputs": [],
   "source": [
    "#polymorphism >> poly means many and morphism means forms/states\n",
    "#refers to an object taking several forms depending on the methods/data"
   ]
  },
  {
   "cell_type": "code",
   "execution_count": 2,
   "id": "ef294d34-ad73-43ea-8eb1-752aae60becd",
   "metadata": {},
   "outputs": [
    {
     "data": {
      "text/plain": [
       "4"
      ]
     },
     "execution_count": 2,
     "metadata": {},
     "output_type": "execute_result"
    }
   ],
   "source": [
    "len('dars')"
   ]
  },
  {
   "cell_type": "code",
   "execution_count": 3,
   "id": "24a819a5-570a-4ec9-bfe3-cb9d0531bab6",
   "metadata": {},
   "outputs": [
    {
     "data": {
      "text/plain": [
       "5"
      ]
     },
     "execution_count": 3,
     "metadata": {},
     "output_type": "execute_result"
    }
   ],
   "source": [
    "len([1,2,3,4,5])"
   ]
  },
  {
   "cell_type": "code",
   "execution_count": 4,
   "id": "8c8648c9-9937-4536-91d2-9a9b3f021b89",
   "metadata": {},
   "outputs": [
    {
     "data": {
      "text/plain": [
       "2"
      ]
     },
     "execution_count": 4,
     "metadata": {},
     "output_type": "execute_result"
    }
   ],
   "source": [
    "len((4,2))"
   ]
  },
  {
   "cell_type": "code",
   "execution_count": 15,
   "id": "2eaffde6-1554-40fe-a02e-b806ac216eb3",
   "metadata": {},
   "outputs": [],
   "source": [
    "class teacher_lecture:\n",
    "    def lec_info(self):\n",
    "        print(\"This is lecture info with teacher perspective\")\n",
    "class student_lecture:\n",
    "    def lec_info(self):\n",
    "        print(\"This is lecture info with student perspective\")"
   ]
  },
  {
   "cell_type": "code",
   "execution_count": 19,
   "id": "6d9cc2c0-c415-44c7-9aa8-43baf68af01c",
   "metadata": {},
   "outputs": [],
   "source": [
    "obj1 = teacher_lecture()\n",
    "obj2 = student_lecture()\n",
    "class_obj = [obj1, obj2]"
   ]
  },
  {
   "cell_type": "code",
   "execution_count": 22,
   "id": "e946aaf0-e114-406a-a371-c623aa86a81b",
   "metadata": {},
   "outputs": [],
   "source": [
    "def parcer(class_obj):\n",
    "    for i in class_obj:\n",
    "        i.lec_info() #lec_info is taking two forms w.r.t student and teacher"
   ]
  },
  {
   "cell_type": "code",
   "execution_count": 23,
   "id": "b73bb6bf-6d30-465d-b060-020f2d4ca3bc",
   "metadata": {},
   "outputs": [
    {
     "name": "stdout",
     "output_type": "stream",
     "text": [
      "This is lecture info with teacher perspective\n",
      "This is lecture info with student perspective\n"
     ]
    }
   ],
   "source": [
    "parcer(class_obj)"
   ]
  },
  {
   "cell_type": "code",
   "execution_count": 24,
   "id": "12640304-97fd-4bc7-8bcf-439b813351b6",
   "metadata": {},
   "outputs": [],
   "source": [
    "#Polymorphism in OOPS takes place in two ways:\n",
    "# 1. Method overloading >> python does'nt support true method overloading\n",
    "# 2. Method overriding"
   ]
  },
  {
   "cell_type": "code",
   "execution_count": 1,
   "id": "9a30f8cf-8cb5-4db7-9f7f-19d37c413c12",
   "metadata": {},
   "outputs": [],
   "source": [
    "#method overloading\n",
    "class Student:\n",
    "    def student(self):\n",
    "        print(\"Welcome to the python course\")\n",
    "    def student(self, name = \"\"):\n",
    "        print('welcome to pwskills class', name)\n",
    "    def student(self, name = \"\", course = \"\"):\n",
    "        print('welcome to pwskills class', name, course)"
   ]
  },
  {
   "cell_type": "code",
   "execution_count": 2,
   "id": "15b07418-5f70-430c-9dc8-106d950ac414",
   "metadata": {},
   "outputs": [],
   "source": [
    "stud = Student()"
   ]
  },
  {
   "cell_type": "code",
   "execution_count": 3,
   "id": "9d2a67ca-f897-4398-b7c6-cad90db432a0",
   "metadata": {},
   "outputs": [
    {
     "name": "stdout",
     "output_type": "stream",
     "text": [
      "welcome to pwskills class  \n"
     ]
    }
   ],
   "source": [
    "stud.student()"
   ]
  },
  {
   "cell_type": "code",
   "execution_count": 4,
   "id": "151256b1-7026-426f-baa4-d9d6b0027c95",
   "metadata": {},
   "outputs": [
    {
     "name": "stdout",
     "output_type": "stream",
     "text": [
      "welcome to pwskills class darshan \n"
     ]
    }
   ],
   "source": [
    "stud.student('darshan')"
   ]
  },
  {
   "cell_type": "code",
   "execution_count": 5,
   "id": "fd48ead2-72ce-458e-bad6-f845aedec096",
   "metadata": {},
   "outputs": [
    {
     "name": "stdout",
     "output_type": "stream",
     "text": [
      "welcome to pwskills class darshan data structures\n"
     ]
    }
   ],
   "source": [
    "stud.student('darshan','data structures')"
   ]
  },
  {
   "cell_type": "code",
   "execution_count": 6,
   "id": "bdeb4b9c-acbd-46af-a6b4-d4e4e5fb691d",
   "metadata": {},
   "outputs": [],
   "source": [
    "#method overloading >> student method is taking different forms, the last methods overloads the previous methods\n",
    "class Student:\n",
    "    def student(self, name = \"\", course = \"\"):\n",
    "        print('welcome to pwskills class', name, course)"
   ]
  },
  {
   "cell_type": "code",
   "execution_count": 7,
   "id": "4835d507-b449-4e6c-96ed-de69a9a02700",
   "metadata": {},
   "outputs": [],
   "source": [
    "stud = Student()"
   ]
  },
  {
   "cell_type": "code",
   "execution_count": 8,
   "id": "75eda2f0-3563-4d07-a874-4a0a8798e4a5",
   "metadata": {},
   "outputs": [
    {
     "name": "stdout",
     "output_type": "stream",
     "text": [
      "welcome to pwskills class  \n"
     ]
    }
   ],
   "source": [
    "stud.student()"
   ]
  },
  {
   "cell_type": "code",
   "execution_count": 9,
   "id": "f1f92579-80bb-4e7b-9903-8f21a0b832cf",
   "metadata": {},
   "outputs": [
    {
     "name": "stdout",
     "output_type": "stream",
     "text": [
      "welcome to pwskills class dars ds\n"
     ]
    }
   ],
   "source": [
    "stud.student(\"dars\",\"ds\")"
   ]
  },
  {
   "cell_type": "code",
   "execution_count": 10,
   "id": "ad915dc9-8fc9-4dfa-8817-a932299e3a73",
   "metadata": {},
   "outputs": [],
   "source": [
    "#method overloading happens in the same class"
   ]
  },
  {
   "cell_type": "code",
   "execution_count": 11,
   "id": "c15e317e-8c37-4387-8032-4e2106092d0d",
   "metadata": {},
   "outputs": [],
   "source": [
    "#method overriding >> method in parent class and child class with same signature, the child class will be executed"
   ]
  },
  {
   "cell_type": "code",
   "execution_count": 12,
   "id": "29aac035-860b-47a5-aa33-88c668f4042e",
   "metadata": {},
   "outputs": [],
   "source": [
    "class Animal:\n",
    "    def sound(self):\n",
    "        print(\"Animal Sound\")\n",
    "class Cat(Animal):\n",
    "    def sound(self):\n",
    "        print(\"Cat meows\")"
   ]
  },
  {
   "cell_type": "code",
   "execution_count": 13,
   "id": "9fc2f127-c2eb-491a-be6c-eebea94949dd",
   "metadata": {},
   "outputs": [],
   "source": [
    "an = Animal()"
   ]
  },
  {
   "cell_type": "code",
   "execution_count": 16,
   "id": "029ae691-e47e-4316-b1e7-188a680780d1",
   "metadata": {},
   "outputs": [
    {
     "name": "stdout",
     "output_type": "stream",
     "text": [
      "Animal Sound\n"
     ]
    }
   ],
   "source": [
    "an.sound() #Animal class"
   ]
  },
  {
   "cell_type": "code",
   "execution_count": 17,
   "id": "b46f1ef2-f7bb-4aa2-a79d-6dc2d5a7bc15",
   "metadata": {},
   "outputs": [
    {
     "name": "stdout",
     "output_type": "stream",
     "text": [
      "Cat meows\n"
     ]
    }
   ],
   "source": [
    "cat = Cat()\n",
    "cat.sound()"
   ]
  },
  {
   "cell_type": "code",
   "execution_count": 27,
   "id": "f9820c66-9d5d-40eb-9b6b-970f2d39c6d3",
   "metadata": {},
   "outputs": [],
   "source": [
    "# encapsulation >> hiding something\n",
    "# bundling of data and methods of a class\n",
    "# access modifier >> public, protected, private\n",
    "# public >> accessible from anywhere outside/inside the program"
   ]
  },
  {
   "cell_type": "code",
   "execution_count": 19,
   "id": "32c20719-aca7-4e95-8237-b947b3f59f08",
   "metadata": {},
   "outputs": [],
   "source": [
    "class Student:\n",
    "    def __init__(self, name, degree):\n",
    "        self.name = name\n",
    "        self.degree = degree"
   ]
  },
  {
   "cell_type": "code",
   "execution_count": 20,
   "id": "0ef6ae48-3d50-470b-b4a4-97a6d36a29f1",
   "metadata": {},
   "outputs": [],
   "source": [
    "stud = Student(\"Ram\", \"Masters\")"
   ]
  },
  {
   "cell_type": "code",
   "execution_count": 21,
   "id": "ab52ee9d-f264-4cfd-b484-fbb3240f46f5",
   "metadata": {},
   "outputs": [
    {
     "data": {
      "text/plain": [
       "'Ram'"
      ]
     },
     "execution_count": 21,
     "metadata": {},
     "output_type": "execute_result"
    }
   ],
   "source": [
    "stud.name"
   ]
  },
  {
   "cell_type": "code",
   "execution_count": 22,
   "id": "849ada77-358f-410b-85e9-70947008c5c5",
   "metadata": {},
   "outputs": [
    {
     "data": {
      "text/plain": [
       "'Masters'"
      ]
     },
     "execution_count": 22,
     "metadata": {},
     "output_type": "execute_result"
    }
   ],
   "source": [
    "stud.degree"
   ]
  },
  {
   "cell_type": "code",
   "execution_count": 23,
   "id": "da17860e-9978-44c7-b79c-f39b28bf28c9",
   "metadata": {},
   "outputs": [],
   "source": [
    "stud2 = Student(\"Sam\", \"Bachelors\")"
   ]
  },
  {
   "cell_type": "code",
   "execution_count": 24,
   "id": "1308810f-87cf-4495-9ec3-7473bde0ad23",
   "metadata": {},
   "outputs": [
    {
     "data": {
      "text/plain": [
       "'Bachelors'"
      ]
     },
     "execution_count": 24,
     "metadata": {},
     "output_type": "execute_result"
    }
   ],
   "source": [
    "stud2.degree"
   ]
  },
  {
   "cell_type": "code",
   "execution_count": 25,
   "id": "7cc25b47-cdc6-432c-8778-2e62d138df11",
   "metadata": {},
   "outputs": [],
   "source": [
    "stud2.degree = \"Phd\""
   ]
  },
  {
   "cell_type": "code",
   "execution_count": 26,
   "id": "4e9d66ad-d97f-441c-bfff-f62add362ce9",
   "metadata": {},
   "outputs": [
    {
     "data": {
      "text/plain": [
       "'Phd'"
      ]
     },
     "execution_count": 26,
     "metadata": {},
     "output_type": "execute_result"
    }
   ],
   "source": [
    "stud2.degree"
   ]
  },
  {
   "cell_type": "code",
   "execution_count": 33,
   "id": "4312af55-7949-4d9f-bf81-d044b7d4960f",
   "metadata": {},
   "outputs": [],
   "source": [
    "#accessing the public data member inside the other method of same class\n",
    "class Student:\n",
    "    def __init__(self, name, degree):\n",
    "        self.name = name\n",
    "        self.degree = degree\n",
    "    def show(self):\n",
    "        #accessing the private and public data member\n",
    "        print(\"name\", self.name, \"degree\", self.degree)\n",
    "aj = Student(\"Ajay\", \"Masters\")"
   ]
  },
  {
   "cell_type": "code",
   "execution_count": 34,
   "id": "4d55124f-3af2-45e9-9f7c-191127889d7f",
   "metadata": {},
   "outputs": [
    {
     "name": "stdout",
     "output_type": "stream",
     "text": [
      "name Ajay degree Masters\n"
     ]
    }
   ],
   "source": [
    "aj.show()"
   ]
  },
  {
   "cell_type": "code",
   "execution_count": null,
   "id": "d92adca2-228a-4607-85fd-c83898c5d4cf",
   "metadata": {},
   "outputs": [],
   "source": [
    "# private >> the data and method is only accessible within it's class, use __ to make private"
   ]
  },
  {
   "cell_type": "code",
   "execution_count": 40,
   "id": "cb0cb3e2-57f7-4b25-9e9e-23e3e3d8e857",
   "metadata": {},
   "outputs": [],
   "source": [
    "#private variable (degree)\n",
    "class Student:\n",
    "    def __init__(self, name, degree):\n",
    "        self.name = name\n",
    "        self.__degree = degree\n",
    "    def show(self):\n",
    "        #accessing the private and public data member\n",
    "        print(\"name\", self.name, \"degree\", self.__degree)\n",
    "aj = Student(\"Ajay\", \"Masters\")"
   ]
  },
  {
   "cell_type": "code",
   "execution_count": 41,
   "id": "43d9f04e-941e-4054-bd4d-30e4e28c68de",
   "metadata": {},
   "outputs": [
    {
     "name": "stdout",
     "output_type": "stream",
     "text": [
      "name Ajay degree Masters\n"
     ]
    }
   ],
   "source": [
    "aj.show()"
   ]
  },
  {
   "cell_type": "code",
   "execution_count": 42,
   "id": "569f9821-5a3d-4456-922a-7a391ed42664",
   "metadata": {},
   "outputs": [
    {
     "data": {
      "text/plain": [
       "'Ajay'"
      ]
     },
     "execution_count": 42,
     "metadata": {},
     "output_type": "execute_result"
    }
   ],
   "source": [
    "aj.name"
   ]
  },
  {
   "cell_type": "code",
   "execution_count": 43,
   "id": "5c0fa884-8da7-461b-b772-b2415d580795",
   "metadata": {},
   "outputs": [
    {
     "ename": "AttributeError",
     "evalue": "'Student' object has no attribute 'degree'",
     "output_type": "error",
     "traceback": [
      "\u001b[1;31m---------------------------------------------------------------------------\u001b[0m",
      "\u001b[1;31mAttributeError\u001b[0m                            Traceback (most recent call last)",
      "Cell \u001b[1;32mIn[43], line 1\u001b[0m\n\u001b[1;32m----> 1\u001b[0m \u001b[43maj\u001b[49m\u001b[38;5;241;43m.\u001b[39;49m\u001b[43mdegree\u001b[49m\n",
      "\u001b[1;31mAttributeError\u001b[0m: 'Student' object has no attribute 'degree'"
     ]
    }
   ],
   "source": [
    "aj.degree"
   ]
  },
  {
   "cell_type": "code",
   "execution_count": 46,
   "id": "6a8ad38f-ea70-4e11-8d4c-6990dfa17ac1",
   "metadata": {},
   "outputs": [
    {
     "data": {
      "text/plain": [
       "'Masters'"
      ]
     },
     "execution_count": 46,
     "metadata": {},
     "output_type": "execute_result"
    }
   ],
   "source": [
    "#indirect way to access the private variable\n",
    "aj._Student__degree"
   ]
  },
  {
   "cell_type": "code",
   "execution_count": 47,
   "id": "29e22008-8474-4f2b-8449-cc672ccefa48",
   "metadata": {},
   "outputs": [],
   "source": [
    "# a private method\n",
    "class Student:\n",
    "    def __init__(self, name, degree):\n",
    "        self.name = name\n",
    "        self.__degree = degree\n",
    "    def show(self):\n",
    "        #accessing the private and public data member\n",
    "        print(\"name\", self.name, \"degree\", self.__degree)\n",
    "    def __private_method(self):\n",
    "        print(\"This is a private method\")"
   ]
  },
  {
   "cell_type": "code",
   "execution_count": 48,
   "id": "487f88c4-93d4-4f0c-92d6-518b552f6354",
   "metadata": {},
   "outputs": [],
   "source": [
    "obj1 = Student(\"Ajay\", \"Masters\")"
   ]
  },
  {
   "cell_type": "code",
   "execution_count": 49,
   "id": "2560a8a3-78a9-4651-b09d-b9bc52a1314a",
   "metadata": {},
   "outputs": [
    {
     "data": {
      "text/plain": [
       "'Ajay'"
      ]
     },
     "execution_count": 49,
     "metadata": {},
     "output_type": "execute_result"
    }
   ],
   "source": [
    "obj1.name"
   ]
  },
  {
   "cell_type": "code",
   "execution_count": 50,
   "id": "0ea327c3-3885-4da1-9c58-affc019ab88b",
   "metadata": {},
   "outputs": [
    {
     "name": "stdout",
     "output_type": "stream",
     "text": [
      "name Ajay degree Masters\n"
     ]
    }
   ],
   "source": [
    "obj1.show()"
   ]
  },
  {
   "cell_type": "code",
   "execution_count": 51,
   "id": "df348614-6707-45fc-8cf7-f5d3b01fb9d3",
   "metadata": {},
   "outputs": [
    {
     "ename": "AttributeError",
     "evalue": "'Student' object has no attribute 'private_method'",
     "output_type": "error",
     "traceback": [
      "\u001b[1;31m---------------------------------------------------------------------------\u001b[0m",
      "\u001b[1;31mAttributeError\u001b[0m                            Traceback (most recent call last)",
      "Cell \u001b[1;32mIn[51], line 1\u001b[0m\n\u001b[1;32m----> 1\u001b[0m \u001b[43mobj1\u001b[49m\u001b[38;5;241;43m.\u001b[39;49m\u001b[43mprivate_method\u001b[49m()\n",
      "\u001b[1;31mAttributeError\u001b[0m: 'Student' object has no attribute 'private_method'"
     ]
    }
   ],
   "source": [
    "obj1.private_method()"
   ]
  },
  {
   "cell_type": "code",
   "execution_count": 52,
   "id": "8b4666cf-3c83-4141-a20a-d49591eb07e4",
   "metadata": {},
   "outputs": [
    {
     "name": "stdout",
     "output_type": "stream",
     "text": [
      "This is a private method\n"
     ]
    }
   ],
   "source": [
    "obj1._Student__private_method()"
   ]
  },
  {
   "cell_type": "code",
   "execution_count": 56,
   "id": "1373996a-2c04-4974-aa66-0f7a694ede99",
   "metadata": {},
   "outputs": [],
   "source": [
    "#way to provide an option to see the private method >> a wrapper\n",
    "\n",
    "#private variable (degree)\n",
    "class Student:\n",
    "    def __init__(self, name, degree):\n",
    "        self.name = name\n",
    "        self.__degree = degree\n",
    "    def show(self):\n",
    "        #accessing the private and public data member\n",
    "        print(\"name\", self.name, \"degree\", self.__degree)\n",
    "    def __private_method(self):\n",
    "        print(\"This is a private method\")\n",
    "    def access_private_method(self):\n",
    "        self.__private_method()"
   ]
  },
  {
   "cell_type": "code",
   "execution_count": 59,
   "id": "b98913a8-df2f-4654-9eb1-783e12ca5f0f",
   "metadata": {},
   "outputs": [
    {
     "name": "stdout",
     "output_type": "stream",
     "text": [
      "name AK degree Racing\n",
      "This is a private method\n"
     ]
    }
   ],
   "source": [
    "obj2 = Student(\"AK\", \"Racing\")\n",
    "obj2.show()\n",
    "obj2.access_private_method()"
   ]
  },
  {
   "cell_type": "code",
   "execution_count": 60,
   "id": "afbc8275-6543-47f2-bcda-fd00eb741ea3",
   "metadata": {},
   "outputs": [],
   "source": [
    "#another use case\n",
    "class Car:\n",
    "    def __init__(self, year, make, speed, model):\n",
    "        self.__year = year\n",
    "        self.__make = make\n",
    "        self.__speed = speed\n",
    "        self.__model = model"
   ]
  },
  {
   "cell_type": "code",
   "execution_count": 61,
   "id": "abbd6377-66a4-4068-9316-6f20e0b95b15",
   "metadata": {},
   "outputs": [],
   "source": [
    "c1 = Car(\"1995\", \"Maruti\", \"100\", \"Brezza\")"
   ]
  },
  {
   "cell_type": "code",
   "execution_count": 62,
   "id": "92ad6227-b49e-46d3-8d52-5a1c61ed1fb0",
   "metadata": {},
   "outputs": [
    {
     "ename": "AttributeError",
     "evalue": "'Car' object has no attribute 'year'",
     "output_type": "error",
     "traceback": [
      "\u001b[1;31m---------------------------------------------------------------------------\u001b[0m",
      "\u001b[1;31mAttributeError\u001b[0m                            Traceback (most recent call last)",
      "Cell \u001b[1;32mIn[62], line 1\u001b[0m\n\u001b[1;32m----> 1\u001b[0m \u001b[43mc1\u001b[49m\u001b[38;5;241;43m.\u001b[39;49m\u001b[43myear\u001b[49m\n",
      "\u001b[1;31mAttributeError\u001b[0m: 'Car' object has no attribute 'year'"
     ]
    }
   ],
   "source": [
    "c1.year"
   ]
  },
  {
   "cell_type": "code",
   "execution_count": 64,
   "id": "593b02e3-ed25-4f59-8ad1-d93fd64a7822",
   "metadata": {},
   "outputs": [],
   "source": [
    "#another use case with private member view\n",
    "class Car:\n",
    "    def __init__(self, year, make, speed, model):\n",
    "        self.__year = year\n",
    "        self.__make = make\n",
    "        self.__speed = speed\n",
    "        self.__model = model\n",
    "    def set_speed(self, speed):\n",
    "        self.__speed = 0 if speed < 0 else speed\n",
    "    def get_speed(self):\n",
    "        return self.__speed"
   ]
  },
  {
   "cell_type": "code",
   "execution_count": 65,
   "id": "f41928a0-d89d-42d2-b65c-109da8993ba4",
   "metadata": {},
   "outputs": [],
   "source": [
    "c1 = Car(\"1995\", \"Maruti\", \"100\", \"Brezza\")"
   ]
  },
  {
   "cell_type": "code",
   "execution_count": 67,
   "id": "44ada5b8-1ae2-49f1-b77f-003115d3f212",
   "metadata": {},
   "outputs": [
    {
     "data": {
      "text/plain": [
       "'100'"
      ]
     },
     "execution_count": 67,
     "metadata": {},
     "output_type": "execute_result"
    }
   ],
   "source": [
    "c1.get_speed()"
   ]
  },
  {
   "cell_type": "code",
   "execution_count": 68,
   "id": "15d5212d-25f0-412a-899a-f4d47116b582",
   "metadata": {},
   "outputs": [],
   "source": [
    "c1.set_speed(-929)"
   ]
  },
  {
   "cell_type": "code",
   "execution_count": 69,
   "id": "d4b762a8-c87d-44f1-bf41-03970c77ca70",
   "metadata": {},
   "outputs": [
    {
     "data": {
      "text/plain": [
       "0"
      ]
     },
     "execution_count": 69,
     "metadata": {},
     "output_type": "execute_result"
    }
   ],
   "source": [
    "c1.get_speed()"
   ]
  },
  {
   "cell_type": "code",
   "execution_count": 70,
   "id": "6d875b07-42b4-4082-bfe0-8574ecfc9194",
   "metadata": {},
   "outputs": [],
   "source": [
    "#another use case"
   ]
  },
  {
   "cell_type": "code",
   "execution_count": 75,
   "id": "5dc3ac15-d2e1-4aac-9fe7-27b1f2a39c6a",
   "metadata": {},
   "outputs": [],
   "source": [
    "class Bank:\n",
    "    def __init__(self, balance):\n",
    "        self.__balance = balance\n",
    "    def deposit(self, amount):\n",
    "        self.__balance = self.__balance + amount\n",
    "    def withdraw(self, amount):\n",
    "        if self.__balance >= amount:\n",
    "            self.__balance = self.__balance - amount\n",
    "            return True\n",
    "        else:\n",
    "            return False\n",
    "    def get_balance(self):\n",
    "        return self.__balance"
   ]
  },
  {
   "cell_type": "code",
   "execution_count": 76,
   "id": "b55728fc-9a4a-424c-bb22-b9c5d5726461",
   "metadata": {},
   "outputs": [],
   "source": [
    "acc1 = Bank(1000)"
   ]
  },
  {
   "cell_type": "code",
   "execution_count": 77,
   "id": "051240ec-1d4b-4364-bc83-afc1055ae069",
   "metadata": {},
   "outputs": [
    {
     "data": {
      "text/plain": [
       "1000"
      ]
     },
     "execution_count": 77,
     "metadata": {},
     "output_type": "execute_result"
    }
   ],
   "source": [
    "acc1.get_balance()"
   ]
  },
  {
   "cell_type": "code",
   "execution_count": 78,
   "id": "fecc9a60-4885-4789-bc03-b9f1f0185237",
   "metadata": {},
   "outputs": [],
   "source": [
    "acc1.deposit(300)"
   ]
  },
  {
   "cell_type": "code",
   "execution_count": 79,
   "id": "98206216-5aff-42b0-8455-f70544c1d11d",
   "metadata": {},
   "outputs": [
    {
     "data": {
      "text/plain": [
       "1300"
      ]
     },
     "execution_count": 79,
     "metadata": {},
     "output_type": "execute_result"
    }
   ],
   "source": [
    "acc1.get_balance()"
   ]
  },
  {
   "cell_type": "code",
   "execution_count": 80,
   "id": "8b205518-6a82-4e1d-bb6f-fa6ca7f1ce4e",
   "metadata": {},
   "outputs": [
    {
     "data": {
      "text/plain": [
       "True"
      ]
     },
     "execution_count": 80,
     "metadata": {},
     "output_type": "execute_result"
    }
   ],
   "source": [
    "acc1.withdraw(399)"
   ]
  },
  {
   "cell_type": "code",
   "execution_count": 81,
   "id": "c61fa9a1-cc0d-4d90-b015-141a5daf8060",
   "metadata": {},
   "outputs": [
    {
     "data": {
      "text/plain": [
       "901"
      ]
     },
     "execution_count": 81,
     "metadata": {},
     "output_type": "execute_result"
    }
   ],
   "source": [
    "acc1.get_balance()"
   ]
  },
  {
   "cell_type": "code",
   "execution_count": 82,
   "id": "bbe27ff2-4df2-4e3b-bd3e-70c1e958a36e",
   "metadata": {},
   "outputs": [
    {
     "data": {
      "text/plain": [
       "False"
      ]
     },
     "execution_count": 82,
     "metadata": {},
     "output_type": "execute_result"
    }
   ],
   "source": [
    "acc1.withdraw(39292)"
   ]
  },
  {
   "cell_type": "code",
   "execution_count": 83,
   "id": "67157711-1983-4bd5-a892-965221a6e746",
   "metadata": {},
   "outputs": [
    {
     "data": {
      "text/plain": [
       "901"
      ]
     },
     "execution_count": 83,
     "metadata": {},
     "output_type": "execute_result"
    }
   ],
   "source": [
    "acc1.get_balance()"
   ]
  },
  {
   "cell_type": "code",
   "execution_count": 84,
   "id": "68d0c1e6-3849-44dd-95f3-acbd7f6b799a",
   "metadata": {},
   "outputs": [],
   "source": [
    "# protected >> protected members can be accessed within the class and it's subclass\n",
    "# can be accessed (_)"
   ]
  },
  {
   "cell_type": "code",
   "execution_count": 89,
   "id": "322b3025-9629-4e20-bd86-8d0c73eef835",
   "metadata": {},
   "outputs": [],
   "source": [
    "class College:\n",
    "    def __init__(self):\n",
    "        self._college_name = \"SNU\"\n",
    "class Student(College):\n",
    "    def __init__(self, name):\n",
    "        self.name = name\n",
    "        College.__init__(self) #accessing variable of base class\n",
    "\n",
    "    def show(self):\n",
    "        print(\"name\", self.name,\"college\", self._college_name)"
   ]
  },
  {
   "cell_type": "code",
   "execution_count": 90,
   "id": "2c3cc933-3e3e-4108-93e4-e6de8b2ecd41",
   "metadata": {},
   "outputs": [],
   "source": [
    "stud = Student(\"Ajay\")"
   ]
  },
  {
   "cell_type": "code",
   "execution_count": 91,
   "id": "b576705e-0890-4b61-be27-921957057562",
   "metadata": {},
   "outputs": [
    {
     "data": {
      "text/plain": [
       "'Ajay'"
      ]
     },
     "execution_count": 91,
     "metadata": {},
     "output_type": "execute_result"
    }
   ],
   "source": [
    "stud.name"
   ]
  },
  {
   "cell_type": "code",
   "execution_count": 92,
   "id": "e8f08ddb-17b9-4a21-8275-3ad43d5693b8",
   "metadata": {},
   "outputs": [
    {
     "name": "stdout",
     "output_type": "stream",
     "text": [
      "name Ajay college SNU\n"
     ]
    }
   ],
   "source": [
    "stud.show()"
   ]
  },
  {
   "cell_type": "code",
   "execution_count": 95,
   "id": "8304b99f-92a3-4c8f-95e1-cacb4f454be7",
   "metadata": {},
   "outputs": [
    {
     "data": {
      "text/plain": [
       "'SNU'"
      ]
     },
     "execution_count": 95,
     "metadata": {},
     "output_type": "execute_result"
    }
   ],
   "source": [
    "coll = College()\n",
    "coll._college_name # accessing the protected variable"
   ]
  },
  {
   "cell_type": "code",
   "execution_count": 99,
   "id": "e8066eab-6805-4a83-ab2a-25ab59502251",
   "metadata": {},
   "outputs": [],
   "source": [
    "#another way to access the base class using super() class\n",
    "\n",
    "class College:\n",
    "    def __init__(self):\n",
    "        self._college_name = \"SNU\"\n",
    "class Student(College):\n",
    "    def __init__(self, name):\n",
    "        self.name = name\n",
    "        super().__init__() #remove self and include super(base class is super class)\n",
    "\n",
    "    def show(self):\n",
    "        print(\"name\", self.name,\"college\", self._college_name)"
   ]
  },
  {
   "cell_type": "code",
   "execution_count": 100,
   "id": "13cfd1a5-2bd3-45cb-9d7b-84dee0761a8e",
   "metadata": {},
   "outputs": [],
   "source": [
    "stud = Student(\"Ajay\")"
   ]
  },
  {
   "cell_type": "code",
   "execution_count": 101,
   "id": "2549d373-d3c0-44d0-8216-084908fcbdc4",
   "metadata": {},
   "outputs": [
    {
     "name": "stdout",
     "output_type": "stream",
     "text": [
      "name Ajay college SNU\n"
     ]
    }
   ],
   "source": [
    "stud.show()"
   ]
  },
  {
   "cell_type": "code",
   "execution_count": null,
   "id": "eac35a91-f15a-4807-83c7-163e1f8df6b5",
   "metadata": {},
   "outputs": [],
   "source": []
  }
 ],
 "metadata": {
  "kernelspec": {
   "display_name": "Python 3 (ipykernel)",
   "language": "python",
   "name": "python3"
  },
  "language_info": {
   "codemirror_mode": {
    "name": "ipython",
    "version": 3
   },
   "file_extension": ".py",
   "mimetype": "text/x-python",
   "name": "python",
   "nbconvert_exporter": "python",
   "pygments_lexer": "ipython3",
   "version": "3.13.1"
  }
 },
 "nbformat": 4,
 "nbformat_minor": 5
}
