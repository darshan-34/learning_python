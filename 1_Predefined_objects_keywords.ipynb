{
 "cells": [
  {
   "cell_type": "code",
   "execution_count": 1,
   "id": "540619dd-9be3-4a5a-8d48-d7397b687760",
   "metadata": {},
   "outputs": [
    {
     "name": "stdout",
     "output_type": "stream",
     "text": [
      "hello world!\n"
     ]
    }
   ],
   "source": [
    "print(\"hello world!\")"
   ]
  },
  {
   "cell_type": "raw",
   "id": "c5d428ee-1045-4cb1-8862-2263c95bf07b",
   "metadata": {},
   "source": [
    "Variable/Identifier >> placeholders where we keep variety of data which we can use to write logic\n",
    "## Numbers >> integer/float\n",
    "## series of Characters >> string \n",
    "## True/False >> boolean"
   ]
  },
  {
   "cell_type": "code",
   "execution_count": 2,
   "id": "b3410d5a-42fd-4443-a2a8-37cd9d524d17",
   "metadata": {},
   "outputs": [
    {
     "data": {
      "text/plain": [
       "5"
      ]
     },
     "execution_count": 2,
     "metadata": {},
     "output_type": "execute_result"
    }
   ],
   "source": [
    "a = 5\n",
    "a"
   ]
  },
  {
   "cell_type": "raw",
   "id": "95f10991-ab26-42af-acb9-0dc2d1226ee9",
   "metadata": {},
   "source": [
    "variable is a reserved memory space for storing value.\n",
    "A memory space will be created with value of the variable"
   ]
  },
  {
   "cell_type": "code",
   "execution_count": 3,
   "id": "9f40ca8a-bf07-486d-9978-7edc6cc9e9df",
   "metadata": {},
   "outputs": [
    {
     "data": {
      "text/plain": [
       "int"
      ]
     },
     "execution_count": 3,
     "metadata": {},
     "output_type": "execute_result"
    }
   ],
   "source": [
    "type(a)"
   ]
  },
  {
   "cell_type": "code",
   "execution_count": 4,
   "id": "d6baec57-851d-44f6-b913-c611cbe274e2",
   "metadata": {},
   "outputs": [
    {
     "data": {
      "text/plain": [
       "32"
      ]
     },
     "execution_count": 4,
     "metadata": {},
     "output_type": "execute_result"
    }
   ],
   "source": [
    "a = 32\n",
    "a"
   ]
  },
  {
   "cell_type": "code",
   "execution_count": 9,
   "id": "b0a60ec9-b484-4cb2-b608-81b5f9aa806b",
   "metadata": {},
   "outputs": [
    {
     "data": {
      "text/plain": [
       "'Darshan'"
      ]
     },
     "execution_count": 9,
     "metadata": {},
     "output_type": "execute_result"
    }
   ],
   "source": [
    "c = \"Darshan\"\n",
    "c"
   ]
  },
  {
   "cell_type": "code",
   "execution_count": 10,
   "id": "64373b44-1110-42fc-ae13-b43a07947820",
   "metadata": {},
   "outputs": [
    {
     "data": {
      "text/plain": [
       "str"
      ]
     },
     "execution_count": 10,
     "metadata": {},
     "output_type": "execute_result"
    }
   ],
   "source": [
    "type(c)"
   ]
  },
  {
   "cell_type": "code",
   "execution_count": 1,
   "id": "910c7ed8",
   "metadata": {},
   "outputs": [
    {
     "data": {
      "text/plain": [
       "float"
      ]
     },
     "execution_count": 1,
     "metadata": {},
     "output_type": "execute_result"
    }
   ],
   "source": [
    "d = 3.23\n",
    "type(d)"
   ]
  },
  {
   "cell_type": "code",
   "execution_count": 3,
   "id": "1c3f2183",
   "metadata": {},
   "outputs": [
    {
     "data": {
      "text/plain": [
       "bool"
      ]
     },
     "execution_count": 3,
     "metadata": {},
     "output_type": "execute_result"
    }
   ],
   "source": [
    "e = True\n",
    "type(e)"
   ]
  },
  {
   "cell_type": "code",
   "execution_count": 4,
   "id": "603f0362",
   "metadata": {},
   "outputs": [
    {
     "data": {
      "text/plain": [
       "1"
      ]
     },
     "execution_count": 4,
     "metadata": {},
     "output_type": "execute_result"
    }
   ],
   "source": [
    "True-False"
   ]
  },
  {
   "cell_type": "code",
   "execution_count": 5,
   "id": "98329459",
   "metadata": {},
   "outputs": [
    {
     "data": {
      "text/plain": [
       "1"
      ]
     },
     "execution_count": 5,
     "metadata": {},
     "output_type": "execute_result"
    }
   ],
   "source": [
    "True+False"
   ]
  },
  {
   "cell_type": "code",
   "execution_count": 6,
   "id": "eb2ba812",
   "metadata": {},
   "outputs": [
    {
     "data": {
      "text/plain": [
       "0"
      ]
     },
     "execution_count": 6,
     "metadata": {},
     "output_type": "execute_result"
    }
   ],
   "source": [
    "True*False"
   ]
  },
  {
   "cell_type": "code",
   "execution_count": 7,
   "id": "9abe9406",
   "metadata": {},
   "outputs": [
    {
     "ename": "ZeroDivisionError",
     "evalue": "division by zero",
     "output_type": "error",
     "traceback": [
      "\u001b[1;31m---------------------------------------------------------------------------\u001b[0m",
      "\u001b[1;31mZeroDivisionError\u001b[0m                         Traceback (most recent call last)",
      "Cell \u001b[1;32mIn[7], line 1\u001b[0m\n\u001b[1;32m----> 1\u001b[0m \u001b[38;5;28;43;01mTrue\u001b[39;49;00m\u001b[38;5;241;43m/\u001b[39;49m\u001b[38;5;28;43;01mFalse\u001b[39;49;00m\n",
      "\u001b[1;31mZeroDivisionError\u001b[0m: division by zero"
     ]
    }
   ],
   "source": [
    "True/False"
   ]
  },
  {
   "cell_type": "code",
   "execution_count": 2,
   "id": "501c426f",
   "metadata": {},
   "outputs": [
    {
     "data": {
      "text/plain": [
       "NoneType"
      ]
     },
     "execution_count": 2,
     "metadata": {},
     "output_type": "execute_result"
    }
   ],
   "source": [
    "f = None\n",
    "type(f)"
   ]
  },
  {
   "cell_type": "markdown",
   "id": "f098e5e2-6dc8-4b6e-87af-7220b086e06c",
   "metadata": {},
   "source": [
    "x+iy >> complex number"
   ]
  },
  {
   "cell_type": "code",
   "execution_count": 3,
   "id": "cfbb80fd-6ff4-4f22-a09f-9d1616f5b9e0",
   "metadata": {},
   "outputs": [
    {
     "data": {
      "text/plain": [
       "complex"
      ]
     },
     "execution_count": 3,
     "metadata": {},
     "output_type": "execute_result"
    }
   ],
   "source": [
    "com = 4+3j\n",
    "type(com)"
   ]
  },
  {
   "cell_type": "code",
   "execution_count": 5,
   "id": "6e155be7-9591-43c1-8a89-c4b20b1e95de",
   "metadata": {},
   "outputs": [
    {
     "data": {
      "text/plain": [
       "4.0"
      ]
     },
     "execution_count": 5,
     "metadata": {},
     "output_type": "execute_result"
    }
   ],
   "source": [
    "com.real"
   ]
  },
  {
   "cell_type": "code",
   "execution_count": 6,
   "id": "a2ea0173-0ac8-4ef3-a6fe-df3c69eb57f6",
   "metadata": {},
   "outputs": [
    {
     "data": {
      "text/plain": [
       "3.0"
      ]
     },
     "execution_count": 6,
     "metadata": {},
     "output_type": "execute_result"
    }
   ],
   "source": [
    "com.imag"
   ]
  },
  {
   "cell_type": "code",
   "execution_count": 7,
   "id": "d98915fb-afc3-48b9-ab25-877012b1726b",
   "metadata": {},
   "outputs": [],
   "source": [
    "#keywords >> are predefined words that hold a \n",
    "#            special meaning and have a specific function"
   ]
  },
  {
   "cell_type": "code",
   "execution_count": 8,
   "id": "2798d125-307c-4b30-a178-dc55ce5854cb",
   "metadata": {},
   "outputs": [
    {
     "name": "stdout",
     "output_type": "stream",
     "text": [
      "\n",
      "Here is a list of the Python keywords.  Enter any keyword to get more help.\n",
      "\n",
      "False               class               from                or\n",
      "None                continue            global              pass\n",
      "True                def                 if                  raise\n",
      "and                 del                 import              return\n",
      "as                  elif                in                  try\n",
      "assert              else                is                  while\n",
      "async               except              lambda              with\n",
      "await               finally             nonlocal            yield\n",
      "break               for                 not                 \n",
      "\n"
     ]
    }
   ],
   "source": [
    "help(\"keywords\")"
   ]
  },
  {
   "cell_type": "code",
   "execution_count": 11,
   "id": "d186fea6-0ace-4871-85ab-700da88b11ec",
   "metadata": {},
   "outputs": [
    {
     "name": "stdout",
     "output_type": "stream",
     "text": [
      "greater\n"
     ]
    }
   ],
   "source": [
    "#indentation example\n",
    "if 3 > 2:\n",
    "    print(\"greater\")"
   ]
  },
  {
   "cell_type": "code",
   "execution_count": 12,
   "id": "40a64680-4208-4942-9041-4f9069b60d93",
   "metadata": {},
   "outputs": [],
   "source": [
    "a = 3 #statement >> fundamental block of code\n",
    "# statement can be of many types >> expression, assignment,\n",
    "  condition, loop"
   ]
  },
  {
   "cell_type": "code",
   "execution_count": 16,
   "id": "de16d5d3-afaf-4229-9af6-5b3638c06203",
   "metadata": {},
   "outputs": [
    {
     "name": "stdin",
     "output_type": "stream",
     "text": [
      "please enter your name 2\n"
     ]
    }
   ],
   "source": [
    "#input/output\n",
    "name = input(\"please enter your name\")"
   ]
  },
  {
   "cell_type": "code",
   "execution_count": 17,
   "id": "527c9352-5145-429b-b38f-36208c8fdb8a",
   "metadata": {},
   "outputs": [
    {
     "data": {
      "text/plain": [
       "'2'"
      ]
     },
     "execution_count": 17,
     "metadata": {},
     "output_type": "execute_result"
    }
   ],
   "source": [
    "name"
   ]
  },
  {
   "cell_type": "code",
   "execution_count": 15,
   "id": "c6d50524-54cd-43a6-b974-cc46be7194f9",
   "metadata": {},
   "outputs": [
    {
     "data": {
      "text/plain": [
       "str"
      ]
     },
     "execution_count": 15,
     "metadata": {},
     "output_type": "execute_result"
    }
   ],
   "source": [
    "type(name)"
   ]
  },
  {
   "cell_type": "code",
   "execution_count": null,
   "id": "b458988f-ef5d-46b6-babf-028fc8078a3d",
   "metadata": {},
   "outputs": [],
   "source": [
    "#input takes every value as a string\n",
    "#we can convert that string to any other datatype"
   ]
  },
  {
   "cell_type": "code",
   "execution_count": 18,
   "id": "25313f65-e523-40cf-ba44-188a2f1afe7a",
   "metadata": {},
   "outputs": [
    {
     "data": {
      "text/plain": [
       "2"
      ]
     },
     "execution_count": 18,
     "metadata": {},
     "output_type": "execute_result"
    }
   ],
   "source": [
    "int(name)"
   ]
  },
  {
   "cell_type": "code",
   "execution_count": 19,
   "id": "cef15454-e9c3-4deb-bc53-5b4998d494ed",
   "metadata": {},
   "outputs": [
    {
     "data": {
      "text/plain": [
       "str"
      ]
     },
     "execution_count": 19,
     "metadata": {},
     "output_type": "execute_result"
    }
   ],
   "source": [
    "type(name)\n"
   ]
  },
  {
   "cell_type": "code",
   "execution_count": 20,
   "id": "72a63f9e-081f-4271-ba66-3601f221ec86",
   "metadata": {},
   "outputs": [
    {
     "data": {
      "text/plain": [
       "int"
      ]
     },
     "execution_count": 20,
     "metadata": {},
     "output_type": "execute_result"
    }
   ],
   "source": [
    "type(int(name))"
   ]
  },
  {
   "cell_type": "code",
   "execution_count": null,
   "id": "9e7cdf7f-8e95-4c83-80f9-ac7c5da50870",
   "metadata": {},
   "outputs": [],
   "source": []
  }
 ],
 "metadata": {
  "kernelspec": {
   "display_name": "Python 3 (ipykernel)",
   "language": "python",
   "name": "python3"
  },
  "language_info": {
   "codemirror_mode": {
    "name": "ipython",
    "version": 3
   },
   "file_extension": ".py",
   "mimetype": "text/x-python",
   "name": "python",
   "nbconvert_exporter": "python",
   "pygments_lexer": "ipython3",
   "version": "3.12.8"
  }
 },
 "nbformat": 4,
 "nbformat_minor": 5
}
