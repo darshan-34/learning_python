{
 "cells": [
  {
   "cell_type": "code",
   "execution_count": 1,
   "id": "776feddd-cb35-4164-9cf1-1f2c096ddf35",
   "metadata": {},
   "outputs": [],
   "source": [
    "# class methods >> bound to the class (and not to a particular instance of the class), access/modify methods and attributes associated to the class\n",
    "# @classmethod decorator\n",
    "# instead of class, cls as first parameter\n",
    "# alternative of _init__method to pass the data"
   ]
  },
  {
   "cell_type": "code",
   "execution_count": 2,
   "id": "e7dfcf1e-fa03-42bb-81a5-f7a124885e61",
   "metadata": {},
   "outputs": [],
   "source": [
    "class Student:\n",
    "    #constructor >> constructing class with initialisation of variables/data\n",
    "    def __init__(self, name):\n",
    "        self.name = name\n",
    "        "
   ]
  },
  {
   "cell_type": "code",
   "execution_count": 3,
   "id": "f40cdd58-ca52-4e87-af25-3c9272f53949",
   "metadata": {},
   "outputs": [],
   "source": [
    "obj = Student(\"Ajay\")"
   ]
  },
  {
   "cell_type": "code",
   "execution_count": 4,
   "id": "ee610f2b-e467-48b2-a16c-c76af4e40dbf",
   "metadata": {},
   "outputs": [
    {
     "data": {
      "text/plain": [
       "'Ajay'"
      ]
     },
     "execution_count": 4,
     "metadata": {},
     "output_type": "execute_result"
    }
   ],
   "source": [
    "obj.name"
   ]
  },
  {
   "cell_type": "code",
   "execution_count": 69,
   "id": "33bb2254-59bc-4d3a-827a-57eef969423f",
   "metadata": {},
   "outputs": [],
   "source": [
    "class Student:\n",
    "    def __init__(self, name):\n",
    "        self.name = name # self means this variable/method is referring to current instance of the class \n",
    "    @classmethod # bound to the class\n",
    "    def student_details(cls, name): #instead of self as first parameter, you are using cls >> cls is directly referring to the class\n",
    "        return cls(name)"
   ]
  },
  {
   "cell_type": "code",
   "execution_count": 8,
   "id": "85f96dce-4487-4aff-9bce-d2c63450d69c",
   "metadata": {},
   "outputs": [],
   "source": [
    "# by referring to the class, it means\n",
    "# earlier to access any method/attribute >> first make instance/object of class\n",
    "# then obj.attribute\n",
    "# but, if it's class method you can directly access it"
   ]
  },
  {
   "cell_type": "code",
   "execution_count": 14,
   "id": "927bdee3-e659-4423-9dbe-53cfecfe2235",
   "metadata": {},
   "outputs": [],
   "source": [
    "obj1 = Student.student_details(\"Ajay\")\n",
    "# since, student_details directly binds to the class you can directly call it without making any object"
   ]
  },
  {
   "cell_type": "code",
   "execution_count": 15,
   "id": "755dbcbc-ed90-4bd4-b4ca-41ab1483ff93",
   "metadata": {},
   "outputs": [
    {
     "data": {
      "text/plain": [
       "'Ajay'"
      ]
     },
     "execution_count": 15,
     "metadata": {},
     "output_type": "execute_result"
    }
   ],
   "source": [
    "obj1.name"
   ]
  },
  {
   "cell_type": "code",
   "execution_count": 16,
   "id": "2f772b8d-9869-499d-8c00-8794f6610ca4",
   "metadata": {},
   "outputs": [],
   "source": [
    "# seeing class method as alternative of init method >> actually class method is overloading init method"
   ]
  },
  {
   "cell_type": "code",
   "execution_count": 24,
   "id": "dac2adde-1139-46b5-8fd0-bdc30e00e46a",
   "metadata": {},
   "outputs": [],
   "source": [
    "#how class method is overloading the init method?\n",
    "#modifying the instance method\n",
    "class Student:\n",
    "    def __init__(self, name1): #init method is an instance method\n",
    "        self.name = name1\n",
    "    @classmethod \n",
    "    def student_details(cls, name1): \n",
    "        return cls(name1)"
   ]
  },
  {
   "cell_type": "code",
   "execution_count": 25,
   "id": "60364bfd-5bbc-425e-9748-02efbd638fed",
   "metadata": {},
   "outputs": [],
   "source": [
    "stud = Student.student_details(\"Ajay\")"
   ]
  },
  {
   "cell_type": "code",
   "execution_count": 27,
   "id": "62d35e02-9204-4f5d-826d-cef3a6ce0181",
   "metadata": {},
   "outputs": [
    {
     "data": {
      "text/plain": [
       "'Ajay'"
      ]
     },
     "execution_count": 27,
     "metadata": {},
     "output_type": "execute_result"
    }
   ],
   "source": [
    "stud.name\n",
    "#you will get ajay inspite of the variable name\n",
    "#because it is overloading the init method >> alternative of init method"
   ]
  },
  {
   "cell_type": "code",
   "execution_count": 43,
   "id": "a77de02f-66b5-47ab-96bc-58ccdc1b1537",
   "metadata": {},
   "outputs": [],
   "source": [
    "# class method can modify class state applicabale to all the instances of the class\n",
    "class Student:\n",
    "\n",
    "    total_students = 0 #class variable\n",
    "    def __init__(self, name): #instance method\n",
    "        self.name = name #instance variable\n",
    "        Student.total_students = Student.total_students+1 #total student is the class variable associated with all the instances\n",
    "\n",
    "    @classmethod\n",
    "    def get_total_students(cls):\n",
    "        return cls.total_students"
   ]
  },
  {
   "cell_type": "code",
   "execution_count": 44,
   "id": "2bf56746-b144-4f2b-b51a-c92ac52b2249",
   "metadata": {},
   "outputs": [
    {
     "data": {
      "text/plain": [
       "0"
      ]
     },
     "execution_count": 44,
     "metadata": {},
     "output_type": "execute_result"
    }
   ],
   "source": [
    "Student.total_students"
   ]
  },
  {
   "cell_type": "code",
   "execution_count": 45,
   "id": "1089a882-a93b-44c1-867d-ff46e91dd3ce",
   "metadata": {},
   "outputs": [
    {
     "data": {
      "text/plain": [
       "2"
      ]
     },
     "execution_count": 45,
     "metadata": {},
     "output_type": "execute_result"
    }
   ],
   "source": [
    "std1 = Student(\"Ajay\")\n",
    "std2 = Student(\"Binay\")\n",
    "Student.total_students"
   ]
  },
  {
   "cell_type": "code",
   "execution_count": 46,
   "id": "db05cc5e-f5f0-4f63-b3d4-269eb7d0e249",
   "metadata": {},
   "outputs": [
    {
     "data": {
      "text/plain": [
       "2"
      ]
     },
     "execution_count": 46,
     "metadata": {},
     "output_type": "execute_result"
    }
   ],
   "source": [
    "Student.get_total_students()"
   ]
  },
  {
   "cell_type": "code",
   "execution_count": 47,
   "id": "258b0a2b-91d4-432b-b996-53586a7af5bb",
   "metadata": {},
   "outputs": [
    {
     "data": {
      "text/plain": [
       "2"
      ]
     },
     "execution_count": 47,
     "metadata": {},
     "output_type": "execute_result"
    }
   ],
   "source": [
    "Student.total_students"
   ]
  },
  {
   "cell_type": "code",
   "execution_count": 48,
   "id": "2c1be44e-9b84-47fa-a9b1-f03ec76a785d",
   "metadata": {},
   "outputs": [],
   "source": [
    "#to make external function as class method\n",
    "class Student:\n",
    "\n",
    "    total_students = 0 #class variable\n",
    "    def __init__(self, name): #instance method\n",
    "        self.name = name #instance variable\n",
    "        Student.total_students = Student.total_students+1 #total student is the class variable associated with all the instances\n",
    "\n",
    "    @classmethod\n",
    "    def get_total_students(cls):\n",
    "        return cls.total_students"
   ]
  },
  {
   "cell_type": "code",
   "execution_count": 49,
   "id": "5934d669-d41f-45d2-913d-e962a1d1b8cd",
   "metadata": {},
   "outputs": [],
   "source": [
    "def course_details(cls, course_name):\n",
    "    print(\"The details of the course are : \", course_name)"
   ]
  },
  {
   "cell_type": "code",
   "execution_count": 50,
   "id": "f838bfa2-9c94-4356-a0ac-dfffe5f178e7",
   "metadata": {},
   "outputs": [],
   "source": [
    "Student.course_details = classmethod(course_details)"
   ]
  },
  {
   "cell_type": "code",
   "execution_count": 51,
   "id": "1894d95a-c38c-4d8f-b9b1-d24524b61a5a",
   "metadata": {},
   "outputs": [
    {
     "name": "stdout",
     "output_type": "stream",
     "text": [
      "The details of the course are :  Data Science\n"
     ]
    }
   ],
   "source": [
    "Student.course_details(\"Data Science\")"
   ]
  },
  {
   "cell_type": "code",
   "execution_count": 52,
   "id": "fef06f15-2059-467b-a098-2e6e8dc9487d",
   "metadata": {},
   "outputs": [],
   "source": [
    "# delete any class method\n",
    "del Student.course_details"
   ]
  },
  {
   "cell_type": "code",
   "execution_count": 53,
   "id": "dddb4e7b-ae5a-4f35-bab6-56d14c3f53e5",
   "metadata": {},
   "outputs": [
    {
     "ename": "AttributeError",
     "evalue": "type object 'Student' has no attribute 'course_details'",
     "output_type": "error",
     "traceback": [
      "\u001b[1;31m---------------------------------------------------------------------------\u001b[0m",
      "\u001b[1;31mAttributeError\u001b[0m                            Traceback (most recent call last)",
      "Cell \u001b[1;32mIn[53], line 1\u001b[0m\n\u001b[1;32m----> 1\u001b[0m \u001b[43mStudent\u001b[49m\u001b[38;5;241;43m.\u001b[39;49m\u001b[43mcourse_details\u001b[49m(\u001b[38;5;124m\"\u001b[39m\u001b[38;5;124mData Science\u001b[39m\u001b[38;5;124m\"\u001b[39m)\n",
      "\u001b[1;31mAttributeError\u001b[0m: type object 'Student' has no attribute 'course_details'"
     ]
    }
   ],
   "source": [
    "Student.course_details(\"Data Science\")"
   ]
  },
  {
   "cell_type": "code",
   "execution_count": 54,
   "id": "023618a6-f4e8-46f8-8e6c-f2050e5ec3ec",
   "metadata": {},
   "outputs": [
    {
     "data": {
      "text/plain": [
       "0"
      ]
     },
     "execution_count": 54,
     "metadata": {},
     "output_type": "execute_result"
    }
   ],
   "source": [
    "Student.get_total_students()"
   ]
  },
  {
   "cell_type": "code",
   "execution_count": 55,
   "id": "8b7e8c29-8652-45bc-ae76-b7d3e65cf024",
   "metadata": {},
   "outputs": [],
   "source": [
    "#another way to delete\n",
    "delattr(Student, \"get_total_students\")"
   ]
  },
  {
   "cell_type": "code",
   "execution_count": 56,
   "id": "e004194b-b451-4e70-b37a-c622ca331c9d",
   "metadata": {},
   "outputs": [
    {
     "ename": "AttributeError",
     "evalue": "type object 'Student' has no attribute 'get_total_students'",
     "output_type": "error",
     "traceback": [
      "\u001b[1;31m---------------------------------------------------------------------------\u001b[0m",
      "\u001b[1;31mAttributeError\u001b[0m                            Traceback (most recent call last)",
      "Cell \u001b[1;32mIn[56], line 1\u001b[0m\n\u001b[1;32m----> 1\u001b[0m \u001b[43mStudent\u001b[49m\u001b[38;5;241;43m.\u001b[39;49m\u001b[43mget_total_students\u001b[49m()\n",
      "\u001b[1;31mAttributeError\u001b[0m: type object 'Student' has no attribute 'get_total_students'"
     ]
    }
   ],
   "source": [
    "Student.get_total_students()"
   ]
  },
  {
   "cell_type": "code",
   "execution_count": 65,
   "id": "cf102762-8231-4093-9833-e0a4994463ea",
   "metadata": {},
   "outputs": [],
   "source": [
    "# static method\n",
    "# does not modify the class/instance state\n",
    "# doesn't access class/instance state\n",
    "# doesn't access instance or class state\n",
    "# it behaves like a plain function that belongs to class\n",
    "# it doesn't take either self or cls\n",
    "# works with parameters passed\n",
    "# @staticmethod is used"
   ]
  },
  {
   "cell_type": "code",
   "execution_count": 66,
   "id": "9345d7b9-c50a-467e-b49b-cfdcf18ccb2b",
   "metadata": {},
   "outputs": [],
   "source": [
    "class Calculator:\n",
    "\n",
    "    @staticmethod\n",
    "    def add(x,y):\n",
    "        return x+y\n",
    "        \n",
    "    @staticmethod\n",
    "    def subtract(x,y):\n",
    "        return x-y"
   ]
  },
  {
   "cell_type": "code",
   "execution_count": 67,
   "id": "b230da30-61f9-4d10-91b6-0ab3e8ea975a",
   "metadata": {},
   "outputs": [
    {
     "data": {
      "text/plain": [
       "11"
      ]
     },
     "execution_count": 67,
     "metadata": {},
     "output_type": "execute_result"
    }
   ],
   "source": [
    "Calculator.add(5,6)"
   ]
  },
  {
   "cell_type": "code",
   "execution_count": 68,
   "id": "4a83fb53-1b52-4716-a023-df75a633bfac",
   "metadata": {},
   "outputs": [
    {
     "data": {
      "text/plain": [
       "-274"
      ]
     },
     "execution_count": 68,
     "metadata": {},
     "output_type": "execute_result"
    }
   ],
   "source": [
    "Calculator.subtract(9,283)"
   ]
  },
  {
   "cell_type": "code",
   "execution_count": null,
   "id": "149e7bf3-bba5-4738-afe4-0b95415bc3b9",
   "metadata": {},
   "outputs": [],
   "source": []
  },
  {
   "cell_type": "code",
   "execution_count": null,
   "id": "b19b0b9d-2482-4739-b9cf-7d57677cf6dc",
   "metadata": {},
   "outputs": [],
   "source": []
  }
 ],
 "metadata": {
  "kernelspec": {
   "display_name": "Python 3 (ipykernel)",
   "language": "python",
   "name": "python3"
  },
  "language_info": {
   "codemirror_mode": {
    "name": "ipython",
    "version": 3
   },
   "file_extension": ".py",
   "mimetype": "text/x-python",
   "name": "python",
   "nbconvert_exporter": "python",
   "pygments_lexer": "ipython3",
   "version": "3.13.1"
  }
 },
 "nbformat": 4,
 "nbformat_minor": 5
}
