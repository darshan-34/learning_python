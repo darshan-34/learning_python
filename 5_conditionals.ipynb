{
 "cells": [
  {
   "cell_type": "code",
   "execution_count": 1,
   "id": "8a8af86a-60c0-4302-b3ae-671d28b3c32d",
   "metadata": {},
   "outputs": [],
   "source": [
    "#conditional statements >> i will play cricket when the weather is sunny\n",
    "#loop statements >> i will keep checking out the dishes unitl all the dishes are over in a buffet\n",
    "#break statements >> i will check out all the dishes unitl i get biriyani"
   ]
  },
  {
   "cell_type": "code",
   "execution_count": 2,
   "id": "fe4dc6c6-4218-4d47-bdc9-6caed07aed6a",
   "metadata": {},
   "outputs": [],
   "source": [
    "#conditional statements >> helps you to code decisions based on some pre-conditions\n",
    "#if\n",
    "#if else\n",
    "#if elif else\n",
    "#nested if else"
   ]
  },
  {
   "cell_type": "code",
   "execution_count": 3,
   "id": "2849da4c-961e-4fb9-8c1e-ac62426007b9",
   "metadata": {},
   "outputs": [],
   "source": [
    "#if statements\n",
    "#syntax\n",
    "# if condition:\n",
    "#     block of code will be executed"
   ]
  },
  {
   "cell_type": "code",
   "execution_count": 9,
   "id": "41adbc02-467d-4265-a05b-63c94bc855f4",
   "metadata": {},
   "outputs": [],
   "source": [
    "a = 100\n",
    "if a < 11:\n",
    "    print(\"The number is beyond 11\")"
   ]
  },
  {
   "cell_type": "code",
   "execution_count": 11,
   "id": "7258ebaa-824f-4048-8bb0-ebfb38df896a",
   "metadata": {},
   "outputs": [
    {
     "name": "stdout",
     "output_type": "stream",
     "text": [
      "It's safe to stay indoors\n"
     ]
    }
   ],
   "source": [
    "weather = \"stormy\"\n",
    "if weather == \"stormy\":\n",
    "    print(\"It's safe to stay indoors\")"
   ]
  },
  {
   "cell_type": "code",
   "execution_count": 13,
   "id": "6365da66-1bcf-4a3a-a6ca-48a789107bac",
   "metadata": {},
   "outputs": [
    {
     "name": "stdout",
     "output_type": "stream",
     "text": [
      "You are existing and surviving\n"
     ]
    }
   ],
   "source": [
    "is_exist = True\n",
    "if is_exist:\n",
    "    print(\"You are existing and surviving\")"
   ]
  },
  {
   "cell_type": "code",
   "execution_count": 14,
   "id": "5484fa3f-74d1-40f1-9d94-621f9066d175",
   "metadata": {},
   "outputs": [
    {
     "name": "stdout",
     "output_type": "stream",
     "text": [
      "This number is accepted\n"
     ]
    }
   ],
   "source": [
    "#multiple conditions\n",
    "number = 34\n",
    "if ((number % 2 == 0) & (number < 100)):\n",
    "    print(\"This number is accepted\")\n",
    "# here the \"&\" in the condition can be replaced with \"and\"\n",
    "# both serve the same purpose"
   ]
  },
  {
   "cell_type": "code",
   "execution_count": 15,
   "id": "a8880a9e-be48-44da-809a-c6622c43348d",
   "metadata": {},
   "outputs": [],
   "source": [
    "#if else statement"
   ]
  },
  {
   "cell_type": "code",
   "execution_count": 16,
   "id": "ade04633-cedb-4dd3-854c-9178f794cb23",
   "metadata": {},
   "outputs": [
    {
     "name": "stdout",
     "output_type": "stream",
     "text": [
      "I will play cricket\n"
     ]
    }
   ],
   "source": [
    "weather = \"sunny\"\n",
    "if weather == \"sunny\":\n",
    "    print(\"I will play cricket\")\n",
    "else:\n",
    "    print(\"I will watch TV, staying at home\")"
   ]
  },
  {
   "cell_type": "code",
   "execution_count": 19,
   "id": "d7ddddbb-4e31-4498-8b42-060cbd6443cd",
   "metadata": {},
   "outputs": [
    {
     "name": "stdout",
     "output_type": "stream",
     "text": [
      "you are not monitoring properly\n"
     ]
    }
   ],
   "source": [
    "is_watch = False\n",
    "if is_watch:\n",
    "    print(\"you are watching it good\")\n",
    "else:\n",
    "    print(\"you are not monitoring properly\")"
   ]
  },
  {
   "cell_type": "code",
   "execution_count": 20,
   "id": "09cc3f38-f7ae-498d-9f41-cf317a9b1cd2",
   "metadata": {},
   "outputs": [],
   "source": [
    "#if elif statement"
   ]
  },
  {
   "cell_type": "code",
   "execution_count": 22,
   "id": "ab4646cb-cc01-4378-af67-5e956b40134f",
   "metadata": {},
   "outputs": [
    {
     "name": "stdout",
     "output_type": "stream",
     "text": [
      "122 is positive\n"
     ]
    }
   ],
   "source": [
    "num = 122\n",
    "if num > 0:\n",
    "    print(f\"{num} is positive\")\n",
    "elif num < 0:\n",
    "    print(f\"{num} is negative\")\n",
    "else:\n",
    "    print(f\"{num} is neither positive nor negative. it is zero\")          "
   ]
  },
  {
   "cell_type": "code",
   "execution_count": 23,
   "id": "763962f5-b85f-4b5d-a0c8-b853bd676681",
   "metadata": {},
   "outputs": [
    {
     "name": "stdout",
     "output_type": "stream",
     "text": [
      "----GRADE----\n",
      "F meaning Marks are not everything.\n"
     ]
    }
   ],
   "source": [
    "score = 43\n",
    "print(\"----GRADE----\")\n",
    "if score >= 90:\n",
    "    print(\"S\")\n",
    "elif 80<=score<90:\n",
    "    print(\"A\")\n",
    "elif 70<=score<80:\n",
    "    print(\"B\")\n",
    "elif 60<=score<70:\n",
    "    print(\"C\")\n",
    "elif 55<=score<60:\n",
    "    print(\"D\")\n",
    "elif 50<=score<55:\n",
    "    print(\"A\")\n",
    "else:\n",
    "    print(\"F meaning Marks are not everything.\")"
   ]
  },
  {
   "cell_type": "code",
   "execution_count": 24,
   "id": "1008c6c3-3f77-437e-b238-ad8334e77992",
   "metadata": {},
   "outputs": [],
   "source": [
    "#nested if else"
   ]
  },
  {
   "cell_type": "code",
   "execution_count": 25,
   "id": "6ee3b630-ef49-4bd6-a414-0c3399e04573",
   "metadata": {},
   "outputs": [
    {
     "name": "stdin",
     "output_type": "stream",
     "text": [
      "Enter a year 4000\n"
     ]
    },
    {
     "name": "stdout",
     "output_type": "stream",
     "text": [
      "4000 is a leap year\n"
     ]
    }
   ],
   "source": [
    "year = int(input(\"Enter a year\"))\n",
    "if year%100 == 0:\n",
    "    if year%4 == 0:\n",
    "        print(f\"{year} is a leap year\")\n",
    "    else:\n",
    "        print(f\"{year} is not a leap year\")\n",
    "elif year%4 == 0:\n",
    "    print(f\"{year} is a leap year\")\n",
    "else:\n",
    "    print(f\"{year} is not a leap year\")"
   ]
  },
  {
   "cell_type": "code",
   "execution_count": null,
   "id": "2c89e670-12fd-476e-b01c-e9df00366550",
   "metadata": {},
   "outputs": [],
   "source": []
  }
 ],
 "metadata": {
  "kernelspec": {
   "display_name": "Python 3 (ipykernel)",
   "language": "python",
   "name": "python3"
  },
  "language_info": {
   "codemirror_mode": {
    "name": "ipython",
    "version": 3
   },
   "file_extension": ".py",
   "mimetype": "text/x-python",
   "name": "python",
   "nbconvert_exporter": "python",
   "pygments_lexer": "ipython3",
   "version": "3.12.8"
  }
 },
 "nbformat": 4,
 "nbformat_minor": 5
}
