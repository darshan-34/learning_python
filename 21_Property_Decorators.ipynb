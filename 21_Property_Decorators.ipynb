{
 "cells": [
  {
   "cell_type": "code",
   "execution_count": 1,
   "id": "fac09f97-2829-4c44-93f6-d88fac0ccd8d",
   "metadata": {},
   "outputs": [],
   "source": [
    "# PROPERTY DECORATORS >> you are allowed to use class method as an attribute"
   ]
  },
  {
   "cell_type": "code",
   "execution_count": 2,
   "id": "d135c337-bfbc-4444-a52a-972e8a301df3",
   "metadata": {},
   "outputs": [],
   "source": [
    "class Student:\n",
    "    def __init__(self, name, price):\n",
    "        self.__name = name\n",
    "        self.__price = price"
   ]
  },
  {
   "cell_type": "code",
   "execution_count": 3,
   "id": "f6935284-a4ab-4a8c-8f81-9f7404e7f0f0",
   "metadata": {},
   "outputs": [],
   "source": [
    "# name and price are private variables which you cannot access\n",
    "# outside the class"
   ]
  },
  {
   "cell_type": "code",
   "execution_count": 4,
   "id": "cbd618a4-b374-492b-bbfb-1908308296f9",
   "metadata": {},
   "outputs": [],
   "source": [
    "stud = Student(\"Ajay\", 3928)"
   ]
  },
  {
   "cell_type": "code",
   "execution_count": 5,
   "id": "dc462f7a-d351-4f2a-ae8a-01bc043c400b",
   "metadata": {},
   "outputs": [
    {
     "ename": "AttributeError",
     "evalue": "'Student' object has no attribute 'name'",
     "output_type": "error",
     "traceback": [
      "\u001b[1;31m---------------------------------------------------------------------------\u001b[0m",
      "\u001b[1;31mAttributeError\u001b[0m                            Traceback (most recent call last)",
      "Cell \u001b[1;32mIn[5], line 1\u001b[0m\n\u001b[1;32m----> 1\u001b[0m \u001b[43mstud\u001b[49m\u001b[38;5;241;43m.\u001b[39;49m\u001b[43mname\u001b[49m\n",
      "\u001b[1;31mAttributeError\u001b[0m: 'Student' object has no attribute 'name'"
     ]
    }
   ],
   "source": [
    "stud.name"
   ]
  },
  {
   "cell_type": "code",
   "execution_count": 7,
   "id": "d44a85ee-70fa-4ed2-a9f8-5e24ce39edb3",
   "metadata": {},
   "outputs": [
    {
     "data": {
      "text/plain": [
       "'Ajay'"
      ]
     },
     "execution_count": 7,
     "metadata": {},
     "output_type": "execute_result"
    }
   ],
   "source": [
    "stud._Student__name\n",
    "# if we know the class name, the private variable can be accessed"
   ]
  },
  {
   "cell_type": "code",
   "execution_count": 8,
   "id": "d2b7e3e0-b052-401d-aa61-d4ea04b1ddbc",
   "metadata": {},
   "outputs": [],
   "source": [
    "# another way to expose private variables is using,\n",
    "# property decorators\n",
    "\n",
    "class Student:\n",
    "    def __init__(self, name, price):\n",
    "        self.__name = name\n",
    "        self.__price = price\n",
    "        \n",
    "    @property\n",
    "    def access_price(self):\n",
    "        return self.__price"
   ]
  },
  {
   "cell_type": "code",
   "execution_count": 9,
   "id": "99c9429e-0e5f-4915-b593-c104143b5285",
   "metadata": {},
   "outputs": [],
   "source": [
    "stud = Student(\"Sanjeevi\", 34820)"
   ]
  },
  {
   "cell_type": "code",
   "execution_count": 11,
   "id": "2d8f97f0-8a1e-4697-bed3-967ef5a43909",
   "metadata": {},
   "outputs": [
    {
     "data": {
      "text/plain": [
       "34820"
      ]
     },
     "execution_count": 11,
     "metadata": {},
     "output_type": "execute_result"
    }
   ],
   "source": [
    "stud.access_price\n",
    "#accessing method as attribute"
   ]
  },
  {
   "cell_type": "code",
   "execution_count": 21,
   "id": "25f162de-e2a0-4b81-89d7-24f4a2b96b10",
   "metadata": {},
   "outputs": [],
   "source": [
    "# setter \n",
    "class Student:\n",
    "    def __init__(self, name, price):\n",
    "        self.__name = name\n",
    "        self.__price = price\n",
    "        \n",
    "    @property\n",
    "    def access_price(self):\n",
    "        return self.__price\n",
    "        \n",
    "    @access_price.setter\n",
    "    def price_set(self, price_new):\n",
    "        self.__price = price_new"
   ]
  },
  {
   "cell_type": "code",
   "execution_count": 17,
   "id": "5e44eb66-585c-4d92-a3ab-9c1b52673e5f",
   "metadata": {},
   "outputs": [],
   "source": [
    "stud = Student(\"logi\", 899)"
   ]
  },
  {
   "cell_type": "code",
   "execution_count": 18,
   "id": "8882705d-3207-4d85-bf38-d6868c173215",
   "metadata": {},
   "outputs": [
    {
     "data": {
      "text/plain": [
       "899"
      ]
     },
     "execution_count": 18,
     "metadata": {},
     "output_type": "execute_result"
    }
   ],
   "source": [
    "stud.access_price"
   ]
  },
  {
   "cell_type": "code",
   "execution_count": 19,
   "id": "f796231f-9956-408c-923b-d6e67c7d09e3",
   "metadata": {},
   "outputs": [],
   "source": [
    "stud.price_set = 382"
   ]
  },
  {
   "cell_type": "code",
   "execution_count": 20,
   "id": "6450352a-63fd-4657-aea7-3f5b8426c052",
   "metadata": {},
   "outputs": [
    {
     "data": {
      "text/plain": [
       "382"
      ]
     },
     "execution_count": 20,
     "metadata": {},
     "output_type": "execute_result"
    }
   ],
   "source": [
    "stud.access_price"
   ]
  },
  {
   "cell_type": "code",
   "execution_count": 60,
   "id": "6a107079-24b7-440e-a8b9-9e3e3d45817b",
   "metadata": {},
   "outputs": [],
   "source": [
    "# deleter\n",
    "\n",
    "class Student:\n",
    "    def __init__(self, name, price):\n",
    "        self.__name = name\n",
    "        self.__price = price\n",
    "        \n",
    "    @property\n",
    "    def access_price(self):\n",
    "        return self.__price\n",
    "        \n",
    "    @access_price.setter\n",
    "    def access_price(self, price_new):\n",
    "        self.__price = price_new\n",
    "\n",
    "    @access_price.deleter\n",
    "    def access_price(self):\n",
    "        del self.__price"
   ]
  },
  {
   "cell_type": "code",
   "execution_count": 61,
   "id": "6e0a1dc5-3755-4ea5-9cfb-caba08637681",
   "metadata": {},
   "outputs": [],
   "source": [
    "stud = Student(\"logi\", 899)"
   ]
  },
  {
   "cell_type": "code",
   "execution_count": 62,
   "id": "d5d80897-65f7-422b-a8b2-20f74a63207f",
   "metadata": {},
   "outputs": [
    {
     "data": {
      "text/plain": [
       "899"
      ]
     },
     "execution_count": 62,
     "metadata": {},
     "output_type": "execute_result"
    }
   ],
   "source": [
    "stud.access_price"
   ]
  },
  {
   "cell_type": "code",
   "execution_count": 63,
   "id": "e512a47d-1df1-4f28-8353-220292342cc3",
   "metadata": {},
   "outputs": [],
   "source": [
    "stud.price_set = 382939"
   ]
  },
  {
   "cell_type": "code",
   "execution_count": 64,
   "id": "4f257015-75b1-4d31-999c-88cd9c715629",
   "metadata": {},
   "outputs": [
    {
     "data": {
      "text/plain": [
       "899"
      ]
     },
     "execution_count": 64,
     "metadata": {},
     "output_type": "execute_result"
    }
   ],
   "source": [
    "stud.access_price"
   ]
  },
  {
   "cell_type": "code",
   "execution_count": 65,
   "id": "1cc8e5b2-fe7e-4e65-8bd0-2a80f11859fa",
   "metadata": {},
   "outputs": [],
   "source": [
    "del stud.access_price"
   ]
  },
  {
   "cell_type": "code",
   "execution_count": 66,
   "id": "e7316525-3fb7-40f0-9cc2-36679c4d120f",
   "metadata": {},
   "outputs": [
    {
     "ename": "AttributeError",
     "evalue": "'Student' object has no attribute '_Student__price'",
     "output_type": "error",
     "traceback": [
      "\u001b[1;31m---------------------------------------------------------------------------\u001b[0m",
      "\u001b[1;31mAttributeError\u001b[0m                            Traceback (most recent call last)",
      "Cell \u001b[1;32mIn[66], line 1\u001b[0m\n\u001b[1;32m----> 1\u001b[0m \u001b[43mstud\u001b[49m\u001b[38;5;241;43m.\u001b[39;49m\u001b[43maccess_price\u001b[49m\n",
      "Cell \u001b[1;32mIn[60], line 10\u001b[0m, in \u001b[0;36mStudent.access_price\u001b[1;34m(self)\u001b[0m\n\u001b[0;32m      8\u001b[0m \u001b[38;5;129m@property\u001b[39m\n\u001b[0;32m      9\u001b[0m \u001b[38;5;28;01mdef\u001b[39;00m \u001b[38;5;21maccess_price\u001b[39m(\u001b[38;5;28mself\u001b[39m):\n\u001b[1;32m---> 10\u001b[0m     \u001b[38;5;28;01mreturn\u001b[39;00m \u001b[38;5;28;43mself\u001b[39;49m\u001b[38;5;241;43m.\u001b[39;49m\u001b[43m__price\u001b[49m\n",
      "\u001b[1;31mAttributeError\u001b[0m: 'Student' object has no attribute '_Student__price'"
     ]
    }
   ],
   "source": [
    "stud.access_price"
   ]
  },
  {
   "cell_type": "code",
   "execution_count": 67,
   "id": "a8c6481d-2b43-46e1-a832-e9e1d9008e4e",
   "metadata": {},
   "outputs": [],
   "source": [
    "# use case\n",
    "class Circle:\n",
    "    def __init__(self, radius):\n",
    "        self.__radius = radius\n",
    "\n",
    "    @property\n",
    "    def radius(self):\n",
    "        return self.__radius"
   ]
  },
  {
   "cell_type": "code",
   "execution_count": 46,
   "id": "3122406a-64c3-46ea-8504-772ab7bff944",
   "metadata": {},
   "outputs": [],
   "source": [
    "c = Circle(5)"
   ]
  },
  {
   "cell_type": "code",
   "execution_count": 47,
   "id": "65042139-6b78-4224-809e-54e56b51ae62",
   "metadata": {},
   "outputs": [
    {
     "data": {
      "text/plain": [
       "5"
      ]
     },
     "execution_count": 47,
     "metadata": {},
     "output_type": "execute_result"
    }
   ],
   "source": [
    "c.radius"
   ]
  },
  {
   "cell_type": "code",
   "execution_count": 49,
   "id": "17e73599-d51e-408f-8df2-223983293326",
   "metadata": {},
   "outputs": [],
   "source": [
    "class Circle:\n",
    "    def __init__(self, radius):\n",
    "        self.__radius = radius\n",
    "\n",
    "    @property\n",
    "    def radius(self):\n",
    "        return self.__radius\n",
    "\n",
    "    @radius.setter\n",
    "    def radius(self, value):\n",
    "        if value <= 0:\n",
    "            raise ValueError(\"Radius is not positive\")\n",
    "        self.__radius = value\n",
    "    def area(self):\n",
    "        return 3.14*self.__radius**2"
   ]
  },
  {
   "cell_type": "code",
   "execution_count": 50,
   "id": "216b6279-88f2-4b6e-82cb-853b621c86b6",
   "metadata": {},
   "outputs": [],
   "source": [
    "c = Circle(5)"
   ]
  },
  {
   "cell_type": "code",
   "execution_count": 51,
   "id": "d8884fba-6c46-46da-af74-c8909d7d1405",
   "metadata": {},
   "outputs": [
    {
     "data": {
      "text/plain": [
       "5"
      ]
     },
     "execution_count": 51,
     "metadata": {},
     "output_type": "execute_result"
    }
   ],
   "source": [
    "c.radius"
   ]
  },
  {
   "cell_type": "code",
   "execution_count": 52,
   "id": "db718aec-5ab6-44e6-8fb4-c3746454e1ca",
   "metadata": {},
   "outputs": [],
   "source": [
    "c.radius = 10"
   ]
  },
  {
   "cell_type": "code",
   "execution_count": 53,
   "id": "73068fac-e36b-4979-91ff-332c45596523",
   "metadata": {},
   "outputs": [
    {
     "data": {
      "text/plain": [
       "10"
      ]
     },
     "execution_count": 53,
     "metadata": {},
     "output_type": "execute_result"
    }
   ],
   "source": [
    "c.radius"
   ]
  },
  {
   "cell_type": "code",
   "execution_count": 54,
   "id": "44752bc9-869f-46f3-a5d0-fcf343906b52",
   "metadata": {},
   "outputs": [
    {
     "data": {
      "text/plain": [
       "314.0"
      ]
     },
     "execution_count": 54,
     "metadata": {},
     "output_type": "execute_result"
    }
   ],
   "source": [
    "c.area()"
   ]
  },
  {
   "cell_type": "code",
   "execution_count": 55,
   "id": "906f10da-9b5e-41aa-b450-665ba217199c",
   "metadata": {},
   "outputs": [],
   "source": [
    "class Circle:\n",
    "    def __init__(self, radius):\n",
    "        self.__radius = radius\n",
    "\n",
    "    @property\n",
    "    def radius(self):\n",
    "        return self.__radius\n",
    "\n",
    "    @radius.setter\n",
    "    def radius(self, value):\n",
    "        if value <= 0:\n",
    "            raise ValueError(\"Radius is not positive\")\n",
    "        self.__radius = value\n",
    "\n",
    "    @radius.deleter\n",
    "    def radius(self):\n",
    "        del self.__radius\n",
    "        \n",
    "    def area(self):\n",
    "        return 3.14*self.__radius**2"
   ]
  },
  {
   "cell_type": "code",
   "execution_count": 56,
   "id": "502e77fb-4a9d-4e65-8900-1872e8a7e30e",
   "metadata": {},
   "outputs": [
    {
     "data": {
      "text/plain": [
       "78.5"
      ]
     },
     "execution_count": 56,
     "metadata": {},
     "output_type": "execute_result"
    }
   ],
   "source": [
    "c = Circle(5)\n",
    "c.area()"
   ]
  },
  {
   "cell_type": "code",
   "execution_count": 57,
   "id": "c1a6b593-c05e-412f-a949-3bc79cc69f22",
   "metadata": {},
   "outputs": [
    {
     "data": {
      "text/plain": [
       "5"
      ]
     },
     "execution_count": 57,
     "metadata": {},
     "output_type": "execute_result"
    }
   ],
   "source": [
    "c.radius"
   ]
  },
  {
   "cell_type": "code",
   "execution_count": 58,
   "id": "a5eadb4c-bcf0-4c48-9d8e-d01854bbf390",
   "metadata": {},
   "outputs": [],
   "source": [
    "del c.radius"
   ]
  },
  {
   "cell_type": "code",
   "execution_count": 59,
   "id": "c3733dfc-4103-4fc3-a2e2-7da09524074f",
   "metadata": {},
   "outputs": [
    {
     "ename": "AttributeError",
     "evalue": "'Circle' object has no attribute '_Circle__radius'",
     "output_type": "error",
     "traceback": [
      "\u001b[1;31m---------------------------------------------------------------------------\u001b[0m",
      "\u001b[1;31mAttributeError\u001b[0m                            Traceback (most recent call last)",
      "Cell \u001b[1;32mIn[59], line 1\u001b[0m\n\u001b[1;32m----> 1\u001b[0m \u001b[43mc\u001b[49m\u001b[38;5;241;43m.\u001b[39;49m\u001b[43mradius\u001b[49m\n",
      "Cell \u001b[1;32mIn[55], line 7\u001b[0m, in \u001b[0;36mCircle.radius\u001b[1;34m(self)\u001b[0m\n\u001b[0;32m      5\u001b[0m \u001b[38;5;129m@property\u001b[39m\n\u001b[0;32m      6\u001b[0m \u001b[38;5;28;01mdef\u001b[39;00m \u001b[38;5;21mradius\u001b[39m(\u001b[38;5;28mself\u001b[39m):\n\u001b[1;32m----> 7\u001b[0m     \u001b[38;5;28;01mreturn\u001b[39;00m \u001b[38;5;28;43mself\u001b[39;49m\u001b[38;5;241;43m.\u001b[39;49m\u001b[43m__radius\u001b[49m\n",
      "\u001b[1;31mAttributeError\u001b[0m: 'Circle' object has no attribute '_Circle__radius'"
     ]
    }
   ],
   "source": [
    "c.radius"
   ]
  },
  {
   "cell_type": "code",
   "execution_count": null,
   "id": "3bf78baa-d188-4c3a-938b-d7317ae0c9fa",
   "metadata": {},
   "outputs": [],
   "source": []
  }
 ],
 "metadata": {
  "kernelspec": {
   "display_name": "Python 3 (ipykernel)",
   "language": "python",
   "name": "python3"
  },
  "language_info": {
   "codemirror_mode": {
    "name": "ipython",
    "version": 3
   },
   "file_extension": ".py",
   "mimetype": "text/x-python",
   "name": "python",
   "nbconvert_exporter": "python",
   "pygments_lexer": "ipython3",
   "version": "3.13.1"
  }
 },
 "nbformat": 4,
 "nbformat_minor": 5
}
